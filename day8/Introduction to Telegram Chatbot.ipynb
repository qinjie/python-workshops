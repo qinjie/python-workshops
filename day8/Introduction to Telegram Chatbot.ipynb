{
 "cells": [
  {
   "cell_type": "markdown",
   "metadata": {},
   "source": [
    "# Introduction to Telegram Chatbot"
   ]
  },
  {
   "cell_type": "markdown",
   "metadata": {},
   "source": [
    "## 1. Telegram Chatbot"
   ]
  },
  {
   "cell_type": "markdown",
   "metadata": {},
   "source": [
    "### How it works\n",
    "\n",
    "<img src=\"./images/telegram_chatbot.png\" width=500 />"
   ]
  },
  {
   "cell_type": "markdown",
   "metadata": {},
   "source": [
    "### Create a Chatbot\n",
    "\n",
    "#### Register Account\n",
    "* Download telegram app on your mobile phone\n",
    "* Register an account with your phone number\n",
    "\n",
    "#### Telegram Web App\n",
    "* Go to https://web.telegram.org/\n",
    "* Login with your phone number\n",
    "* Search for `BotFather`\n",
    "\n",
    "<img src=\"./images/botfather.png\" width=300/>"
   ]
  },
  {
   "cell_type": "markdown",
   "metadata": {},
   "source": [
    "#### Talk to BotFather\n",
    "\n",
    "**BotFather** is a chatbot to create and manage chatbots. Chat with BotFather to create your own bot.\n",
    "\n",
    "* Send message `/start` to get started.\n",
    "    * BotFather will reply with list of commands which he can understand. \n",
    "* Send message `/newbot` to create a new bot.\n",
    "    * Enter a `Name` for the bot, e.g. `<Your Name>'s Bot`\n",
    "    * Enter a `username` for the bot, which must **end in `\"bot\"`** and must be **unique** among all bots.\n",
    "* BotFather will reply with a API Token for your bot.\n",
    "* Send message `/mybots` to list your bots.\n"
   ]
  },
  {
   "cell_type": "markdown",
   "metadata": {},
   "source": [
    "### Library `python-telegram-bot`\n",
    "\n",
    "Telegram app provides an interface between your bot and users. To make your bot repsond to user, you need to implment a backend which will monitor user's input and respond accordingly"
   ]
  },
  {
   "cell_type": "markdown",
   "metadata": {},
   "source": [
    "Install Python library `python-telegram-bot`."
   ]
  },
  {
   "cell_type": "code",
   "execution_count": 18,
   "metadata": {},
   "outputs": [
    {
     "name": "stdout",
     "output_type": "stream",
     "text": [
      "Requirement already up-to-date: python-telegram-bot in c:\\users\\isszq\\anaconda3\\lib\\site-packages (12.8)\n",
      "Requirement already satisfied, skipping upgrade: decorator>=4.4.0 in c:\\users\\isszq\\anaconda3\\lib\\site-packages (from python-telegram-bot) (4.4.1)\n",
      "Requirement already satisfied, skipping upgrade: certifi in c:\\users\\isszq\\anaconda3\\lib\\site-packages (from python-telegram-bot) (2019.11.28)\n",
      "Requirement already satisfied, skipping upgrade: cryptography in c:\\users\\isszq\\anaconda3\\lib\\site-packages (from python-telegram-bot) (2.8)\n",
      "Requirement already satisfied, skipping upgrade: tornado>=5.1 in c:\\users\\isszq\\anaconda3\\lib\\site-packages (from python-telegram-bot) (6.0.3)\n",
      "Requirement already satisfied, skipping upgrade: six>=1.4.1 in c:\\users\\isszq\\anaconda3\\lib\\site-packages (from cryptography->python-telegram-bot) (1.14.0)\n",
      "Requirement already satisfied, skipping upgrade: cffi!=1.11.3,>=1.8 in c:\\users\\isszq\\anaconda3\\lib\\site-packages (from cryptography->python-telegram-bot) (1.14.0)\n",
      "Requirement already satisfied, skipping upgrade: pycparser in c:\\users\\isszq\\anaconda3\\lib\\site-packages (from cffi!=1.11.3,>=1.8->cryptography->python-telegram-bot) (2.19)\n"
     ]
    }
   ],
   "source": [
    "!pip install python-telegram-bot --upgrade"
   ]
  },
  {
   "cell_type": "markdown",
   "metadata": {},
   "source": [
    "Import library and create a both with your token."
   ]
  },
  {
   "cell_type": "code",
   "execution_count": 1,
   "metadata": {},
   "outputs": [
    {
     "data": {
      "text/plain": [
       "'12.8'"
      ]
     },
     "execution_count": 1,
     "metadata": {},
     "output_type": "execute_result"
    }
   ],
   "source": [
    "import telegram\n",
    "telegram.__version__"
   ]
  },
  {
   "cell_type": "code",
   "execution_count": 2,
   "metadata": {},
   "outputs": [],
   "source": [
    "TOKEN = '1348249474:AAFHUnr1LRclHsoAFhctfLCHErF3fbYiDy0'\n",
    "bot = telegram.Bot(token=TOKEN)"
   ]
  },
  {
   "cell_type": "markdown",
   "metadata": {},
   "source": [
    "If the token is valid, `get_me()` function will return information about the bot. "
   ]
  },
  {
   "cell_type": "code",
   "execution_count": 3,
   "metadata": {
    "scrolled": true
   },
   "outputs": [
    {
     "name": "stdout",
     "output_type": "stream",
     "text": [
      "{'id': 1348249474, 'first_name': 'qinjie_pydot', 'is_bot': True, 'username': 'qinjie_pydot_bot', 'can_join_groups': True, 'can_read_all_group_messages': False, 'supports_inline_queries': False}\n"
     ]
    }
   ],
   "source": [
    "print(bot.get_me())"
   ]
  },
  {
   "cell_type": "markdown",
   "metadata": {},
   "source": [
    "### Library Extensions\n",
    "\n",
    "Above library includes a `telegram.ext` submodule. It provides an easy-to-use interface to ease development work.\n",
    "\n",
    "It consists 2 most imporant classes `telegram.ext.Updater` and `telegram.ext.Dispatcher`."
   ]
  },
  {
   "cell_type": "markdown",
   "metadata": {},
   "source": [
    "## 2. Maths Bot\n",
    "\n",
    "Lets get familiar with the library by creating a bot which can solve mathematical equations.\n",
    "* Save following text in a python (`*.py`) file.\n",
    "\n",
    "### Updater\n",
    "\n",
    "An **Updater** object receives the updates from Telegram and to delivers them to a dispatcher.\n",
    "* Updater starts as a polling service to check on updates (new messages/commands) in Telegram server.\n",
    "* The updates are kept in a queue.\n",
    "* Updater works like a messenger between Telegram and developers.\n",
    "* As `Updater.start_polling()` is a non-blocking function and eventually will stop, the `idele()` function is added to keep script running."
   ]
  },
  {
   "cell_type": "code",
   "execution_count": 13,
   "metadata": {},
   "outputs": [],
   "source": [
    "from telegram.ext import Updater, CommandHandler, MessageHandler, Filters\n",
    "\n",
    "# Part A\n",
    "token = '<TOKEN>' # Replace <TOKEN> with your own token\n",
    "token = '1142756283:AAFb5zMiJ-4n5rwlrgkmyrCjAKaP7J0LAlk' # Replace <TOKEN> with your own token  \n",
    "updater = Updater(token, use_context=True)\n",
    "\n",
    "# Part C (TODO, /start command)\n",
    "\n",
    "# Part D (TODO, /help command)\n",
    "\n",
    "# Part E (TODO, /rate command)\n",
    "\n",
    "# Part F (TODO, reply USAGE for other messages)\n",
    "\n",
    "\n",
    "# Part B\n",
    "# updater.start_polling()\n",
    "# updater.idle()"
   ]
  },
  {
   "cell_type": "markdown",
   "metadata": {},
   "source": [
    "Above code creates a Updater and run it. But it does nothing because we haven't instruct him to do anything yet."
   ]
  },
  {
   "cell_type": "markdown",
   "metadata": {},
   "source": [
    "### Dispatcher and Handler"
   ]
  },
  {
   "cell_type": "markdown",
   "metadata": {},
   "source": [
    "Each `Updater` comes with a dispatcher. `Dispater` updates update from the queue and pass it to registered handlers.\n",
    "\n",
    "A `Handler` is an instance of any subclass of the `telegram.ext.Handler` class. There are different subclasses of `telegram.ext.Handler` for different updates, e.g. `CommandHanlder`, `MessageHandler` etc."
   ]
  },
  {
   "cell_type": "code",
   "execution_count": 14,
   "metadata": {},
   "outputs": [
    {
     "data": {
      "text/plain": [
       "telegram.ext.dispatcher.Dispatcher"
      ]
     },
     "execution_count": 14,
     "metadata": {},
     "output_type": "execute_result"
    }
   ],
   "source": [
    "type(updater.dispatcher)"
   ]
  },
  {
   "cell_type": "markdown",
   "metadata": {},
   "source": [
    "There are many different types of Handler."
   ]
  },
  {
   "cell_type": "markdown",
   "metadata": {},
   "source": [
    "### Handle `/start` Command (Part C)\n",
    "\n",
    "A `Update` can be a `Command` or a `Message`.\n",
    "* User type a command by starting with a forward-slash `/`, for example `/start`\n",
    "\n",
    "Following code adds a handler for `/start` command.\n",
    "* It replies with a message `\"Hi, I am a Mathematician!\"`."
   ]
  },
  {
   "cell_type": "code",
   "execution_count": 4,
   "metadata": {},
   "outputs": [],
   "source": [
    "# Part C\n",
    "def handle_start_cmd(update, context):\n",
    "    update.message.reply_text('Hi, I am Mathematician!')\n",
    "\n",
    "cmd = CommandHandler(\"start\", handle_start_cmd)\n",
    "updater.dispatcher.add_handler(cmd)"
   ]
  },
  {
   "cell_type": "markdown",
   "metadata": {},
   "source": [
    "### Exercise (Part D)\n",
    "\n",
    "Add a CommandHandler for `\"help\"` command to the bot. Upon receiving the command, the bot will reply a message `\"Type a maths equation and I will show you the answer.\"`. "
   ]
  },
  {
   "cell_type": "code",
   "execution_count": null,
   "metadata": {},
   "outputs": [],
   "source": [
    "# Part D\n",
    "def handle_help_cmd(update, context):\n",
    "    update.message.reply_text('Type a maths equation and I will show you the answer.')\n",
    "\n",
    "cmd = CommandHandler('help', handle_help_cmd)\n",
    "updater.dispatcher.add_handler(cmd)"
   ]
  },
  {
   "cell_type": "code",
   "execution_count": 33,
   "metadata": {},
   "outputs": [
    {
     "ename": "TypeError",
     "evalue": "multi() takes 1 positional argument but 2 were given",
     "output_type": "error",
     "traceback": [
      "\u001b[1;31m---------------------------------------------------------------------------\u001b[0m",
      "\u001b[1;31mTypeError\u001b[0m                                 Traceback (most recent call last)",
      "\u001b[1;32m<ipython-input-33-98d2d13296d3>\u001b[0m in \u001b[0;36m<module>\u001b[1;34m\u001b[0m\n\u001b[0;32m      8\u001b[0m \u001b[1;33m\u001b[0m\u001b[0m\n\u001b[0;32m      9\u001b[0m \u001b[0mc\u001b[0m \u001b[1;33m=\u001b[0m \u001b[0mCalculator\u001b[0m\u001b[1;33m(\u001b[0m\u001b[1;33m)\u001b[0m\u001b[1;33m\u001b[0m\u001b[1;33m\u001b[0m\u001b[0m\n\u001b[1;32m---> 10\u001b[1;33m \u001b[0mresult\u001b[0m \u001b[1;33m=\u001b[0m \u001b[0mc\u001b[0m\u001b[1;33m.\u001b[0m\u001b[0mcalculate\u001b[0m\u001b[1;33m(\u001b[0m\u001b[1;36m10\u001b[0m\u001b[1;33m,\u001b[0m \u001b[1;36m20\u001b[0m\u001b[1;33m,\u001b[0m \u001b[0mmulti\u001b[0m\u001b[1;33m)\u001b[0m\u001b[1;33m\u001b[0m\u001b[1;33m\u001b[0m\u001b[0m\n\u001b[0m\u001b[0;32m     11\u001b[0m \u001b[1;33m\u001b[0m\u001b[0m\n\u001b[0;32m     12\u001b[0m \u001b[0mprint\u001b[0m\u001b[1;33m(\u001b[0m\u001b[0mresult\u001b[0m\u001b[1;33m)\u001b[0m\u001b[1;33m\u001b[0m\u001b[1;33m\u001b[0m\u001b[0m\n",
      "\u001b[1;32m<ipython-input-33-98d2d13296d3>\u001b[0m in \u001b[0;36mcalculate\u001b[1;34m(self, x, y, func)\u001b[0m\n\u001b[0;32m      4\u001b[0m \u001b[1;32mclass\u001b[0m \u001b[0mCalculator\u001b[0m\u001b[1;33m:\u001b[0m\u001b[1;33m\u001b[0m\u001b[1;33m\u001b[0m\u001b[0m\n\u001b[0;32m      5\u001b[0m     \u001b[1;32mdef\u001b[0m \u001b[0mcalculate\u001b[0m\u001b[1;33m(\u001b[0m\u001b[0mself\u001b[0m\u001b[1;33m,\u001b[0m \u001b[0mx\u001b[0m\u001b[1;33m,\u001b[0m \u001b[0my\u001b[0m\u001b[1;33m,\u001b[0m \u001b[0mfunc\u001b[0m\u001b[1;33m)\u001b[0m\u001b[1;33m:\u001b[0m\u001b[1;33m\u001b[0m\u001b[1;33m\u001b[0m\u001b[0m\n\u001b[1;32m----> 6\u001b[1;33m         \u001b[0mval\u001b[0m \u001b[1;33m=\u001b[0m \u001b[0mfunc\u001b[0m\u001b[1;33m(\u001b[0m\u001b[0mx\u001b[0m\u001b[1;33m,\u001b[0m \u001b[0my\u001b[0m\u001b[1;33m)\u001b[0m\u001b[1;33m\u001b[0m\u001b[1;33m\u001b[0m\u001b[0m\n\u001b[0m\u001b[0;32m      7\u001b[0m         \u001b[1;32mreturn\u001b[0m \u001b[0mval\u001b[0m\u001b[1;33m\u001b[0m\u001b[1;33m\u001b[0m\u001b[0m\n\u001b[0;32m      8\u001b[0m \u001b[1;33m\u001b[0m\u001b[0m\n",
      "\u001b[1;31mTypeError\u001b[0m: multi() takes 1 positional argument but 2 were given"
     ]
    }
   ],
   "source": [
    "\n",
    "\n",
    "def multi(x):\n",
    "    return x * x\n",
    "\n",
    "class Calculator:    \n",
    "    def calculate(self, x, y, func):\n",
    "        val = func(x, y)\n",
    "        return val\n",
    "        \n",
    "c = Calculator()\n",
    "result = c.calculate(10, 20, multi)\n",
    "\n",
    "print(result)"
   ]
  },
  {
   "cell_type": "code",
   "execution_count": 34,
   "metadata": {},
   "outputs": [
    {
     "ename": "ZeroDivisionError",
     "evalue": "division by zero",
     "output_type": "error",
     "traceback": [
      "\u001b[1;31m---------------------------------------------------------------------------\u001b[0m",
      "\u001b[1;31mZeroDivisionError\u001b[0m                         Traceback (most recent call last)",
      "\u001b[1;32m<ipython-input-34-73eaf43a7be5>\u001b[0m in \u001b[0;36m<module>\u001b[1;34m\u001b[0m\n\u001b[1;32m----> 1\u001b[1;33m \u001b[0meval\u001b[0m\u001b[1;33m(\u001b[0m\u001b[1;34m'2/0'\u001b[0m\u001b[1;33m)\u001b[0m\u001b[1;33m\u001b[0m\u001b[1;33m\u001b[0m\u001b[0m\n\u001b[0m",
      "\u001b[1;32m<string>\u001b[0m in \u001b[0;36m<module>\u001b[1;34m\u001b[0m\n",
      "\u001b[1;31mZeroDivisionError\u001b[0m: division by zero"
     ]
    }
   ],
   "source": [
    "eval('2/0')"
   ]
  },
  {
   "cell_type": "markdown",
   "metadata": {},
   "source": [
    "### Exercise (Part E)\n",
    "\n",
    "The `update.message.text` will always return the text sent by user. For example, user can type `\"/help about\"`. For such message, it will be handled by `\"/help\"` command handler since it starts with `/help`.\n",
    "\n",
    "#### Handling `/maths` Command\n",
    "\n",
    "The main function of this chatbot is to evaluate maths expression. For example, `\"/maths 1 + 2\"` can be evaluated as a command `/maths` followed by a maths expresssion `\"1 + 2\"`. The bot will return the result of this maths expression.\n",
    "* If the string fails to be evaluated as a maths equation, it will return `\"Invalid maths equation\"`.\n",
    "* Hint: Use `eval()` function."
   ]
  },
  {
   "cell_type": "code",
   "execution_count": null,
   "metadata": {},
   "outputs": [],
   "source": [
    "# Part E\n",
    "def handle_maths_cmd(update, context):\n",
    "    s = update.message.text\n",
    "    print(s)\n",
    "    exp = s.replace('/maths', '')\n",
    "    try:\n",
    "        result = eval(exp)\n",
    "    except:\n",
    "        result = 'Invalid maths expression'\n",
    "    update.message.reply_text(result)\n",
    "\n",
    "cmd = CommandHandler('maths', handle_maths_cmd)\n",
    "updater.dispatcher.add_handler(cmd)"
   ]
  },
  {
   "cell_type": "markdown",
   "metadata": {},
   "source": [
    "### Handle All Other Messages (Part F)\n",
    "\n",
    "Dispatcher will look for a suitable handler for an update one by one. It will stop once it finds a suitable handler. Thus the **order of adding** handlers to dispatcher is important. \n",
    "\n",
    "For those unhandled updates, we want to remind user on how to use our chatbot.\n",
    "\n",
    "Implement another handler for all unhandled text updates.\n",
    "* Use `Filters.text` to match all updates of text type."
   ]
  },
  {
   "cell_type": "code",
   "execution_count": null,
   "metadata": {},
   "outputs": [],
   "source": [
    "# Part F\n",
    "def handle_any_msg(update, context):\n",
    "    update.message.reply_text('USAGE: /maths <maths-expression>')\n",
    "\n",
    "cmd = MessageHandler(Filters.text, handle_any_msg)\n",
    "updater.dispatcher.add_handler(cmd)"
   ]
  },
  {
   "cell_type": "markdown",
   "metadata": {},
   "source": [
    "## 3. Assignment"
   ]
  },
  {
   "cell_type": "markdown",
   "metadata": {},
   "source": [
    "The Foreign Exchange Rates API website http://exchangeratesapi.io/ is a free service for current and historical foreign exchange rates published by the European Central Bank.\n",
    "\n",
    "Some useful APIs:\n",
    "* GET https://api.exchangeratesapi.io/latest?base=SGD\n",
    "* GET https://api.exchangeratesapi.io/latest?base=SGD&symbols=USD\n",
    "* GET https://api.exchangeratesapi.io/latest?base=SGD&symbols=USD,GBP"
   ]
  },
  {
   "cell_type": "code",
   "execution_count": 6,
   "metadata": {},
   "outputs": [
    {
     "name": "stdout",
     "output_type": "stream",
     "text": [
      "200\n",
      "{\"rates\":{\"USD\":0.7180793479,\"GBP\":0.5704005604},\"base\":\"SGD\",\"date\":\"2020-07-10\"}\n",
      "{'rates': {'USD': 0.7180793479, 'GBP': 0.5704005604}, 'base': 'SGD', 'date': '2020-07-10'}\n"
     ]
    }
   ],
   "source": [
    "import requests\n",
    "\n",
    "SERVER = 'https://api.exchangeratesapi.io'\n",
    "RESOURCE = '/latest'\n",
    "\n",
    "url = SERVER + RESOURCE\n",
    "params = {'base':'SGD', 'symbols':'USD,GBP'}\n",
    "resp = requests.get(url, params)\n",
    "print(resp.status_code)\n",
    "print(resp.text)\n",
    "print(resp.json())"
   ]
  },
  {
   "cell_type": "code",
   "execution_count": 7,
   "metadata": {},
   "outputs": [
    {
     "name": "stdout",
     "output_type": "stream",
     "text": [
      "SGD\n",
      "USD 0.7180793479\n",
      "GBP 0.5704005604\n"
     ]
    }
   ],
   "source": [
    "result = resp.json()\n",
    "print(result['base'])\n",
    "for k,v in result['rates'].items():\n",
    "    print(k,v)"
   ]
  },
  {
   "cell_type": "markdown",
   "metadata": {},
   "source": [
    "Create a chatbot with following commands and replies, where rates are retreived from  API http://exchangeratesapi.io/.\n",
    "\n",
    "* `/start`\n",
    "    ```\n",
    "    Hi, I am Money Changer!\n",
    "    ```\n",
    "* `/help`\n",
    "    ```\n",
    "    Ask me about exchange rate! \n",
    "    USAGE: \n",
    "        /rate <SGD> <USD>\n",
    "        /rate <SGD> <USD,GBP>\n",
    "    ```\n",
    "* `/rate SGD USD`\n",
    "    ```\n",
    "    1 SGD = 0.7180793479 USD\n",
    "    ```\n",
    "    \n",
    "* `/rate SGD USD,GBP`\n",
    "    ```\n",
    "    1 SGD = 0.7180793479 USD, 0.5704005604 GBP\n",
    "    ```"
   ]
  },
  {
   "cell_type": "code",
   "execution_count": null,
   "metadata": {},
   "outputs": [],
   "source": []
  }
 ],
 "metadata": {
  "kernelspec": {
   "display_name": "Python 3",
   "language": "python",
   "name": "python3"
  },
  "language_info": {
   "codemirror_mode": {
    "name": "ipython",
    "version": 3
   },
   "file_extension": ".py",
   "mimetype": "text/x-python",
   "name": "python",
   "nbconvert_exporter": "python",
   "pygments_lexer": "ipython3",
   "version": "3.8.3"
  },
  "varInspector": {
   "cols": {
    "lenName": 16,
    "lenType": 16,
    "lenVar": 40
   },
   "kernels_config": {
    "python": {
     "delete_cmd_postfix": "",
     "delete_cmd_prefix": "del ",
     "library": "var_list.py",
     "varRefreshCmd": "print(var_dic_list())"
    },
    "r": {
     "delete_cmd_postfix": ") ",
     "delete_cmd_prefix": "rm(",
     "library": "var_list.r",
     "varRefreshCmd": "cat(var_dic_list()) "
    }
   },
   "types_to_exclude": [
    "module",
    "function",
    "builtin_function_or_method",
    "instance",
    "_Feature"
   ],
   "window_display": false
  }
 },
 "nbformat": 4,
 "nbformat_minor": 4
}
