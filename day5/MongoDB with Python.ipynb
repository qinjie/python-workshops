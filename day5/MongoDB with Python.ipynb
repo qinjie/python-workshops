{
 "cells": [
  {
   "cell_type": "markdown",
   "metadata": {},
   "source": [
    "# MongoDB with Python"
   ]
  },
  {
   "cell_type": "markdown",
   "metadata": {},
   "source": [
    "Install Libraries"
   ]
  },
  {
   "cell_type": "code",
   "execution_count": 1,
   "metadata": {},
   "outputs": [
    {
     "name": "stdout",
     "output_type": "stream",
     "text": [
      "Requirement already satisfied: pymongo in c:\\users\\isszq\\anaconda3\\lib\\site-packages (3.11.0)\n",
      "Requirement already satisfied: dnspython in c:\\users\\isszq\\anaconda3\\lib\\site-packages (2.0.0)\n"
     ]
    }
   ],
   "source": [
    "!pip install pymongo\n",
    "!pip install dnspython"
   ]
  },
  {
   "cell_type": "code",
   "execution_count": 3,
   "metadata": {},
   "outputs": [],
   "source": [
    "import pymongo"
   ]
  },
  {
   "cell_type": "markdown",
   "metadata": {},
   "source": [
    "### Connect to MongoDB"
   ]
  },
  {
   "cell_type": "code",
   "execution_count": 4,
   "metadata": {},
   "outputs": [],
   "source": [
    "url = 'mongodb://127.0.0.1:27017'\n",
    "\n",
    "from pymongo import MongoClient\n",
    "\n",
    "client = MongoClient(url)"
   ]
  },
  {
   "cell_type": "code",
   "execution_count": 5,
   "metadata": {},
   "outputs": [
    {
     "data": {
      "text/plain": [
       "['admin', 'config', 'local', 'pydot']"
      ]
     },
     "execution_count": 5,
     "metadata": {},
     "output_type": "execute_result"
    }
   ],
   "source": [
    "client.list_database_names()"
   ]
  },
  {
   "cell_type": "code",
   "execution_count": 6,
   "metadata": {},
   "outputs": [],
   "source": [
    "db = client['pydot']"
   ]
  },
  {
   "cell_type": "code",
   "execution_count": 8,
   "metadata": {},
   "outputs": [
    {
     "data": {
      "text/plain": [
       "['books']"
      ]
     },
     "execution_count": 8,
     "metadata": {},
     "output_type": "execute_result"
    }
   ],
   "source": [
    "db.list_collection_names()"
   ]
  },
  {
   "cell_type": "code",
   "execution_count": 10,
   "metadata": {},
   "outputs": [],
   "source": [
    "collection = db['books']"
   ]
  },
  {
   "cell_type": "code",
   "execution_count": 13,
   "metadata": {},
   "outputs": [
    {
     "data": {
      "text/plain": [
       "7"
      ]
     },
     "execution_count": 13,
     "metadata": {},
     "output_type": "execute_result"
    }
   ],
   "source": [
    "collection.count_documents({})"
   ]
  },
  {
   "cell_type": "code",
   "execution_count": 15,
   "metadata": {},
   "outputs": [],
   "source": [
    "cursor = collection.find({})"
   ]
  },
  {
   "cell_type": "code",
   "execution_count": 17,
   "metadata": {},
   "outputs": [
    {
     "name": "stdout",
     "output_type": "stream",
     "text": [
      "{'_id': ObjectId('4fba97070f318c1e73763350'), 'title': 'MongoDB: The Definitive Guide', 'authors': [{'lastName': 'Chodorow', 'firstName': 'Kristina'}, {'lastName': 'Dirolf', 'firstName': 'Michael'}], 'tags': ['NoSQL', 'BigData'], 'pages': 195, 'published': 2010}\n",
      "{'_id': ObjectId('4fba97190f318c1e73763351'), 'title': 'MongoDB in Action', 'authors': [{'lastName': 'Banker', 'firstName': 'Kyle'}], 'tags': ['NoSQL', 'Database', 'Programming'], 'pages': 311, 'published': 2012}\n",
      "{'_id': ObjectId('4fba97190f318c1e73763352'), 'title': 'JavaScript: The Good Parts', 'authors': [{'lastName': 'Crockford', 'firstName': 'Douglas'}], 'tags': ['JavaScript', 'Programming'], 'pages': 153, 'published': 2008}\n",
      "{'_id': ObjectId('4fba97190f318c1e73763353'), 'title': 'JavaScript Web Applications', 'authors': [{'lastName': 'McCaw', 'firstName': 'Alex'}], 'tags': ['JavaScript', 'Web', 'Programming', 'jQuery'], 'pages': 255, 'published': 2011}\n",
      "{'_id': ObjectId('4fba97190f318c1e73763354'), 'title': 'JavaScript Patterns', 'authors': [{'lastName': 'Stefanov', 'firstName': 'Stoyan'}], 'tags': ['JavaScript', 'Programming'], 'pages': 217, 'published': 2010}\n",
      "{'_id': ObjectId('4fba97190f318c1e73763355'), 'title': 'jQuery in Action', 'authors': [{'lastName': 'Bibeault', 'firstName': 'Bear'}, {'lastName': 'Katz', 'firstName': 'Yehuda'}], 'tags': ['jQuery', 'JavaScript', 'Programming', 'Web'], 'pages': 452, 'published': 2010}\n",
      "{'_id': ObjectId('4fba97190f318c1e73763356'), 'title': 'Node.js in Action', 'authors': [{'lastName': 'Cantelon', 'firstName': 'Mike'}, {'lastName': 'Holowaychuk', 'firstName': 'TJ'}, {'lastName': 'Rajlich', 'firstName': 'Nathan'}], 'tags': ['Node.js', 'JavaScript', 'Programming', 'Web', 'Server'], 'pages': 308, 'published': 2012}\n"
     ]
    }
   ],
   "source": [
    "for book in cursor:\n",
    "    print(book)"
   ]
  },
  {
   "cell_type": "code",
   "execution_count": 18,
   "metadata": {},
   "outputs": [],
   "source": [
    "cursor.close()"
   ]
  },
  {
   "cell_type": "code",
   "execution_count": 19,
   "metadata": {},
   "outputs": [
    {
     "data": {
      "text/plain": [
       "{'_id': ObjectId('4fba97070f318c1e73763350'),\n",
       " 'title': 'MongoDB: The Definitive Guide',\n",
       " 'authors': [{'lastName': 'Chodorow', 'firstName': 'Kristina'},\n",
       "  {'lastName': 'Dirolf', 'firstName': 'Michael'}],\n",
       " 'tags': ['NoSQL', 'BigData'],\n",
       " 'pages': 195,\n",
       " 'published': 2010}"
      ]
     },
     "execution_count": 19,
     "metadata": {},
     "output_type": "execute_result"
    }
   ],
   "source": [
    "collection.find_one({'title': 'MongoDB: The Definitive Guide'})"
   ]
  },
  {
   "cell_type": "markdown",
   "metadata": {},
   "source": [
    "### New Collection"
   ]
  },
  {
   "cell_type": "code",
   "execution_count": 20,
   "metadata": {},
   "outputs": [],
   "source": [
    "contacts = db['contacts']"
   ]
  },
  {
   "cell_type": "code",
   "execution_count": 22,
   "metadata": {},
   "outputs": [
    {
     "data": {
      "text/plain": [
       "<pymongo.results.InsertOneResult at 0x215f3be9880>"
      ]
     },
     "execution_count": 22,
     "metadata": {},
     "output_type": "execute_result"
    }
   ],
   "source": [
    "d1 = {'name':'alan', 'phone':81234567}\n",
    "\n",
    "contacts.insert_one(d1)"
   ]
  },
  {
   "cell_type": "code",
   "execution_count": 24,
   "metadata": {},
   "outputs": [
    {
     "data": {
      "text/plain": [
       "<pymongo.results.InsertManyResult at 0x215f16fe100>"
      ]
     },
     "execution_count": 24,
     "metadata": {},
     "output_type": "execute_result"
    }
   ],
   "source": [
    "d2 = [\n",
    "    {'name':'ben', 'phone':91234567},\n",
    "    {'name':'charles', 'phone':61234567}\n",
    "]\n",
    "\n",
    "contacts.insert_many(d2)"
   ]
  },
  {
   "cell_type": "code",
   "execution_count": 38,
   "metadata": {},
   "outputs": [
    {
     "name": "stdout",
     "output_type": "stream",
     "text": [
      "{'_id': ObjectId('5f9297002b850aa6bc9baa6b'), 'age': 10}\n"
     ]
    }
   ],
   "source": [
    "with contacts.find({'age':10}) as cursor:\n",
    "    for i in cursor:\n",
    "        print(i)"
   ]
  },
  {
   "cell_type": "code",
   "execution_count": null,
   "metadata": {},
   "outputs": [],
   "source": [
    "# CRUD = CREATE, READ, UPDATE, DELETE"
   ]
  },
  {
   "cell_type": "code",
   "execution_count": 29,
   "metadata": {},
   "outputs": [
    {
     "data": {
      "text/plain": [
       "<pymongo.results.UpdateResult at 0x215f3bdff00>"
      ]
     },
     "execution_count": 29,
     "metadata": {},
     "output_type": "execute_result"
    }
   ],
   "source": [
    "contacts.update_one({'name':'ben'}, {\"$set\": {'phone': '', 'age': 15}})"
   ]
  },
  {
   "cell_type": "code",
   "execution_count": 34,
   "metadata": {},
   "outputs": [
    {
     "data": {
      "text/plain": [
       "<pymongo.results.UpdateResult at 0x215f3bd4400>"
      ]
     },
     "execution_count": 34,
     "metadata": {},
     "output_type": "execute_result"
    }
   ],
   "source": [
    "contacts.replace_one({'name':'charles'}, {'age':10})"
   ]
  },
  {
   "cell_type": "code",
   "execution_count": 37,
   "metadata": {},
   "outputs": [
    {
     "data": {
      "text/plain": [
       "<pymongo.results.DeleteResult at 0x215f3bf6d40>"
      ]
     },
     "execution_count": 37,
     "metadata": {},
     "output_type": "execute_result"
    }
   ],
   "source": [
    "contacts.delete_one({'age':10})"
   ]
  }
 ],
 "metadata": {
  "kernelspec": {
   "display_name": "Python 3",
   "language": "python",
   "name": "python3"
  },
  "language_info": {
   "codemirror_mode": {
    "name": "ipython",
    "version": 3
   },
   "file_extension": ".py",
   "mimetype": "text/x-python",
   "name": "python",
   "nbconvert_exporter": "python",
   "pygments_lexer": "ipython3",
   "version": "3.8.3"
  }
 },
 "nbformat": 4,
 "nbformat_minor": 4
}
