{
 "cells": [
  {
   "cell_type": "code",
   "execution_count": 1,
   "metadata": {
    "tags": []
   },
   "outputs": [
    {
     "name": "stdout",
     "output_type": "stream",
     "text": [
      "500.00 SGD = 38,434.13 JPY\n"
     ]
    }
   ],
   "source": [
    "import requests\n",
    "from bs4 import BeautifulSoup\n",
    "\n",
    "f_currency = input('Please enter source currency: ')\n",
    "t_currency = input('Please enter to currency: ')\n",
    "amount = input('Please enter amount: ')\n",
    "\n",
    "url = f'https://exchange-rates.org/converter/{f_currency.upper()}/{t_currency.upper()}/{amount}'\n",
    "\n",
    "resp = requests.get(url)\n",
    "html = resp.text\n",
    "\n",
    "soup = BeautifulSoup(html)\n",
    "\n",
    "from_amount = soup.find('span', { 'id': 'ctl00_M_lblFromAmount' })\n",
    "from_currency = soup.find('span', { 'id': 'ctl00_M_lblFromIsoCode'})\n",
    "to_amount = soup.find('span', { 'id': 'ctl00_M_lblToAmount'})\n",
    "to_currency = soup.find('span', { 'id': 'ctl00_M_lblToIsoCode'})\n",
    "\n",
    "print(f'{from_amount.text} {from_currency.text} = {to_amount.text} {to_currency.text}')"
   ]
  },
  {
   "cell_type": "code",
   "execution_count": null,
   "metadata": {},
   "outputs": [],
   "source": []
  }
 ],
 "metadata": {
  "kernelspec": {
   "display_name": "Python 3",
   "language": "python",
   "name": "python3"
  },
  "language_info": {
   "codemirror_mode": {
    "name": "ipython",
    "version": 3
   },
   "file_extension": ".py",
   "mimetype": "text/x-python",
   "name": "python",
   "nbconvert_exporter": "python",
   "pygments_lexer": "ipython3",
   "version": "3.8.5"
  }
 },
 "nbformat": 4,
 "nbformat_minor": 2
}
