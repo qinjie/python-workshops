{
 "cells": [
  {
   "cell_type": "code",
   "execution_count": 1,
   "metadata": {},
   "outputs": [],
   "source": [
    "import requests "
   ]
  },
  {
   "cell_type": "code",
   "execution_count": 46,
   "metadata": {},
   "outputs": [],
   "source": [
    "country = 'sg'\n",
    "category = 'entertainment'\n",
    "api_key = ''\n",
    "\n",
    "# create a dictionary for the query string\n",
    "query = { 'country': country, 'apiKey': api_key }\n",
    "query = { 'category': category, 'country': 'jp', 'apiKey': api_key }\n",
    "query = { 'sources': 'bloomberg,techradar', 'apiKey': api_key}"
   ]
  },
  {
   "cell_type": "code",
   "execution_count": 47,
   "metadata": {},
   "outputs": [],
   "source": [
    "# construct the request to newsapi.org\n",
    "resp = requests.get('https://newsapi.org/v2/top-headlines', params=query)"
   ]
  },
  {
   "cell_type": "code",
   "execution_count": 48,
   "metadata": {
    "tags": []
   },
   "outputs": [
    {
     "name": "stdout",
     "output_type": "stream",
     "text": [
      "200\n"
     ]
    }
   ],
   "source": [
    "# check the status code in 200 range\n",
    "print(resp.status_code)"
   ]
  },
  {
   "cell_type": "code",
   "execution_count": 49,
   "metadata": {},
   "outputs": [],
   "source": [
    "# get the result as JSON - return as dictionary\n",
    "result = resp.json()"
   ]
  },
  {
   "cell_type": "code",
   "execution_count": 21,
   "metadata": {
    "tags": []
   },
   "outputs": [
    {
     "name": "stdout",
     "output_type": "stream",
     "text": [
      "status\n",
      "totalResults\n",
      "articles\n"
     ]
    }
   ],
   "source": [
    "for k in result:\n",
    "    print(k)"
   ]
  },
  {
   "cell_type": "code",
   "execution_count": 50,
   "metadata": {
    "tags": []
   },
   "outputs": [
    {
     "name": "stdout",
     "output_type": "stream",
     "text": [
      ">>> Les meilleurs ordinateurs pour faire du montage vidéo : 7 modèles indispensables pour éditer vos films <<<\n",
      "Hormis votre talent, voici l’arme absolue pour sublimer toutes vos productions vidéo.\n",
      "\n",
      ">>> Télétravail : profitez d’une remise exceptionnelle de 95% sur le logiciel RemotePC <<<\n",
      "Une offre exclusive pour les lecteurs de TechRadar Pro.\n",
      "\n",
      ">>> Les meilleurs vidéoprojecteurs de 2020 : transformez votre salon en salle de cinéma <<<\n",
      "Voici 6 modèles pour lesquels vous allez quitter votre TV.\n",
      "\n",
      ">>> Meilleurs VPN : quels sont les services les plus fiables en 2020 ? <<<\n",
      "Naviguez sur Internet sans limite et sans danger.\n",
      "\n",
      ">>> Soldes d’été de Steam : 30 jeux PC en promo à télécharger rapidement <<<\n",
      "Dépêchez-vous, toutes ces bonnes affaires s’achèveront le 9 juillet.\n",
      "\n",
      ">>> Quel abonnement Netflix est fait pour vous ? <<<\n",
      "La formule est-elle meilleure si vous doublez le prix ?\n",
      "\n",
      ">>> Italy Set to Approve $442 Million Loan to Keep Alitalia Flying <<<\n",
      "\n",
      "\n",
      ">>> Target, Best Buy, Walmart, Lululemon Won the Black Friday Weekend <<<\n",
      "\n",
      "\n",
      ">>> VW Accused of Deceit in U.K. Class Action Lawsuit <<<\n",
      "\n",
      "\n",
      ">>> The U.S. Economy Keeps Defying the Recession Odds <<<\n",
      "\n",
      "\n",
      ">>> Don’t Count on Merkel’s Standoff Leading to German Stimulus Soon <<<\n",
      "\n",
      "\n",
      ">>> Top Palm Oil Buyer Considers Restricting Imports to Help Local Farmers <<<\n",
      "\n",
      "\n",
      ">>> Merkel's Christian Democrats Play Hardball With Coalition's Future in Balance <<<\n",
      "\n",
      "\n",
      ">>> Brussels Edition: Carbon Conflicts, Tremors in Berlin <<<\n",
      "\n",
      "\n",
      ">>> Hong Kong Unrest Rages on <<<\n",
      "\n",
      "\n",
      ">>> Trump Declines to Participate in House Impeachment Hearing <<<\n",
      "\n",
      "\n"
     ]
    }
   ],
   "source": [
    "# print the article's title and description\n",
    "for art in result['articles']:\n",
    "    print(f'>>> {art[\"title\"]} <<<')\n",
    "    print(art['description'])\n",
    "    print()"
   ]
  }
 ],
 "metadata": {
  "kernelspec": {
   "display_name": "Python 3",
   "language": "python",
   "name": "python3"
  },
  "language_info": {
   "codemirror_mode": {
    "name": "ipython",
    "version": 3
   },
   "file_extension": ".py",
   "mimetype": "text/x-python",
   "name": "python",
   "nbconvert_exporter": "python",
   "pygments_lexer": "ipython3",
   "version": "3.8.5"
  }
 },
 "nbformat": 4,
 "nbformat_minor": 2
}
