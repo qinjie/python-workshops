{
 "cells": [
  {
   "cell_type": "markdown",
   "metadata": {},
   "source": [
    "# Day 1 Assignments"
   ]
  },
  {
   "cell_type": "markdown",
   "metadata": {},
   "source": [
    "## Assignment 1\n",
    "\n",
    "Implement a BMI Calculator.\n",
    "* Ask user for height(m)\n",
    "* Ask user for wegith(kg)\n",
    "* Calculate BMI value\n",
    "* Display result"
   ]
  },
  {
   "cell_type": "code",
   "execution_count": 28,
   "metadata": {
    "scrolled": true
   },
   "outputs": [
    {
     "name": "stdout",
     "output_type": "stream",
     "text": [
      "Welcome to BMI Calculator\n",
      "Enter your height(m): 1.7\n",
      "Enter your weight(kg): 70\n",
      "Your BMI is 24.221453287197235\n"
     ]
    }
   ],
   "source": [
    "print('Welcome to BMI Calculator')\n",
    "height = input('Enter your height(m): ')\n",
    "weight = input('Enter your weight(kg): ')\n",
    "height = float(height)\n",
    "weight = float(weight)\n",
    "bmi = weight / (height * height)\n",
    "print('Your BMI is ' + str(bmi))"
   ]
  },
  {
   "cell_type": "markdown",
   "metadata": {},
   "source": [
    "## Assignment 2\n",
    "\n",
    "* Ask user for an integer\n",
    "* Print message on whether it can be divided by both 2 and 3\n",
    "\n",
    "```\n",
    "Enter an integer: 10\n",
    "False\n",
    "\n",
    "Enter an integer: 6\n",
    "True\n",
    "```"
   ]
  },
  {
   "cell_type": "code",
   "execution_count": 30,
   "metadata": {},
   "outputs": [
    {
     "name": "stdout",
     "output_type": "stream",
     "text": [
      "Enter an integer: 6\n",
      "True\n"
     ]
    }
   ],
   "source": [
    "x = input('Enter an integer: ')\n",
    "x = int(x)\n",
    "\n",
    "y = (x % 2 == 0) and (x % 3 == 0)\n",
    "print(y)"
   ]
  },
  {
   "cell_type": "markdown",
   "metadata": {},
   "source": [
    "## Assignment 3\n",
    "\n",
    "Define functions `area_circle()` and `area_rectangle()`.\n",
    "\n",
    "The `area_circle()` function will calculate area of a circle.\n",
    "* Input: radius (with default value 1)\n",
    "* Returns area of circle\n",
    "\n",
    "The `area_rectangle()` function will calculate area of a rectangle.\n",
    "* Input: width, height\n",
    "* Returns area\n",
    "\n",
    "Main program\n",
    "* Ask use for radius of circle, if user enter empty string, then call `area_circle()` with default value.\n",
    "* Call `area_rectangle()` with width = 10, height = 20"
   ]
  },
  {
   "cell_type": "code",
   "execution_count": 36,
   "metadata": {},
   "outputs": [
    {
     "name": "stdout",
     "output_type": "stream",
     "text": [
      "Enter Radius: \n",
      "Area of Circle: 3.141592653589793\n",
      "Area of Rectangle: 200\n"
     ]
    }
   ],
   "source": [
    "import math\n",
    "\n",
    "def area_circle(radius = 1):\n",
    "#     PI = 3.1415926\n",
    "    return math.pi * radius ** 2\n",
    "\n",
    "def area_rectangle(width, height):        \n",
    "    return width * height\n",
    "\n",
    "\n",
    "radius = input('Enter Radius: ')\n",
    "\n",
    "if (radius == ''):\n",
    "    ac = area_circle()\n",
    "else:\n",
    "    radius = float(radius)\n",
    "    ac = area_circle(radius)\n",
    "\n",
    "print(f'Area of Circle: {ac}')\n",
    "\n",
    "ar = area_rectangle()\n",
    "print(f'Area of Rectangle: {ar}')\n"
   ]
  }
 ],
 "metadata": {
  "kernelspec": {
   "display_name": "Python 3",
   "language": "python",
   "name": "python3"
  },
  "language_info": {
   "codemirror_mode": {
    "name": "ipython",
    "version": 3
   },
   "file_extension": ".py",
   "mimetype": "text/x-python",
   "name": "python",
   "nbconvert_exporter": "python",
   "pygments_lexer": "ipython3",
   "version": "3.8.3"
  }
 },
 "nbformat": 4,
 "nbformat_minor": 4
}
