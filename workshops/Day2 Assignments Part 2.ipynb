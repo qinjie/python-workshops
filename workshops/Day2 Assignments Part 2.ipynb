{
 "cells": [
  {
   "cell_type": "markdown",
   "metadata": {
    "slideshow": {
     "slide_type": "slide"
    }
   },
   "source": [
    "# Day 2 Assignments (Part 2)"
   ]
  },
  {
   "cell_type": "markdown",
   "metadata": {
    "slideshow": {
     "slide_type": "slide"
    }
   },
   "source": [
    "## 1. Heights Statistics\n",
    "\n",
    "1. Ask user to input the heights value (in centimeter) of 5 students. The entered values are integer.  \n",
    "2. Display lowest, highest, and average height value of these 5 students. \n",
    "\n",
    "**Sample output:**\n",
    "```\n",
    "Number of heights to be entered: 4\n",
    "100\n",
    "120\n",
    "110\n",
    "130\n",
    "[100, 120, 110, 130]\n",
    "min = 100, max = 130, average = 115.0\n",
    "```"
   ]
  },
  {
   "cell_type": "code",
   "execution_count": null,
   "metadata": {},
   "outputs": [],
   "source": []
  },
  {
   "cell_type": "markdown",
   "metadata": {
    "slideshow": {
     "slide_type": "slide"
    }
   },
   "source": [
    "## 2. Swapping of Values\n",
    "\n",
    "1. Ask user to input 3 integer values, x, y and z one by one.\n",
    "2. Print out x, y and z value before swapping\n",
    "3. Write an one-line statement to swap values so that x will hold value of y, y will hold value of z, and z will hold value of x after running the statement.\n",
    "4. Print out x, y and z value after swapping.\n",
    "\n",
    "**Sample output:** \n",
    "\n",
    "```\n",
    "10\n",
    "20\n",
    "30\n",
    "Before swapping, x = 10, y = 20, z = 30\n",
    "After swapping, x = 20, y = 30, z = 10\n",
    "```"
   ]
  },
  {
   "cell_type": "code",
   "execution_count": null,
   "metadata": {},
   "outputs": [],
   "source": []
  },
  {
   "cell_type": "markdown",
   "metadata": {
    "slideshow": {
     "slide_type": "slide"
    }
   },
   "source": [
    "## 3. Login Demo\n",
    "\n",
    "There are 5 usernames with their respective password. \n",
    "* user1: password1\n",
    "* user2: password2\n",
    "* user3: password3\n",
    "\n",
    "Implement a script such that:\n",
    "1. Use a suitable data structure to store usernames and passwords \n",
    "2. User enters username and password\n",
    "3. Check user username and password\n",
    "    * If username does not exists, print \"User not found\"\n",
    "    * if username exists, but password doesn't match, print \"Wrong password\"\n",
    "    * If both username and password match, print \"You are in\"\n",
    "\n",
    "```\n",
    "accounts = {'user1':'password1','user2':'password2', 'user3':'password3'}\n",
    "```\n",
    "\n",
    "**Sample output:**\n",
    "```\n",
    "Enter username: user10\n",
    "Enter password: pass10\n",
    "User not found\n",
    "\n",
    "Enter username: user1\n",
    "Enter password: pass1\n",
    "Wrong password\n",
    "\n",
    "Enter username: user1\n",
    "Enter password: password1\n",
    "You are in\n",
    "```"
   ]
  },
  {
   "cell_type": "code",
   "execution_count": null,
   "metadata": {},
   "outputs": [],
   "source": []
  }
 ],
 "metadata": {
  "kernelspec": {
   "display_name": "Python 3",
   "language": "python",
   "name": "python3"
  },
  "language_info": {
   "codemirror_mode": {
    "name": "ipython",
    "version": 3
   },
   "file_extension": ".py",
   "mimetype": "text/x-python",
   "name": "python",
   "nbconvert_exporter": "python",
   "pygments_lexer": "ipython3",
   "version": "3.8.3"
  }
 },
 "nbformat": 4,
 "nbformat_minor": 2
}
