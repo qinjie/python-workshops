{
 "cells": [
  {
   "cell_type": "markdown",
   "metadata": {},
   "source": [
    "# Day 3 Assignments - Files IO"
   ]
  },
  {
   "cell_type": "markdown",
   "metadata": {},
   "source": [
    "## 1. \n",
    "\n",
    "Write following list `s` into a text file `q1.txt` with each item occupying 1 line. \n",
    "\n",
    "```python\n",
    "s = [chr(i) + '.txt' for i in range(ord('A'), ord('F'))]\n",
    "```\n",
    "\n",
    "Use following command to open `q1.txt` to verify the content in the file.\n",
    "\n",
    "```bash\n",
    "!notepad q1.txt\n",
    "```"
   ]
  },
  {
   "cell_type": "code",
   "execution_count": 8,
   "metadata": {},
   "outputs": [],
   "source": []
  },
  {
   "cell_type": "code",
   "execution_count": 9,
   "metadata": {},
   "outputs": [],
   "source": [
    "!notepad q1.txt"
   ]
  },
  {
   "cell_type": "code",
   "execution_count": 3,
   "metadata": {
    "scrolled": true
   },
   "outputs": [
    {
     "name": "stdout",
     "output_type": "stream",
     "text": [
      " Volume in drive D is Data\n",
      " Volume Serial Number is D862-3D18\n",
      "\n",
      " Directory of D:\\GoogleDrive\\Learn-Python\\Python-MOE-Teacher-Training-2020\\09 File IO\n",
      "\n",
      "04/03/2020  02:05 PM                 0 B.txt\n",
      "04/03/2020  02:05 PM                 0 C.txt\n",
      "04/03/2020  02:05 PM                 0 D.txt\n",
      "04/03/2020  02:05 PM                 0 E.txt\n",
      "04/03/2020  01:57 PM                35 q1.txt\n",
      "04/03/2020  08:56 AM               103 quote.txt\n",
      "26/02/2020  09:46 AM               164 scope.txt\n",
      "04/03/2020  11:22 AM                27 test.txt\n",
      "               8 File(s)            329 bytes\n",
      "               0 Dir(s)  32,300,343,296 bytes free\n"
     ]
    }
   ],
   "source": [
    "!dir *.txt"
   ]
  },
  {
   "cell_type": "markdown",
   "metadata": {},
   "source": [
    "## 2. \n",
    "\n",
    "For each line of text in `q1.txt`, generate an empty text file and name the file using that line of text. If file already exists, remove it before generate new file. \n",
    "\n",
    "Use following code to check if a file exists.\n",
    "\n",
    "```python\n",
    "import os\n",
    "if os.path.exists(file_path): pass\n",
    "```\n",
    "\n",
    "Use following command to confirm that you have generated all files.\n",
    "\n",
    "```bash\n",
    "!ls *.txt\n",
    "```"
   ]
  },
  {
   "cell_type": "code",
   "execution_count": 21,
   "metadata": {},
   "outputs": [],
   "source": []
  },
  {
   "cell_type": "code",
   "execution_count": 2,
   "metadata": {
    "scrolled": true
   },
   "outputs": [
    {
     "name": "stdout",
     "output_type": "stream",
     "text": [
      "q1.txt\n",
      "quote.txt\n",
      "scope.txt\n",
      "test.txt\n"
     ]
    }
   ],
   "source": [
    "!ls *.txt"
   ]
  }
 ],
 "metadata": {
  "kernelspec": {
   "display_name": "Python 3",
   "language": "python",
   "name": "python3"
  },
  "language_info": {
   "codemirror_mode": {
    "name": "ipython",
    "version": 3
   },
   "file_extension": ".py",
   "mimetype": "text/x-python",
   "name": "python",
   "nbconvert_exporter": "python",
   "pygments_lexer": "ipython3",
   "version": "3.8.5"
  }
 },
 "nbformat": 4,
 "nbformat_minor": 2
}
