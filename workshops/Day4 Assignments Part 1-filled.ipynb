{
 "cells": [
  {
   "cell_type": "markdown",
   "metadata": {},
   "source": [
    "# Day 4 Assignments (Part 1)"
   ]
  },
  {
   "cell_type": "markdown",
   "metadata": {},
   "source": [
    "## 1. \n",
    "\n",
    "Using `csv` module, convert the csv file `olympics-medals.csv` into a tab-limited file `olympics-medals.tsv`."
   ]
  },
  {
   "cell_type": "code",
   "execution_count": null,
   "metadata": {},
   "outputs": [],
   "source": [
    "import csv\n",
    "\n",
    "with open('olympics-medals.csv') as f:\n",
    "    reader = csv.reader(f)\n",
    "#     r = next(reader)\n",
    "#     print(r)\n",
    "    data = [r for r in reader]\n",
    "#     print(data)\n",
    "\n",
    "with open('olympics-medals.tsv', 'w', newline='') as f:\n",
    "    writer = csv.writer(f, delimiter='\\t')\n",
    "    writer.writerows(data)\n",
    "#     for i in data:\n",
    "#         writer.writerow(i)\n"
   ]
  },
  {
   "cell_type": "code",
   "execution_count": null,
   "metadata": {},
   "outputs": [],
   "source": [
    "!notepad 'olympics-medals.tsv'"
   ]
  },
  {
   "cell_type": "markdown",
   "metadata": {},
   "source": [
    "## 2. \n",
    "\n",
    "Use csv module to implement following script:\n",
    "* Ask user to enter a country name\n",
    "* With data in the `olympics-medals.csv`, save records of that country into another file `<NOC>.csv`, where `<NOC>` is the NOC value of that country\n",
    "* Print out total number of medals won by that country\n",
    "\n",
    "<u>Sample Output:</u>\n",
    "```\n",
    "Country Name: singapore\n",
    "4\n",
    "```"
   ]
  },
  {
   "cell_type": "code",
   "execution_count": null,
   "metadata": {},
   "outputs": [],
   "source": [
    "import csv\n",
    "\n",
    "country = input('Country Name: ')\n",
    "\n",
    "with open('olympics-medals.csv') as f:\n",
    "    reader = csv.reader(f)\n",
    "    # filter out data match country name\n",
    "    data = [r for r in reader if r[1].lower() == country.lower()]\n",
    "    # discard records with non numeric medal count\n",
    "    data = [r for r in data if r[2].isnumeric()]\n",
    "\n",
    "if data:    \n",
    "    with open(data[0][0]+'.csv', 'w', newline='') as f:\n",
    "        writer = csv.writer(f)\n",
    "        writer.writerows(data)\n",
    "\n",
    "    count = sum([int(r[2]) for r in data])\n",
    "    print(count)"
   ]
  },
  {
   "cell_type": "code",
   "execution_count": null,
   "metadata": {},
   "outputs": [],
   "source": [
    "!notepad SIN.csv"
   ]
  }
 ],
 "metadata": {
  "kernelspec": {
   "display_name": "Python 3",
   "language": "python",
   "name": "python3"
  },
  "language_info": {
   "codemirror_mode": {
    "name": "ipython",
    "version": 3
   },
   "file_extension": ".py",
   "mimetype": "text/x-python",
   "name": "python",
   "nbconvert_exporter": "python",
   "pygments_lexer": "ipython3",
   "version": "3.8.3"
  }
 },
 "nbformat": 4,
 "nbformat_minor": 2
}
