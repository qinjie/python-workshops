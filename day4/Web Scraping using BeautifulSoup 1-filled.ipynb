{
 "cells": [
  {
   "cell_type": "markdown",
   "metadata": {},
   "source": [
    "# Web Scraping using BeautifulSoup\n",
    "\n",
    "<b><u>Objectives:</u></b>\n",
    "* Using `requests` to download server-side rendered HTML code \n",
    "* Using `BeautifulSoup` to parse HTML code\n"
   ]
  },
  {
   "cell_type": "markdown",
   "metadata": {},
   "source": [
    "### <u>Scrape for Latest COE Price</u>\n",
    "\n",
    "We will extract latest COE price from following website:\n",
    "* https://www.onemotoring.com.sg/content/onemotoring/home/buying/coe-open-bidding.html\n",
    "\n",
    "Confirm that the desired data in webpage is **server-side rendered**.\n",
    "* Copy a string of the desired data on webpage\n",
    "* Right click on webpage and select `View Page Source`\n",
    "* The string should be found in the HTML code"
   ]
  },
  {
   "cell_type": "code",
   "execution_count": 2,
   "metadata": {
    "scrolled": false
   },
   "outputs": [
    {
     "name": "stdout",
     "output_type": "stream",
     "text": [
      "Requirement already satisfied: beautifulsoup4 in c:\\users\\isszq\\anaconda3\\lib\\site-packages (4.9.1)\n",
      "Requirement already satisfied: soupsieve>1.2 in c:\\users\\isszq\\anaconda3\\lib\\site-packages (from beautifulsoup4) (2.0.1)\n"
     ]
    }
   ],
   "source": [
    "!pip install beautifulsoup4"
   ]
  },
  {
   "cell_type": "code",
   "execution_count": 6,
   "metadata": {},
   "outputs": [
    {
     "data": {
      "text/plain": [
       "'4.9.1'"
      ]
     },
     "execution_count": 6,
     "metadata": {},
     "output_type": "execute_result"
    }
   ],
   "source": [
    "import bs4\n",
    "bs4.__version__"
   ]
  },
  {
   "cell_type": "markdown",
   "metadata": {},
   "source": [
    "## Make Soup"
   ]
  },
  {
   "cell_type": "markdown",
   "metadata": {},
   "source": [
    "Import libraries."
   ]
  },
  {
   "cell_type": "code",
   "execution_count": 1,
   "metadata": {},
   "outputs": [],
   "source": [
    "from bs4 import BeautifulSoup\n",
    "import requests"
   ]
  },
  {
   "cell_type": "markdown",
   "metadata": {},
   "source": [
    "Use `requests` to send GET request to server and download HTML.\n",
    "* Use status code to make sure request is successful."
   ]
  },
  {
   "cell_type": "code",
   "execution_count": 12,
   "metadata": {},
   "outputs": [
    {
     "name": "stdout",
     "output_type": "stream",
     "text": [
      "200\n"
     ]
    }
   ],
   "source": [
    "URL = 'https://www.onemotoring.com.sg/content/onemotoring/home/buying/coe-open-bidding.html'\n",
    "\n",
    "resp = requests.get(URL)\n",
    "print(resp.status_code)"
   ]
  },
  {
   "cell_type": "markdown",
   "metadata": {},
   "source": [
    "Make a soup from HTML code, which is in `resp.text`."
   ]
  },
  {
   "cell_type": "code",
   "execution_count": 5,
   "metadata": {},
   "outputs": [
    {
     "name": "stdout",
     "output_type": "stream",
     "text": [
      "<title>COE Open Bidding | Buying | One Motoring</title>\n",
      "COE Open Bidding | Buying | One Motoring\n"
     ]
    }
   ],
   "source": [
    "soup = BeautifulSoup(resp.text)\n",
    "print(soup.title)\n",
    "print(soup.title.text)"
   ]
  },
  {
   "cell_type": "markdown",
   "metadata": {},
   "source": [
    "## Inspect HTML Elements"
   ]
  },
  {
   "cell_type": "markdown",
   "metadata": {},
   "source": [
    "Open URL in web browser; Right click on targeted element in webpage and select `Inspect` from context menu.\n",
    "* It will open the `Element` pane in **Chrome DevTools**\n",
    "* Examine the HTML code. The data are contained in 2 `<table>` element with attribute `style=\"width: 100%;\"`."
   ]
  },
  {
   "cell_type": "markdown",
   "metadata": {},
   "source": [
    "Find the 2 tables using `find_all()` method."
   ]
  },
  {
   "cell_type": "code",
   "execution_count": 11,
   "metadata": {},
   "outputs": [
    {
     "name": "stdout",
     "output_type": "stream",
     "text": [
      "2\n"
     ]
    }
   ],
   "source": [
    "tables = soup.find_all('table', {'style':\"width: 100%;\"})\n",
    "print(len(tables))"
   ]
  },
  {
   "cell_type": "markdown",
   "metadata": {},
   "source": [
    "### Extract 1st Table - COE Price\n",
    "\n",
    "Extract all `<tr>` which each contains a row."
   ]
  },
  {
   "cell_type": "code",
   "execution_count": 47,
   "metadata": {},
   "outputs": [
    {
     "name": "stdout",
     "output_type": "stream",
     "text": [
      "6\n"
     ]
    }
   ],
   "source": [
    "tr_list = tables[0].find_all('tr')\n",
    "print(len(tr_list))"
   ]
  },
  {
   "cell_type": "markdown",
   "metadata": {},
   "source": [
    "#### Header\n",
    "\n",
    "Extract table header from each `<tr>`."
   ]
  },
  {
   "cell_type": "code",
   "execution_count": 48,
   "metadata": {},
   "outputs": [
    {
     "name": "stdout",
     "output_type": "stream",
     "text": [
      "['Category', 'Quota', 'QP($)']\n",
      "['Category', 'Description', 'Quota', 'QP($)']\n"
     ]
    }
   ],
   "source": [
    "th_list = tr_list[0].find_all('th')\n",
    "header = [ th.text for th in th_list ]\n",
    "print(header)\n",
    "header.insert(1, 'Description')\n",
    "print(header)"
   ]
  },
  {
   "cell_type": "markdown",
   "metadata": {},
   "source": [
    "#### Table Data\n",
    "Extract table data from each `<tr>`."
   ]
  },
  {
   "cell_type": "code",
   "execution_count": 49,
   "metadata": {},
   "outputs": [
    {
     "name": "stdout",
     "output_type": "stream",
     "text": [
      "[['A', 'CAR UP TO 1600CC & 97KW', '1035', '37766'], ['B', 'CAR ABOVE 1600CC OR 97KW', '904', '41510'], ['C', 'GOODS VEHICLE & BUS', '354', '26644'], ['D', 'MOTORCYCLE', '496', '7399'], ['E', 'OPEN-ALL EXCEPT MOTORCYCLE', '470', '40790']]\n"
     ]
    }
   ],
   "source": [
    "data = []\n",
    "for tr in tr_list:\n",
    "    td_list = tr.find_all('td')\n",
    "    row = [ td.text for td in td_list ]\n",
    "    if row:\n",
    "        data.append(row)\n",
    "\n",
    "print(data)"
   ]
  },
  {
   "cell_type": "markdown",
   "metadata": {},
   "source": [
    "Write to csv file `coe_price.csv`."
   ]
  },
  {
   "cell_type": "code",
   "execution_count": 50,
   "metadata": {},
   "outputs": [],
   "source": [
    "import csv\n",
    "\n",
    "with open('coe_price.csv', 'w', newline='') as f:\n",
    "    writer = csv.writer(f)\n",
    "    writer.writerow(header)\n",
    "    writer.writerows(data)"
   ]
  },
  {
   "cell_type": "markdown",
   "metadata": {},
   "source": [
    "Examine data in file `coe_price.csv`."
   ]
  },
  {
   "cell_type": "code",
   "execution_count": 51,
   "metadata": {},
   "outputs": [],
   "source": [
    "!notepad coe_price.csv"
   ]
  },
  {
   "cell_type": "markdown",
   "metadata": {},
   "source": [
    "## Exercise"
   ]
  },
  {
   "cell_type": "markdown",
   "metadata": {},
   "source": [
    "### Extract 2nd Table - COE Bids\n",
    "\n",
    "Extract all `<tr>` which each contains a row."
   ]
  },
  {
   "cell_type": "code",
   "execution_count": 52,
   "metadata": {},
   "outputs": [
    {
     "name": "stdout",
     "output_type": "stream",
     "text": [
      "6\n"
     ]
    }
   ],
   "source": [
    "tr_list = tables[1].find_all('tr')\n",
    "print(len(tr_list))"
   ]
  },
  {
   "cell_type": "markdown",
   "metadata": {},
   "source": [
    "#### Header\n",
    "\n",
    "Extract table header from each `<tr>`."
   ]
  },
  {
   "cell_type": "code",
   "execution_count": 53,
   "metadata": {},
   "outputs": [
    {
     "name": "stdout",
     "output_type": "stream",
     "text": [
      "['Category', 'Received', 'Successful', 'Unsuccessful', 'Unused']\n",
      "['Category', 'Description', 'Received', 'Successful', 'Unsuccessful', 'Unused']\n"
     ]
    }
   ],
   "source": [
    "th_list = tr_list[0].find_all('th')\n",
    "header = [ th.text for th in th_list ]\n",
    "print(header)\n",
    "header.insert(1, 'Description')\n",
    "print(header)"
   ]
  },
  {
   "cell_type": "markdown",
   "metadata": {},
   "source": [
    "#### Table Data\n",
    "Extract table data from each `<tr>`."
   ]
  },
  {
   "cell_type": "code",
   "execution_count": 55,
   "metadata": {},
   "outputs": [
    {
     "name": "stdout",
     "output_type": "stream",
     "text": [
      "[]\n",
      "['A', 'CAR UP TO 1600CC & 97KW', '1737', '1035', '702', '0']\n",
      "['B', 'CAR ABOVE 1600CC OR 97KW', '1715', '892', '823', '12']\n",
      "['C', 'GOODS VEHICLE & BUS', '525', '350', '175', '4']\n",
      "['D', 'MOTORCYCLE', '691', '488', '203', '8']\n",
      "['E', 'OPEN-ALL EXCEPT MOTORCYCLE', '672', '470', '202', '0']\n"
     ]
    }
   ],
   "source": [
    "data = []\n",
    "for tr in tr_list:\n",
    "    td_list = tr.find_all('td')\n",
    "    row = [ td.text for td in td_list ]\n",
    "    print(row)\n",
    "    if row:\n",
    "        data.append(row)"
   ]
  },
  {
   "cell_type": "code",
   "execution_count": 56,
   "metadata": {},
   "outputs": [
    {
     "name": "stdout",
     "output_type": "stream",
     "text": [
      "[['A', 'CAR UP TO 1600CC & 97KW', '1737', '1035', '702', '0'], ['B', 'CAR ABOVE 1600CC OR 97KW', '1715', '892', '823', '12'], ['C', 'GOODS VEHICLE & BUS', '525', '350', '175', '4'], ['D', 'MOTORCYCLE', '691', '488', '203', '8'], ['E', 'OPEN-ALL EXCEPT MOTORCYCLE', '672', '470', '202', '0']]\n"
     ]
    }
   ],
   "source": [
    "print(data)"
   ]
  },
  {
   "cell_type": "markdown",
   "metadata": {},
   "source": [
    "Write to csv file `coe_bids.csv`."
   ]
  },
  {
   "cell_type": "code",
   "execution_count": 57,
   "metadata": {},
   "outputs": [],
   "source": [
    "import csv\n",
    "\n",
    "with open('coe_bids.csv', 'w', newline='') as f:\n",
    "    writer = csv.writer(f)\n",
    "    writer.writerow(header)\n",
    "    writer.writerows(data)"
   ]
  },
  {
   "cell_type": "markdown",
   "metadata": {},
   "source": [
    "Examine data in file `coe_bids.csv`."
   ]
  },
  {
   "cell_type": "code",
   "execution_count": 58,
   "metadata": {},
   "outputs": [],
   "source": [
    "!notepad coe_bids.csv"
   ]
  }
 ],
 "metadata": {
  "kernelspec": {
   "display_name": "Python 3",
   "language": "python",
   "name": "python3"
  },
  "language_info": {
   "codemirror_mode": {
    "name": "ipython",
    "version": 3
   },
   "file_extension": ".py",
   "mimetype": "text/x-python",
   "name": "python",
   "nbconvert_exporter": "python",
   "pygments_lexer": "ipython3",
   "version": "3.8.3"
  }
 },
 "nbformat": 4,
 "nbformat_minor": 2
}
