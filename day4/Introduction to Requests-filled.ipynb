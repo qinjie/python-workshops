{
 "cells": [
  {
   "cell_type": "markdown",
   "metadata": {},
   "source": [
    "# Introduction to Requests"
   ]
  },
  {
   "cell_type": "markdown",
   "metadata": {},
   "source": [
    "Requests is a popular Python module for sending HTTP requests."
   ]
  },
  {
   "cell_type": "markdown",
   "metadata": {},
   "source": [
    "Install python library `requests`."
   ]
  },
  {
   "cell_type": "code",
   "execution_count": 1,
   "metadata": {
    "scrolled": true
   },
   "outputs": [
    {
     "name": "stdout",
     "output_type": "stream",
     "text": [
      "Requirement already satisfied: requests in c:\\users\\isszq\\anaconda3\\lib\\site-packages (2.24.0)\n",
      "Requirement already satisfied: chardet<4,>=3.0.2 in c:\\users\\isszq\\anaconda3\\lib\\site-packages (from requests) (3.0.4)\n",
      "Requirement already satisfied: certifi>=2017.4.17 in c:\\users\\isszq\\anaconda3\\lib\\site-packages (from requests) (2020.6.20)\n",
      "Requirement already satisfied: urllib3!=1.25.0,!=1.25.1,<1.26,>=1.21.1 in c:\\users\\isszq\\anaconda3\\lib\\site-packages (from requests) (1.25.9)\n",
      "Requirement already satisfied: idna<3,>=2.5 in c:\\users\\isszq\\anaconda3\\lib\\site-packages (from requests) (2.10)\n"
     ]
    }
   ],
   "source": [
    "!pip install requests"
   ]
  },
  {
   "cell_type": "markdown",
   "metadata": {},
   "source": [
    "Import `request` library and print out its version."
   ]
  },
  {
   "cell_type": "code",
   "execution_count": 2,
   "metadata": {},
   "outputs": [
    {
     "data": {
      "text/plain": [
       "'2.24.0'"
      ]
     },
     "execution_count": 2,
     "metadata": {},
     "output_type": "execute_result"
    }
   ],
   "source": [
    "import requests\n",
    "requests.__version__"
   ]
  },
  {
   "cell_type": "markdown",
   "metadata": {},
   "source": [
    "## 1. Joke API"
   ]
  },
  {
   "cell_type": "markdown",
   "metadata": {},
   "source": [
    "Website http://www.icndb.com/ provides a few APIs which return jokes."
   ]
  },
  {
   "cell_type": "markdown",
   "metadata": {},
   "source": [
    "### Get Request and Response\n",
    "\n",
    "The `get()` function sends a GET request to server. \n",
    "* It returns a `Response` object.\n",
    "* From the response object, you can retreive information on `status_code`, `text`, `headers` and others."
   ]
  },
  {
   "cell_type": "code",
   "execution_count": 3,
   "metadata": {},
   "outputs": [
    {
     "name": "stdout",
     "output_type": "stream",
     "text": [
      "200\n",
      "{ \"type\": \"success\", \"value\": { \"id\": 284, \"joke\": \"Chuck Norris' first job was as a paperboy. There were no survivors.\", \"categories\": [] } }\n",
      "{'Date': 'Wed, 16 Sep 2020 23:35:23 GMT', 'Content-Type': 'application/json', 'Transfer-Encoding': 'chunked', 'Connection': 'keep-alive', 'Set-Cookie': '__cfduid=d0190208dc25b5843eb931ccd6f58dafa1600299322; expires=Fri, 16-Oct-20 23:35:22 GMT; path=/; domain=.icndb.com; HttpOnly; SameSite=Lax', 'Access-Control-Allow-Origin': '*', 'Access-Control-Allow-Methods': 'GET', 'Cache-Control': 'no-cache, must-revalidate', 'Expires': 'Sat, 26 Jul 1997 05:00:00 GMT', 'Vary': 'User-Agent', 'CF-Cache-Status': 'DYNAMIC', 'cf-request-id': '053adee4d60000c38b6f916200000001', 'Server': 'cloudflare', 'CF-RAY': '5d3e674e28d5c38b-SIN', 'Content-Encoding': 'gzip'}\n"
     ]
    }
   ],
   "source": [
    "SERVER = 'http://api.icndb.com'\n",
    "RESOURCE = '/jokes/random'\n",
    "\n",
    "url = SERVER + RESOURCE\n",
    "resp = requests.get(url)\n",
    "print(resp.status_code)\n",
    "print(resp.text)\n",
    "print(resp.headers)"
   ]
  },
  {
   "cell_type": "markdown",
   "metadata": {},
   "source": [
    "Since the returned text is in JSON format, we can convert the `text` into JSON object using its `json()` function."
   ]
  },
  {
   "cell_type": "code",
   "execution_count": 4,
   "metadata": {},
   "outputs": [
    {
     "name": "stdout",
     "output_type": "stream",
     "text": [
      "{'type': 'success', 'value': {'id': 284, 'joke': \"Chuck Norris' first job was as a paperboy. There were no survivors.\", 'categories': []}}\n"
     ]
    }
   ],
   "source": [
    "result = resp.json()\n",
    "print(result)"
   ]
  },
  {
   "cell_type": "markdown",
   "metadata": {},
   "source": [
    "Get joke from the JSON object."
   ]
  },
  {
   "cell_type": "code",
   "execution_count": 5,
   "metadata": {},
   "outputs": [
    {
     "data": {
      "text/plain": [
       "\"Chuck Norris' first job was as a paperboy. There were no survivors.\""
      ]
     },
     "execution_count": 5,
     "metadata": {},
     "output_type": "execute_result"
    }
   ],
   "source": [
    "joke = result['value']['joke']\n",
    "joke"
   ]
  },
  {
   "cell_type": "markdown",
   "metadata": {},
   "source": [
    "### Dynamic Route\n",
    "\n",
    "Above API returns us only 1 joke. \n",
    "\n",
    "It also provides us another route `/jokes/random/<count>` where we can specify the number of jokes in `<count>`. "
   ]
  },
  {
   "cell_type": "code",
   "execution_count": 6,
   "metadata": {},
   "outputs": [
    {
     "data": {
      "text/plain": [
       "'{ \"type\": \"success\", \"value\": [ { \"id\": 266, \"joke\": \"Chuck Norris? roundhouse kick is so powerful, it can be seen from outer space by the naked eye.\", \"categories\": [] }, { \"id\": 43, \"joke\": \"Police label anyone attacking Chuck Norris as a Code 45-11.... A suicide.\", \"categories\": [] }, { \"id\": 386, \"joke\": \"Chuck Norris once lost the remote, but maintained control of the TV by yelling at it in between bites of his &quot;Filet of Child&quot; sandwich.\", \"categories\": [] } ]  }'"
      ]
     },
     "execution_count": 6,
     "metadata": {},
     "output_type": "execute_result"
    }
   ],
   "source": [
    "SERVER = 'http://api.icndb.com'\n",
    "RESOURCE = '/jokes/random/3'\n",
    "\n",
    "url = SERVER + RESOURCE\n",
    "resp = requests.get(url)\n",
    "resp.text"
   ]
  },
  {
   "cell_type": "markdown",
   "metadata": {},
   "source": [
    "Process data in Response object to retrieve a list of jokes."
   ]
  },
  {
   "cell_type": "code",
   "execution_count": 7,
   "metadata": {
    "scrolled": true
   },
   "outputs": [
    {
     "name": "stdout",
     "output_type": "stream",
     "text": [
      "['Chuck Norris? roundhouse kick is so powerful, it can be seen from outer space by the naked eye.', 'Police label anyone attacking Chuck Norris as a Code 45-11.... A suicide.', 'Chuck Norris once lost the remote, but maintained control of the TV by yelling at it in between bites of his &quot;Filet of Child&quot; sandwich.']\n"
     ]
    }
   ],
   "source": [
    "result = resp.json()\n",
    "jokes = [item['joke'] for item in result['value']]\n",
    "print(jokes)"
   ]
  },
  {
   "cell_type": "markdown",
   "metadata": {},
   "source": [
    "### Query Strings\n",
    "\n",
    "The jokes are always for someone named \"Chuck Norris\". \n",
    "\n",
    "The API allows us to change its first name and last name.\n",
    "* For example, we can change first name to \"Nobody\" and last name to \"Tan\" for the joke.\n",
    "\n",
    "Try out URL http://api.icndb.com/jokes/random?firstName=Nobody&lastName=Tan"
   ]
  },
  {
   "cell_type": "markdown",
   "metadata": {},
   "source": [
    "## 2. Exercise \n",
    "\n",
    "Website https://exchangeratesapi.io/ provides a free exchange rates API for current and historical foreign exchange rates\n",
    "published by the European Central Bank.\n",
    "\n",
    "Check out its list APIs."
   ]
  },
  {
   "cell_type": "markdown",
   "metadata": {},
   "source": [
    "**Exercise:**\n",
    "\n",
    "Fetch list of exchange rates for base currency SGD. Save data in dictionary  "
   ]
  },
  {
   "cell_type": "code",
   "execution_count": 6,
   "metadata": {},
   "outputs": [
    {
     "name": "stdout",
     "output_type": "stream",
     "text": [
      "<class 'dict'>\n"
     ]
    },
    {
     "data": {
      "text/plain": [
       "{'rates': {'CAD': 0.96825792,\n",
       "  'HKD': 5.7169353333,\n",
       "  'ISK': 102.4460073442,\n",
       "  'PHP': 35.8119126159,\n",
       "  'DKK': 4.6326009834,\n",
       "  'HUF': 226.5575403,\n",
       "  'CZK': 16.9197734487,\n",
       "  'GBP': 0.5648472023,\n",
       "  'RON': 3.0346673306,\n",
       "  'SEK': 6.4507997759,\n",
       "  'IDR': 10793.8258542354,\n",
       "  'INR': 54.3813406361,\n",
       "  'BRL': 4.1151428394,\n",
       "  'RUB': 56.8926993216,\n",
       "  'HRK': 4.7149436734,\n",
       "  'JPY': 77.3448683637,\n",
       "  'THB': 23.0447501089,\n",
       "  'CHF': 0.6668948777,\n",
       "  'EUR': 0.6223937263,\n",
       "  'MYR': 3.0568867866,\n",
       "  'BGN': 1.2172776498,\n",
       "  'TRY': 5.7934897616,\n",
       "  'CNY': 4.9093794735,\n",
       "  'NOK': 6.8036970187,\n",
       "  'NZD': 1.1125287857,\n",
       "  'ZAR': 12.097715815,\n",
       "  'USD': 0.7376610444,\n",
       "  'MXN': 15.5192630858,\n",
       "  'SGD': 1.0,\n",
       "  'AUD': 1.0414514222,\n",
       "  'ILS': 2.4982884173,\n",
       "  'KRW': 835.9245658804,\n",
       "  'PLN': 2.846828904},\n",
       " 'base': 'SGD',\n",
       " 'date': '2020-10-21'}"
      ]
     },
     "execution_count": 6,
     "metadata": {},
     "output_type": "execute_result"
    }
   ],
   "source": [
    "import requests\n",
    "\n",
    "URL = 'https://api.exchangeratesapi.io/latest?base=SGD'\n",
    "response = requests.get(URL)\n",
    "\n",
    "data = response.json()\n",
    "print(type(data))\n",
    "data"
   ]
  },
  {
   "cell_type": "markdown",
   "metadata": {},
   "source": [
    "**Exercise:**\n",
    "\n",
    "Ask user to input 2 currencies. Find out exchange rate between them using the API."
   ]
  },
  {
   "cell_type": "code",
   "execution_count": 11,
   "metadata": {},
   "outputs": [
    {
     "name": "stdout",
     "output_type": "stream",
     "text": [
      "Base Currency Symbol: SGD\n",
      "To Currency Symbol: USD\n",
      "{'rates': {'USD': 0.7376610444}, 'base': 'SGD', 'date': '2020-10-21'}\n",
      "0.7376610444\n"
     ]
    }
   ],
   "source": [
    "URL = 'https://api.exchangeratesapi.io/latest?base={}&symbols={}'\n",
    "\n",
    "base_currency = input('Base Currency Symbol: ')\n",
    "to_currency = input('To Currency Symbol: ')\n",
    "\n",
    "response = requests.get(URL.format(base_currency, to_currency))\n",
    "data = response.json()\n",
    "\n",
    "print(data)\n",
    "print(data['rates'][to_currency])"
   ]
  }
 ],
 "metadata": {
  "kernelspec": {
   "display_name": "Python 3",
   "language": "python",
   "name": "python3"
  },
  "language_info": {
   "codemirror_mode": {
    "name": "ipython",
    "version": 3
   },
   "file_extension": ".py",
   "mimetype": "text/x-python",
   "name": "python",
   "nbconvert_exporter": "python",
   "pygments_lexer": "ipython3",
   "version": "3.8.3"
  }
 },
 "nbformat": 4,
 "nbformat_minor": 4
}
