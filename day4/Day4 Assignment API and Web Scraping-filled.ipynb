{
 "cells": [
  {
   "cell_type": "markdown",
   "metadata": {
    "colab_type": "text",
    "id": "lGHFNAUxQYgm"
   },
   "source": [
    "# Assignment - API and Web Scraping"
   ]
  },
  {
   "cell_type": "markdown",
   "metadata": {},
   "source": [
    "## 1. Fetch API Data\n",
    "\n",
    "**Cropto Compare** provides API on exchange rate. https://min-api.cryptocompare.com/documentation\n",
    "\n",
    "You are to fetch exchange rates from SGD to JPY,USD,MYR,EUR using above API.\n",
    "\n",
    "1. Make api call from python & fetch the response in a python dict.\n",
    "2. Parse returned data from the API Response. For example,\n",
    "    ```\n",
    "    {\n",
    "    \"JPY\": 107.93,\n",
    "    \"INR\": 84.82\n",
    "    }\n",
    "    ```\n",
    "4. Format the parsed infomation/data and save it into a csv file `fx_api.csv` with following format.\n",
    "\n",
    "| from_symbol | to_symbol | price | datetime |\n",
    "| ---  | ---  | ---  | --- |\n",
    "| USD | INR | 71 | ... |\n",
    "| USD | SGD | 1.37| ... |\n",
    "\n",
    "Hint: Use python `time` or `datetime` module to get the current time."
   ]
  },
  {
   "cell_type": "code",
   "execution_count": 8,
   "metadata": {
    "colab": {},
    "colab_type": "code",
    "id": "b0mJn9GQjH9K"
   },
   "outputs": [
    {
     "name": "stdout",
     "output_type": "stream",
     "text": [
      "200\n",
      "{'JPY': 78.2, 'USD': 0.7465, 'MYR': 3.141, 'EUR': 0.6325}\n"
     ]
    }
   ],
   "source": [
    "# https://min-api.cryptocompare.com/data/price?fsym=SGD&tsyms=JPY,USD,MYR,EUR\n",
    "import requests\n",
    "\n",
    "fsym = 'SGD'\n",
    "tsyms = 'JPY,USD,MYR,EUR'\n",
    "URL = f'https://min-api.cryptocompare.com/data/price?fsym={fsym}&tsyms={tsyms}'\n",
    "\n",
    "response = requests.get(URL)\n",
    "\n",
    "print(response.status_code)\n",
    "rates = response.json()\n",
    "print(rates)"
   ]
  },
  {
   "cell_type": "code",
   "execution_count": 14,
   "metadata": {},
   "outputs": [],
   "source": [
    "# for k,v in data.items():\n",
    "#     print(k, v)\n",
    "\n",
    "import csv\n",
    "from datetime import datetime\n",
    "\n",
    "now = datetime.now().strftime('%Y-%m-%d %H:%M:%S')\n",
    "\n",
    "data = [ [fsym, k, v, now] for k,v in rates.items() ]\n",
    "header = ['from_symbol', 'to_symbol', 'price', 'datetime']\n",
    "\n",
    "with open('fx_api.csv', 'w', newline='') as f:\n",
    "    writer = csv.writer(f)\n",
    "    writer.writerow(header)\n",
    "    writer.writerows(data)\n"
   ]
  },
  {
   "cell_type": "code",
   "execution_count": 15,
   "metadata": {},
   "outputs": [],
   "source": [
    "!notepad fx_api.csv"
   ]
  },
  {
   "cell_type": "markdown",
   "metadata": {
    "colab": {},
    "colab_type": "code",
    "id": "26BMUZv-j4eZ"
   },
   "source": [
    "## 2. Scrape static websites\n",
    "\n",
    "Exchange Rates website https://www.exchange-rates.org/converter provides a tool to calculate foreign currencies. \n",
    "\n",
    "For example, to convert 1 USD to EUR, use URL https://www.exchange-rates.org/converter/USD/EUR/1. \n",
    "\n",
    "From the website, extract exchange rate data for following currency pairs. Save them into `fx_scrap.csv`.\n",
    "\n",
    "| from_symbol | to_symbol | price | datetime |\n",
    "| ---  | ---  | ---  | --- |\n",
    "| SGD | EUR | ... | ... |\n",
    "| SGD | HKD | ... | ... |\n",
    "| SGD | USD | ... | ... |\n",
    "| SGD | MYR | ... | ... |\n",
    "\n",
    "Noted:\n",
    "Use `bs4` library to parse the HTML\n",
    "\n",
    "1. Look at the URL `path parameter` and decide how to pass inputs into URL.\n",
    "2. Use `bs4` library to parse the html as show below.\n",
    "3. You need to make mutiple requests."
   ]
  },
  {
   "cell_type": "code",
   "execution_count": 11,
   "metadata": {
    "scrolled": true
   },
   "outputs": [
    {
     "name": "stdout",
     "output_type": "stream",
     "text": [
      "['SGD', 'EUR', 0.62195, '2020-09-18 08:52:22']\n",
      "['SGD', 'HKD', 5.7125, '2020-09-18 08:52:22']\n",
      "['SGD', 'USD', 0.73709, '2020-09-18 08:52:22']\n",
      "['SGD', 'MYR', 3.0369, '2020-09-18 08:52:22']\n",
      "[['SGD', 'EUR', 0.62195, '2020-09-18 08:52:22'], ['SGD', 'HKD', 5.7125, '2020-09-18 08:52:22'], ['SGD', 'USD', 0.73709, '2020-09-18 08:52:22'], ['SGD', 'MYR', 3.0369, '2020-09-18 08:52:22']]\n"
     ]
    }
   ],
   "source": [
    "import requests\n",
    "from bs4 import BeautifulSoup\n",
    "from datetime import datetime\n",
    "import csv\n",
    "\n",
    "from_symbol = 'SGD'\n",
    "to_symbols = ['EUR', 'HKD', 'USD', 'MYR']\n",
    "\n",
    "now = datetime.now().strftime('%Y-%m-%d %H:%M:%S')\n",
    "\n",
    "result = []\n",
    "header = ['from_symbol', 'to_symbol', 'price', 'datetime']\n",
    "\n",
    "for i in range(len(to_symbols)):\n",
    "    URL = f'https://www.exchange-rates.org/converter/{from_symbol}/{to_symbols[i]}/1'\n",
    "\n",
    "    response = requests.get(URL)\n",
    "    html = response.text\n",
    "\n",
    "    soup = BeautifulSoup(html)\n",
    "\n",
    "    tag = soup.find('span', {'id':'ctl00_M_lblToAmount'})\n",
    "    row = [from_symbol, to_symbols[i], float(tag.text), now]\n",
    "    print(row)\n",
    "    result.append(row)\n",
    "    \n",
    "print(result)\n",
    "\n",
    "with open('fx_scrap.csv', 'w', newline='') as f:\n",
    "    writer = csv.writer(f)\n",
    "    writer.writerow(header)\n",
    "    writer.writerows(result)"
   ]
  },
  {
   "cell_type": "code",
   "execution_count": 12,
   "metadata": {},
   "outputs": [],
   "source": [
    "!notepad fx_scrap.csv"
   ]
  }
 ],
 "metadata": {
  "colab": {
   "collapsed_sections": [
    "eUCYwxGUZC5S",
    "LPClnJ_vZGiu"
   ],
   "name": "Pydot Workshops.ipynb",
   "provenance": []
  },
  "kernelspec": {
   "display_name": "Python 3",
   "language": "python",
   "name": "python3"
  },
  "language_info": {
   "codemirror_mode": {
    "name": "ipython",
    "version": 3
   },
   "file_extension": ".py",
   "mimetype": "text/x-python",
   "name": "python",
   "nbconvert_exporter": "python",
   "pygments_lexer": "ipython3",
   "version": "3.8.3"
  }
 },
 "nbformat": 4,
 "nbformat_minor": 1
}
