{
 "cells": [
  {
   "cell_type": "markdown",
   "metadata": {},
   "source": [
    "# Web Scraping using Selenium"
   ]
  },
  {
   "cell_type": "markdown",
   "metadata": {},
   "source": [
    "**Objectives:** \n",
    "\n",
    "* How to use Selenium to login a website\n",
    "* How to use Selenium to extract HTML\n",
    "* How to use Selenium to interact with website before extract HTML\n",
    "\n",
    "### <u>Scape NEA Weather Data </u>\n",
    "\n",
    "Perform extraction of data from NEA website <u>without any interaction on webpage</u>. \n",
    "\n",
    "* https://www.nea.gov.sg/weather"
   ]
  },
  {
   "cell_type": "markdown",
   "metadata": {},
   "source": [
    "\n",
    "Install Python library `selenium` and `webdriver_manager` using `pip`. "
   ]
  },
  {
   "cell_type": "code",
   "execution_count": 2,
   "metadata": {},
   "outputs": [
    {
     "name": "stdout",
     "output_type": "stream",
     "text": [
      "Requirement already satisfied: selenium in c:\\users\\isszq\\anaconda3\\lib\\site-packages (3.141.0)\n",
      "Requirement already satisfied: urllib3 in c:\\users\\isszq\\anaconda3\\lib\\site-packages (from selenium) (1.25.9)\n",
      "Requirement already satisfied: webdriver_manager in c:\\users\\isszq\\anaconda3\\lib\\site-packages (3.2.2)\n",
      "Requirement already satisfied: requests in c:\\users\\isszq\\anaconda3\\lib\\site-packages (from webdriver_manager) (2.24.0)\n",
      "Requirement already satisfied: crayons in c:\\users\\isszq\\anaconda3\\lib\\site-packages (from webdriver_manager) (0.4.0)\n",
      "Requirement already satisfied: configparser in c:\\users\\isszq\\anaconda3\\lib\\site-packages (from webdriver_manager) (5.0.0)\n",
      "Requirement already satisfied: idna<3,>=2.5 in c:\\users\\isszq\\anaconda3\\lib\\site-packages (from requests->webdriver_manager) (2.10)\n",
      "Requirement already satisfied: chardet<4,>=3.0.2 in c:\\users\\isszq\\anaconda3\\lib\\site-packages (from requests->webdriver_manager) (3.0.4)\n",
      "Requirement already satisfied: urllib3!=1.25.0,!=1.25.1,<1.26,>=1.21.1 in c:\\users\\isszq\\anaconda3\\lib\\site-packages (from requests->webdriver_manager) (1.25.9)\n",
      "Requirement already satisfied: certifi>=2017.4.17 in c:\\users\\isszq\\anaconda3\\lib\\site-packages (from requests->webdriver_manager) (2020.6.20)\n",
      "Requirement already satisfied: colorama in c:\\users\\isszq\\anaconda3\\lib\\site-packages (from crayons->webdriver_manager) (0.4.3)\n"
     ]
    }
   ],
   "source": [
    "!pip install selenium\n",
    "!pip install webdriver_manager"
   ]
  },
  {
   "cell_type": "markdown",
   "metadata": {},
   "source": [
    "Import libraries"
   ]
  },
  {
   "cell_type": "code",
   "execution_count": 3,
   "metadata": {},
   "outputs": [],
   "source": [
    "from selenium import webdriver\n",
    "from selenium.webdriver.common.by import By\n",
    "from selenium.webdriver.common.keys import Keys\n",
    "from selenium.webdriver.support import expected_conditions as EC\n",
    "from selenium.webdriver.support.wait import WebDriverWait\n",
    "\n",
    "from webdriver_manager.chrome import ChromeDriverManager"
   ]
  },
  {
   "cell_type": "markdown",
   "metadata": {},
   "source": [
    "## 2. Extract Data without Interaction"
   ]
  },
  {
   "cell_type": "markdown",
   "metadata": {},
   "source": [
    "We will demonstrate on how to extract company announcements and company news from SGX website."
   ]
  },
  {
   "cell_type": "markdown",
   "metadata": {},
   "source": [
    "### Open Website and Get HTML\n",
    "\n",
    "Get an instance of web browser. \n",
    "* The `webdriver_manager` provides managers for different browsers. It will download the correct version of driver for your browser."
   ]
  },
  {
   "cell_type": "code",
   "execution_count": 4,
   "metadata": {},
   "outputs": [
    {
     "name": "stderr",
     "output_type": "stream",
     "text": [
      "[WDM] - Current google-chrome version is 85.0.4183\n",
      "[WDM] - Get LATEST driver version for 85.0.4183\n"
     ]
    },
    {
     "name": "stdout",
     "output_type": "stream",
     "text": [
      " \n"
     ]
    },
    {
     "name": "stderr",
     "output_type": "stream",
     "text": [
      "[WDM] - There is no [win32] chromedriver for browser 85.0.4183 in cache\n",
      "[WDM] - Get LATEST driver version for 85.0.4183\n",
      "[WDM] - Trying to download new driver from http://chromedriver.storage.googleapis.com/85.0.4183.87/chromedriver_win32.zip\n",
      "[WDM] - Driver has been saved in cache [C:\\Users\\isszq\\.wdm\\drivers\\chromedriver\\win32\\85.0.4183.87]\n"
     ]
    }
   ],
   "source": [
    "browser = webdriver.Chrome(ChromeDriverManager().install())"
   ]
  },
  {
   "cell_type": "markdown",
   "metadata": {},
   "source": [
    "Use the `browser` object to open a webpage. "
   ]
  },
  {
   "cell_type": "code",
   "execution_count": 5,
   "metadata": {},
   "outputs": [],
   "source": [
    "url = 'https://www.nea.gov.sg/weather'\n",
    "browser.get(url)\n",
    "# Wait for 10 seconds before timeout\n",
    "wait = WebDriverWait(browser, 10)\n",
    "# Wait until an element is present\n",
    "wait.until(EC.presence_of_element_located((By.ID, 'fourDayOutlook')))\n",
    "# Receive cookies and HTML\n",
    "cookies = browser.get_cookies()\n",
    "html = browser.page_source"
   ]
  },
  {
   "cell_type": "markdown",
   "metadata": {},
   "source": [
    "Close web browser since we have already gotten the HTML code."
   ]
  },
  {
   "cell_type": "code",
   "execution_count": 9,
   "metadata": {},
   "outputs": [],
   "source": [
    "browser.close()"
   ]
  },
  {
   "cell_type": "markdown",
   "metadata": {},
   "source": [
    "### Examine HTML Code and Make Soup"
   ]
  },
  {
   "cell_type": "markdown",
   "metadata": {},
   "source": [
    "Save the HTML code to a file and examine it. Examine the file to make sure it contains the data which you are interested in."
   ]
  },
  {
   "cell_type": "code",
   "execution_count": 10,
   "metadata": {},
   "outputs": [],
   "source": [
    "with open('_temp.html', 'w') as f:\n",
    "    s = html.encode(\"utf-8\")\n",
    "    f.write(str(s))"
   ]
  },
  {
   "cell_type": "markdown",
   "metadata": {},
   "source": [
    "Let's \"make a soup\" from the downloaded HTML code."
   ]
  },
  {
   "cell_type": "code",
   "execution_count": 11,
   "metadata": {},
   "outputs": [],
   "source": [
    "from bs4 import BeautifulSoup\n",
    "\n",
    "soup = BeautifulSoup(html)"
   ]
  },
  {
   "cell_type": "markdown",
   "metadata": {},
   "source": [
    "## 3. Extract \"4-day Outlook\""
   ]
  },
  {
   "cell_type": "markdown",
   "metadata": {},
   "source": [
    "In Chrome, inspect the element of the `4-day Outlook`. It uses a `<div>` tag with `id=\"fourDayOutlook\"`.\n",
    "\n",
    "Use `soup.find()` to find above element by its tag name."
   ]
  },
  {
   "cell_type": "code",
   "execution_count": 24,
   "metadata": {},
   "outputs": [],
   "source": [
    "outlook = soup.find('div', {'id':\"fourDayOutlook\"})\n",
    "# print(raw)"
   ]
  },
  {
   "cell_type": "markdown",
   "metadata": {},
   "source": [
    "Each of the 4 elements inside the `4-day Outlook` uses a `<div>` tag with `class=\"stats-data--4days__item\"`.\n",
    "\n",
    "Use `findAll()` method to find all matching elements."
   ]
  },
  {
   "cell_type": "code",
   "execution_count": 29,
   "metadata": {
    "scrolled": false
   },
   "outputs": [
    {
     "name": "stdout",
     "output_type": "stream",
     "text": [
      "4\n",
      "<div class=\"stats-data--4days__item\">\n",
      "<div class=\"icon\"><img alt=\"weather icon\" src=\"/assets/images/icons/weather/pc.png\"/></div>\n",
      "<div class=\"content\">\n",
      "<div class=\"weather-4-outlook\">\n",
      "<span class=\"day\">FRI</span>\n",
      "<span class=\"info\">Partly cloudy.</span>\n",
      "</div>\n",
      "<div class=\"temperature\">\n",
      "<div class=\"info\">\n",
      "<i class=\"icon icon-thermometer\"></i>\n",
      "<span>23 - 33°C</span>\n",
      "</div>\n",
      "<div class=\"info\">\n",
      "<i class=\"icon icon-wind-direction\" id=\"icon_wind_direction\" style=\"transform:rotate(312deg);-ms-transform:rotate(312deg);\"></i>\n",
      "<span>SSE 15 - 25km/h</span>\n",
      "</div>\n",
      "</div>\n",
      "</div>\n",
      "</div>\n"
     ]
    }
   ],
   "source": [
    "days = outlook.findAll('div', {'class':\"stats-data--4days__item\"})\n",
    "print(len(days))\n",
    "# print(days)\n",
    "print(days[0])"
   ]
  },
  {
   "cell_type": "markdown",
   "metadata": {},
   "source": [
    "In each day, our target data are all in `<span>`."
   ]
  },
  {
   "cell_type": "code",
   "execution_count": 41,
   "metadata": {},
   "outputs": [
    {
     "name": "stdout",
     "output_type": "stream",
     "text": [
      "[['FRI', 'Partly cloudy.', '23 - 33°C', 'SSE 15 - 25km/h'], ['SAT', 'Pre-dawn hours and early morning thundery showers.', '24 - 33°C', 'SSE 15 - 25km/h'], ['SUN', 'Afternoon and evening thundery showers.', '24 - 33°C', 'ENE 10 - 20km/h'], ['MON', 'Afternoon thundery showers.', '24 - 34°C', 'NE 5 - 15km/h']]\n"
     ]
    }
   ],
   "source": [
    "rows = [ [span.text for span in day.findAll('span')] for day in days ]\n",
    "print(rows)"
   ]
  }
 ],
 "metadata": {
  "kernelspec": {
   "display_name": "Python 3",
   "language": "python",
   "name": "python3"
  },
  "language_info": {
   "codemirror_mode": {
    "name": "ipython",
    "version": 3
   },
   "file_extension": ".py",
   "mimetype": "text/x-python",
   "name": "python",
   "nbconvert_exporter": "python",
   "pygments_lexer": "ipython3",
   "version": "3.8.3"
  }
 },
 "nbformat": 4,
 "nbformat_minor": 4
}
