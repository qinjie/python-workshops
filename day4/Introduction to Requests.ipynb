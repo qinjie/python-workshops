{
 "cells": [
  {
   "cell_type": "markdown",
   "metadata": {},
   "source": [
    "# Introduction to Requests"
   ]
  },
  {
   "cell_type": "markdown",
   "metadata": {},
   "source": [
    "Requests is a popular Python module for sending HTTP requests."
   ]
  },
  {
   "cell_type": "markdown",
   "metadata": {},
   "source": [
    "Install python library `requests`."
   ]
  },
  {
   "cell_type": "code",
   "execution_count": 1,
   "metadata": {
    "scrolled": true
   },
   "outputs": [
    {
     "name": "stdout",
     "output_type": "stream",
     "text": [
      "Requirement already satisfied: requests in c:\\users\\isszq\\anaconda3\\lib\\site-packages (2.22.0)\n",
      "Requirement already satisfied: certifi>=2017.4.17 in c:\\users\\isszq\\anaconda3\\lib\\site-packages (from requests) (2019.11.28)\n",
      "Requirement already satisfied: urllib3!=1.25.0,!=1.25.1,<1.26,>=1.21.1 in c:\\users\\isszq\\anaconda3\\lib\\site-packages (from requests) (1.25.8)\n",
      "Requirement already satisfied: idna<2.9,>=2.5 in c:\\users\\isszq\\anaconda3\\lib\\site-packages (from requests) (2.8)\n",
      "Requirement already satisfied: chardet<3.1.0,>=3.0.2 in c:\\users\\isszq\\anaconda3\\lib\\site-packages (from requests) (3.0.4)\n"
     ]
    }
   ],
   "source": []
  },
  {
   "cell_type": "markdown",
   "metadata": {},
   "source": [
    "Import `request` library and print out its version."
   ]
  },
  {
   "cell_type": "code",
   "execution_count": 2,
   "metadata": {},
   "outputs": [
    {
     "data": {
      "text/plain": [
       "'2.22.0'"
      ]
     },
     "execution_count": 2,
     "metadata": {},
     "output_type": "execute_result"
    }
   ],
   "source": []
  },
  {
   "cell_type": "markdown",
   "metadata": {},
   "source": [
    "## 1. Joke API"
   ]
  },
  {
   "cell_type": "markdown",
   "metadata": {},
   "source": [
    "Website http://www.icndb.com/ provides a few APIs which return jokes."
   ]
  },
  {
   "cell_type": "markdown",
   "metadata": {},
   "source": [
    "### Get Request and Response\n",
    "\n",
    "The `get()` function sends a GET request to server. \n",
    "* It returns a `Response` object.\n",
    "* From the response object, you can retreive information on `status_code`, `text`, `headers` and others."
   ]
  },
  {
   "cell_type": "code",
   "execution_count": 8,
   "metadata": {},
   "outputs": [
    {
     "name": "stdout",
     "output_type": "stream",
     "text": [
      "200\n",
      "{ \"type\": \"success\", \"value\": { \"id\": 284, \"joke\": \"Chuck Norris' first job was as a paperboy. There were no survivors.\", \"categories\": [] } }\n",
      "{'Date': 'Sat, 11 Jul 2020 02:51:22 GMT', 'Content-Type': 'application/json', 'Transfer-Encoding': 'chunked', 'Connection': 'keep-alive', 'Set-Cookie': '__cfduid=d93d42b7bc3fc270c6f3ed0fa14f737131594435882; expires=Mon, 10-Aug-20 02:51:22 GMT; path=/; domain=.icndb.com; HttpOnly; SameSite=Lax', 'Access-Control-Allow-Origin': '*', 'Access-Control-Allow-Methods': 'GET', 'Cache-Control': 'no-cache, must-revalidate', 'Expires': 'Sat, 26 Jul 1997 05:00:00 GMT', 'Vary': 'User-Agent', 'CF-Cache-Status': 'DYNAMIC', 'cf-request-id': '03dd61e56e0000a8f8c7b8b200000001', 'Server': 'cloudflare', 'CF-RAY': '5b0f38e8b93ba8f8-SIN', 'Content-Encoding': 'gzip'}\n"
     ]
    }
   ],
   "source": []
  },
  {
   "cell_type": "markdown",
   "metadata": {},
   "source": [
    "Since the returned text is in JSON format, we can convert the `text` into JSON object using its `json()` function."
   ]
  },
  {
   "cell_type": "code",
   "execution_count": 10,
   "metadata": {},
   "outputs": [
    {
     "name": "stdout",
     "output_type": "stream",
     "text": [
      "{'type': 'success', 'value': {'id': 284, 'joke': \"Chuck Norris' first job was as a paperboy. There were no survivors.\", 'categories': []}}\n"
     ]
    }
   ],
   "source": []
  },
  {
   "cell_type": "markdown",
   "metadata": {},
   "source": [
    "Get joke from the JSON object."
   ]
  },
  {
   "cell_type": "code",
   "execution_count": 12,
   "metadata": {},
   "outputs": [
    {
     "data": {
      "text/plain": [
       "\"Chuck Norris' first job was as a paperboy. There were no survivors.\""
      ]
     },
     "execution_count": 12,
     "metadata": {},
     "output_type": "execute_result"
    }
   ],
   "source": []
  },
  {
   "cell_type": "markdown",
   "metadata": {},
   "source": [
    "### Dynamic Route\n",
    "\n",
    "Above API returns us only 1 joke. \n",
    "\n",
    "It also provides us another route `/jokes/random/<count>` where we can specify the number of jokes in `<count>`. "
   ]
  },
  {
   "cell_type": "code",
   "execution_count": 14,
   "metadata": {},
   "outputs": [
    {
     "data": {
      "text/plain": [
       "'{ \"type\": \"success\", \"value\": [ { \"id\": 59, \"joke\": \"Chuck Norris once roundhouse kicked someone so hard that his foot broke the speed of light, went back in time, and killed Amelia Earhart while she was flying over the Pacific Ocean.\", \"categories\": [] }, { \"id\": 517, \"joke\": \"Chuck Norris solved the halting problem.\", \"categories\": [\"nerdy\"] }, { \"id\": 365, \"joke\": \"Chuck Norris has never won an Academy Award for acting... because he\\'s not acting.\", \"categories\": [] } ]  }'"
      ]
     },
     "execution_count": 14,
     "metadata": {},
     "output_type": "execute_result"
    }
   ],
   "source": []
  },
  {
   "cell_type": "markdown",
   "metadata": {},
   "source": [
    "Process data in Response object to retrieve a list of jokes."
   ]
  },
  {
   "cell_type": "code",
   "execution_count": 16,
   "metadata": {
    "scrolled": true
   },
   "outputs": [
    {
     "name": "stdout",
     "output_type": "stream",
     "text": [
      "['Chuck Norris once roundhouse kicked someone so hard that his foot broke the speed of light, went back in time, and killed Amelia Earhart while she was flying over the Pacific Ocean.', 'Chuck Norris solved the halting problem.', \"Chuck Norris has never won an Academy Award for acting... because he's not acting.\"]\n"
     ]
    }
   ],
   "source": []
  },
  {
   "cell_type": "markdown",
   "metadata": {},
   "source": [
    "### Query Strings\n",
    "\n",
    "The jokes are always for someone named \"Chuck Norris\". \n",
    "\n",
    "The API allows us to change its first name and last name.\n",
    "* For example, we can change first name to \"Nobody\" and last name to \"Tan\" for the joke.\n",
    "\n",
    "Try out URL http://api.icndb.com/jokes/random?firstName=Nobody&lastName=Tan"
   ]
  },
  {
   "cell_type": "markdown",
   "metadata": {},
   "source": [
    "## 2. Exercise \n",
    "\n",
    "Website https://exchangeratesapi.io/ provides a free exchange rates API for current and historical foreign exchange rates\n",
    "published by the European Central Bank.\n",
    "\n",
    "Check out its list APIs."
   ]
  },
  {
   "cell_type": "markdown",
   "metadata": {},
   "source": [
    "**Exercise:**\n",
    "\n",
    "Fetch list of exchange rates for base currency SGD. Save data in dictionary  "
   ]
  },
  {
   "cell_type": "code",
   "execution_count": null,
   "metadata": {},
   "outputs": [],
   "source": []
  },
  {
   "cell_type": "markdown",
   "metadata": {},
   "source": [
    "**Exercise:**\n",
    "\n",
    "Ask user to input 2 currencies. Find out exchange rate between them using the API."
   ]
  },
  {
   "cell_type": "code",
   "execution_count": null,
   "metadata": {},
   "outputs": [],
   "source": []
  }
 ],
 "metadata": {
  "kernelspec": {
   "display_name": "Python 3",
   "language": "python",
   "name": "python3"
  },
  "language_info": {
   "codemirror_mode": {
    "name": "ipython",
    "version": 3
   },
   "file_extension": ".py",
   "mimetype": "text/x-python",
   "name": "python",
   "nbconvert_exporter": "python",
   "pygments_lexer": "ipython3",
   "version": "3.8.5"
  }
 },
 "nbformat": 4,
 "nbformat_minor": 4
}
