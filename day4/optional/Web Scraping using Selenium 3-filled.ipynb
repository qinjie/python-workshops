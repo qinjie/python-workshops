{
 "cells": [
  {
   "cell_type": "markdown",
   "metadata": {},
   "source": [
    "# Web Scraping using Selenium - SGX Website"
   ]
  },
  {
   "cell_type": "markdown",
   "metadata": {},
   "source": [
    "**Objectives:** \n",
    "\n",
    "* How to use Selenium to extract HTML\n",
    "* How to use Selenium to interact with website before extract HTML\n",
    "\n",
    "We will use following website to demonstrate \n",
    "* https://www.sgx.com/securities/equities/D05"
   ]
  },
  {
   "cell_type": "markdown",
   "metadata": {},
   "source": [
    "\n",
    "Install Python library `selenium` and `webdriver_manager` using `pip`. "
   ]
  },
  {
   "cell_type": "code",
   "execution_count": 1,
   "metadata": {},
   "outputs": [
    {
     "name": "stdout",
     "output_type": "stream",
     "text": [
      "Requirement already satisfied: selenium in c:\\users\\isszq\\anaconda3\\envs\\pydot36\\lib\\site-packages (3.141.0)\n",
      "Requirement already satisfied: urllib3 in c:\\users\\isszq\\anaconda3\\envs\\pydot36\\lib\\site-packages (from selenium) (1.25.9)\n",
      "Requirement already satisfied: webdriver_manager in c:\\users\\isszq\\anaconda3\\envs\\pydot36\\lib\\site-packages (3.2.1)\n",
      "Requirement already satisfied: requests in c:\\users\\isszq\\anaconda3\\envs\\pydot36\\lib\\site-packages (from webdriver_manager) (2.24.0)\n",
      "Requirement already satisfied: crayons in c:\\users\\isszq\\anaconda3\\envs\\pydot36\\lib\\site-packages (from webdriver_manager) (0.3.1)\n",
      "Requirement already satisfied: configparser in c:\\users\\isszq\\anaconda3\\envs\\pydot36\\lib\\site-packages (from webdriver_manager) (5.0.0)\n",
      "Requirement already satisfied: certifi>=2017.4.17 in c:\\users\\isszq\\anaconda3\\envs\\pydot36\\lib\\site-packages (from requests->webdriver_manager) (2020.6.20)\n",
      "Requirement already satisfied: urllib3!=1.25.0,!=1.25.1,<1.26,>=1.21.1 in c:\\users\\isszq\\anaconda3\\envs\\pydot36\\lib\\site-packages (from requests->webdriver_manager) (1.25.9)\n",
      "Requirement already satisfied: idna<3,>=2.5 in c:\\users\\isszq\\anaconda3\\envs\\pydot36\\lib\\site-packages (from requests->webdriver_manager) (2.10)\n",
      "Requirement already satisfied: chardet<4,>=3.0.2 in c:\\users\\isszq\\anaconda3\\envs\\pydot36\\lib\\site-packages (from requests->webdriver_manager) (3.0.4)\n",
      "Requirement already satisfied: colorama in c:\\users\\isszq\\anaconda3\\envs\\pydot36\\lib\\site-packages (from crayons->webdriver_manager) (0.4.3)\n"
     ]
    }
   ],
   "source": [
    "!pip install selenium\n",
    "!pip install webdriver_manager"
   ]
  },
  {
   "cell_type": "markdown",
   "metadata": {},
   "source": [
    "Import libraries"
   ]
  },
  {
   "cell_type": "code",
   "execution_count": 2,
   "metadata": {},
   "outputs": [],
   "source": [
    "from selenium import webdriver\n",
    "from selenium.webdriver.common.by import By\n",
    "from selenium.webdriver.common.keys import Keys\n",
    "from selenium.webdriver.support import expected_conditions as EC\n",
    "from selenium.webdriver.support.wait import WebDriverWait\n",
    "\n",
    "from webdriver_manager.chrome import ChromeDriverManager"
   ]
  },
  {
   "cell_type": "markdown",
   "metadata": {},
   "source": [
    "## 1. Extract Data without Interaction"
   ]
  },
  {
   "cell_type": "markdown",
   "metadata": {},
   "source": [
    "We will demonstrate on how to extract company announcements and company news from SGX website."
   ]
  },
  {
   "cell_type": "markdown",
   "metadata": {},
   "source": [
    "### Open Website and Get HTML\n",
    "\n",
    "Get an instance of web browser. \n",
    "* The `webdriver_manager` provides managers for different browsers. It will download the correct version of driver for your browser."
   ]
  },
  {
   "cell_type": "code",
   "execution_count": 3,
   "metadata": {},
   "outputs": [
    {
     "name": "stderr",
     "output_type": "stream",
     "text": [
      "[WDM] - Current google-chrome version is 83.0.4103\n",
      "[WDM] - Get LATEST driver version for 83.0.4103\n",
      "[WDM] - Driver [C:\\Users\\isszq\\.wdm\\drivers\\chromedriver\\win32\\83.0.4103.39\\chromedriver.exe] found in cache\n"
     ]
    },
    {
     "name": "stdout",
     "output_type": "stream",
     "text": [
      " \n"
     ]
    }
   ],
   "source": [
    "browser = webdriver.Chrome(ChromeDriverManager().install())"
   ]
  },
  {
   "cell_type": "markdown",
   "metadata": {},
   "source": [
    "Use the `browser` object to open a webpage. "
   ]
  },
  {
   "cell_type": "code",
   "execution_count": 4,
   "metadata": {},
   "outputs": [],
   "source": [
    "symbol = 'D05'\n",
    "url = f'https://www.sgx.com/securities/equities/{symbol}'\n",
    "browser.get(url)\n",
    "# Wait for 10 seconds before timeout\n",
    "wait = WebDriverWait(browser, 10)\n",
    "# Wait until an element is present\n",
    "wait.until(EC.presence_of_element_located((By.TAG_NAME, 'widget-company-announcements')))\n",
    "# Receive cookies and HTML\n",
    "cookies = browser.get_cookies()\n",
    "html = browser.page_source"
   ]
  },
  {
   "cell_type": "code",
   "execution_count": 5,
   "metadata": {},
   "outputs": [],
   "source": [
    "browser.close()"
   ]
  },
  {
   "cell_type": "markdown",
   "metadata": {},
   "source": [
    "To find multiple items, you can use following methods.\n",
    "* find_elements_by_id()\n",
    "* find_elements_by_name()\n",
    "* find_elements_by_xpath()\n",
    "* find_elements_by_link_text()\n",
    "* find_elements_by_partial_link_text()\n",
    "* find_elements_by_tag_name()\n",
    "* find_elements_by_class_name()\n",
    "* find_elements_by_css_selector()"
   ]
  },
  {
   "cell_type": "markdown",
   "metadata": {},
   "source": [
    "### Examine HTML Code and Make Soup"
   ]
  },
  {
   "cell_type": "markdown",
   "metadata": {},
   "source": [
    "Save the HTML code to a file and examine it. Examine the file to make sure it contains the data which you are interested in."
   ]
  },
  {
   "cell_type": "code",
   "execution_count": 6,
   "metadata": {},
   "outputs": [],
   "source": [
    "with open('_temp.html', 'w') as f:\n",
    "    s = html.encode(\"utf-8\")\n",
    "    f.write(str(s))"
   ]
  },
  {
   "cell_type": "markdown",
   "metadata": {},
   "source": [
    "Let's \"make a soup\" from the downloaded HTML code."
   ]
  },
  {
   "cell_type": "code",
   "execution_count": 7,
   "metadata": {},
   "outputs": [],
   "source": [
    "from bs4 import BeautifulSoup\n",
    "\n",
    "soup = BeautifulSoup(html)"
   ]
  },
  {
   "cell_type": "markdown",
   "metadata": {},
   "source": [
    "## 2. Example: Extract Company Announcements"
   ]
  },
  {
   "cell_type": "markdown",
   "metadata": {},
   "source": [
    "In Chrome, inspect the element of the Company Announcements. It uses a custom tag `widget-company-announcements`.\n",
    "\n",
    "```html\n",
    "<widget-company-announcements class=\"website-template-widget print-format-d-none\" data-analytics-category=\"Company Announcements\">\n",
    "      ...\n",
    "</widget-company-announcements>\n",
    "```\n",
    "\n",
    "Use `soup.find()` to find above element by its tag name."
   ]
  },
  {
   "cell_type": "code",
   "execution_count": 8,
   "metadata": {
    "scrolled": true
   },
   "outputs": [],
   "source": [
    "html_announcements = soup.find('widget-company-announcements')\n",
    "# print(html_announcements)"
   ]
  },
  {
   "cell_type": "markdown",
   "metadata": {},
   "source": [
    "Use `soup.find_all()` to find all items."
   ]
  },
  {
   "cell_type": "code",
   "execution_count": 9,
   "metadata": {},
   "outputs": [
    {
     "name": "stdout",
     "output_type": "stream",
     "text": [
      "5 \n",
      "\n"
     ]
    }
   ],
   "source": [
    "items = html_announcements.find_all('div', {'class':'article-list-result'})\n",
    "print(len(items), '\\n')\n",
    "# print(items[0], '\\n')\n",
    "# print(items[-1], '\\n')"
   ]
  },
  {
   "cell_type": "markdown",
   "metadata": {},
   "source": [
    "### Experiment with One Annoucement"
   ]
  },
  {
   "cell_type": "markdown",
   "metadata": {},
   "source": [
    "Let's use first item to experiment our code."
   ]
  },
  {
   "cell_type": "code",
   "execution_count": 10,
   "metadata": {},
   "outputs": [],
   "source": [
    "item = items[0]"
   ]
  },
  {
   "cell_type": "markdown",
   "metadata": {},
   "source": [
    "Get timestamp from the item."
   ]
  },
  {
   "cell_type": "code",
   "execution_count": 11,
   "metadata": {},
   "outputs": [
    {
     "data": {
      "text/plain": [
       "'08 Jun 2020 05:03:40 PM'"
      ]
     },
     "execution_count": 11,
     "metadata": {},
     "output_type": "execute_result"
    }
   ],
   "source": [
    "t = item.find('div', {'class':'text-caption timestamp'})\n",
    "t.text"
   ]
  },
  {
   "cell_type": "markdown",
   "metadata": {},
   "source": [
    "Get news title and its link."
   ]
  },
  {
   "cell_type": "code",
   "execution_count": 12,
   "metadata": {},
   "outputs": [
    {
     "name": "stdout",
     "output_type": "stream",
     "text": [
      "General Announcement::Minutes of the Adjourned 21st Annual General Meeting of DBS Group Holdings Ltd \n",
      "https://links.sgx.com/1.0.0/corporate-announcements/9N8PB8C1R6V1KICS/6577ac9f479eb9ca8643102d03c0faea17758cccaa5f47ea5ad5ef8f604ee7fa\n"
     ]
    }
   ],
   "source": [
    "t =item.find('a')\n",
    "print(t.text)\n",
    "print(t.attrs['href'])"
   ]
  },
  {
   "cell_type": "markdown",
   "metadata": {},
   "source": [
    "Get tag of the news"
   ]
  },
  {
   "cell_type": "code",
   "execution_count": 13,
   "metadata": {},
   "outputs": [
    {
     "data": {
      "text/plain": [
       "'General Announcement'"
      ]
     },
     "execution_count": 13,
     "metadata": {},
     "output_type": "execute_result"
    }
   ],
   "source": [
    "t = item.find('span', {'class':'website-tag'})\n",
    "t.text"
   ]
  },
  {
   "cell_type": "markdown",
   "metadata": {},
   "source": [
    "### Package into Function"
   ]
  },
  {
   "cell_type": "markdown",
   "metadata": {},
   "source": [
    "Package above code into a function."
   ]
  },
  {
   "cell_type": "code",
   "execution_count": 14,
   "metadata": {},
   "outputs": [],
   "source": [
    "def extract_an_announcement(item):\n",
    "    try:\n",
    "        # Get timestamp\n",
    "        t = item.find('div', {'class':'text-caption timestamp'})\n",
    "        timestamp = t.text\n",
    "        # Get article title and link\n",
    "        t = item.find('a')\n",
    "        title = t.text\n",
    "        link = t.attrs['href']\n",
    "        # Get tag\n",
    "        t = item.find('span', {'class':'website-tag'})\n",
    "        tag = t.text\n",
    "        return title, link, tag, timestamp \n",
    "    except Exception as e:\n",
    "        print(repr(e))\n",
    "        return None"
   ]
  },
  {
   "cell_type": "markdown",
   "metadata": {},
   "source": [
    "Test the function."
   ]
  },
  {
   "cell_type": "code",
   "execution_count": 15,
   "metadata": {},
   "outputs": [
    {
     "data": {
      "text/plain": [
       "('General Announcement::Minutes of the Adjourned 21st Annual General Meeting of DBS Group Holdings Ltd ',\n",
       " 'https://links.sgx.com/1.0.0/corporate-announcements/9N8PB8C1R6V1KICS/6577ac9f479eb9ca8643102d03c0faea17758cccaa5f47ea5ad5ef8f604ee7fa',\n",
       " 'General Announcement',\n",
       " '08 Jun 2020 05:03:40 PM')"
      ]
     },
     "execution_count": 15,
     "metadata": {},
     "output_type": "execute_result"
    }
   ],
   "source": [
    "extract_an_announcement(item)"
   ]
  },
  {
   "cell_type": "markdown",
   "metadata": {},
   "source": [
    "### Process All Announcements"
   ]
  },
  {
   "cell_type": "code",
   "execution_count": 16,
   "metadata": {
    "scrolled": true
   },
   "outputs": [],
   "source": [
    "result = []\n",
    "for item in items:\n",
    "    t = extract_an_announcement(item)\n",
    "    if t:\n",
    "        result.append(t)"
   ]
  },
  {
   "cell_type": "code",
   "execution_count": 17,
   "metadata": {
    "scrolled": true
   },
   "outputs": [
    {
     "name": "stdout",
     "output_type": "stream",
     "text": [
      "[('General Announcement::Minutes of the Adjourned 21st Annual General Meeting of DBS Group Holdings Ltd ', 'https://links.sgx.com/1.0.0/corporate-announcements/9N8PB8C1R6V1KICS/6577ac9f479eb9ca8643102d03c0faea17758cccaa5f47ea5ad5ef8f604ee7fa', 'General Announcement', '08 Jun 2020 05:03:40 PM'), ('General Announcement::ISSUE OF SORA-REFERENCED NOTES BY DBS BANK LTD.', 'https://links.sgx.com/1.0.0/corporate-announcements/NIJR5H55AGHM3EV2/74f55b09474d81f56e4b0a5cc2aa35e98c7a36691e8f8fa59f3a729d8b27e05e', 'General Announcement', '06 May 2020 05:07:16 PM'), (\"Disclosure of Interest/ Changes in Interest of Director/ Chief Executive Officer::Disclosure of director's interest\", 'https://links.sgx.com/1.0.0/corporate-announcements/EEXK0Y2V9KARQT25/7e2de8d5208c1f192165f01ed4494f940b8b50f3da82a191d88364b11335e345', 'Disclosure of Interest/ Changes in Interest', '05 May 2020 06:15:42 PM'), (\"Disclosure of Interest/ Changes in Interest of Director/ Chief Executive Officer::Disclosure of director's interest\", 'https://links.sgx.com/1.0.0/corporate-announcements/W3NW79EH03KL6GHN/46000f23d197286e6c28f4d9c314aaa69f976e464a28f76a386c33321b13e57e', 'Disclosure of Interest/ Changes in Interest', '05 May 2020 06:11:37 PM'), (\"Disclosure of Interest/ Changes in Interest of Director/ Chief Executive Officer::Disclosure of director's interest\", 'https://links.sgx.com/1.0.0/corporate-announcements/AVKFKIYMIKQH1D6M/7ee3888dda1a5292bb8816131e859e9d03ac672f1edfc4e3437cefe6316ea6d2', 'Disclosure of Interest/ Changes in Interest', '05 May 2020 06:09:32 PM')]\n"
     ]
    }
   ],
   "source": [
    "print(result)"
   ]
  },
  {
   "cell_type": "markdown",
   "metadata": {},
   "source": [
    "Close web browser after the task is completed."
   ]
  },
  {
   "cell_type": "markdown",
   "metadata": {},
   "source": [
    "## 3. Exercise: Extract Company News"
   ]
  },
  {
   "cell_type": "markdown",
   "metadata": {},
   "source": [
    "### Download HTML"
   ]
  },
  {
   "cell_type": "markdown",
   "metadata": {},
   "source": [
    "Open web browser and go to website."
   ]
  },
  {
   "cell_type": "code",
   "execution_count": 18,
   "metadata": {},
   "outputs": [
    {
     "name": "stderr",
     "output_type": "stream",
     "text": [
      "[WDM] - Current google-chrome version is 83.0.4103\n",
      "[WDM] - Get LATEST driver version for 83.0.4103\n",
      "[WDM] - Driver [C:\\Users\\isszq\\.wdm\\drivers\\chromedriver\\win32\\83.0.4103.39\\chromedriver.exe] found in cache\n"
     ]
    },
    {
     "name": "stdout",
     "output_type": "stream",
     "text": [
      " \n"
     ]
    }
   ],
   "source": [
    "browser = webdriver.Chrome(ChromeDriverManager().install())\n",
    "\n",
    "symbol = 'D05'\n",
    "url = f'https://www.sgx.com/securities/equities/{symbol}'\n",
    "browser.get(url)"
   ]
  },
  {
   "cell_type": "markdown",
   "metadata": {},
   "source": [
    "Wait for page is loaded and return HTML code. "
   ]
  },
  {
   "cell_type": "code",
   "execution_count": 19,
   "metadata": {},
   "outputs": [],
   "source": [
    "# Wait for 10 seconds before timeout\n",
    "wait = WebDriverWait(browser, 10)\n",
    "# Wait until an element is present\n",
    "wait.until(EC.presence_of_element_located((By.TAG_NAME, 'widget-stocks-news')))\n",
    "# Receive cookies and HTML\n",
    "cookies = browser.get_cookies()\n",
    "html = browser.page_source"
   ]
  },
  {
   "cell_type": "markdown",
   "metadata": {},
   "source": [
    "Close web browser."
   ]
  },
  {
   "cell_type": "code",
   "execution_count": 30,
   "metadata": {},
   "outputs": [],
   "source": [
    "browser.close()"
   ]
  },
  {
   "cell_type": "markdown",
   "metadata": {},
   "source": [
    "### Make Soup and Find Items"
   ]
  },
  {
   "cell_type": "markdown",
   "metadata": {},
   "source": [
    "Make a soup from HTML code."
   ]
  },
  {
   "cell_type": "code",
   "execution_count": 20,
   "metadata": {},
   "outputs": [],
   "source": [
    "soup = BeautifulSoup(html)"
   ]
  },
  {
   "cell_type": "markdown",
   "metadata": {},
   "source": [
    "Inspect the News elements in Chrome. The news list is contained in a tag `<widget-stocks-news>`.\n",
    "\n",
    "Use `soup.find()` to find the relevant HTML code using tag name."
   ]
  },
  {
   "cell_type": "code",
   "execution_count": 21,
   "metadata": {
    "scrolled": true
   },
   "outputs": [],
   "source": [
    "html_news = soup.find('widget-stocks-news')\n",
    "# print(html_news)"
   ]
  },
  {
   "cell_type": "markdown",
   "metadata": {},
   "source": [
    "Each news item are enclosed in a `div` with class name `article-list-result`.\n",
    "\n",
    "Use `find_all()` method to extract all new items."
   ]
  },
  {
   "cell_type": "code",
   "execution_count": 22,
   "metadata": {},
   "outputs": [
    {
     "name": "stdout",
     "output_type": "stream",
     "text": [
      "10 \n",
      "\n",
      "<div class=\"article-list-result\">\n",
      "<div class=\"text-caption timestamp\">30 Apr 2020 03:57:37 AM</div>\n",
      "<div class=\"widget-stocks-news-item-headline\"><span class=\"text-strong website-link\">Dbs CEO Says Majority Of Bank's Loans In Oil And Gas Sector Are To Oil Majors And State-Owned Companies</span></div>\n",
      "<div class=\"widget-stocks-news-item-tags-container\"><span class=\"website-tag\">Other Pre-Announcement</span></div>\n",
      "</div>\n"
     ]
    }
   ],
   "source": [
    "items = html_news.find_all('div', {'class':'article-list-result'})\n",
    "print(len(items), '\\n')\n",
    "print(items[0])"
   ]
  },
  {
   "cell_type": "markdown",
   "metadata": {},
   "source": [
    "### Extract One News"
   ]
  },
  {
   "cell_type": "markdown",
   "metadata": {},
   "source": [
    "Use first news to experiment your code to extract data from a single news item."
   ]
  },
  {
   "cell_type": "code",
   "execution_count": 23,
   "metadata": {},
   "outputs": [],
   "source": [
    "item = items[0]"
   ]
  },
  {
   "cell_type": "markdown",
   "metadata": {},
   "source": [
    "Extract `timestamp` of the news."
   ]
  },
  {
   "cell_type": "code",
   "execution_count": 24,
   "metadata": {},
   "outputs": [
    {
     "name": "stdout",
     "output_type": "stream",
     "text": [
      "30 Apr 2020 03:57:37 AM\n"
     ]
    }
   ],
   "source": [
    "t = item.find('div', {'class':'text-caption timestamp'})\n",
    "timestamp = t.text\n",
    "print(timestamp)"
   ]
  },
  {
   "cell_type": "markdown",
   "metadata": {},
   "source": [
    "Extract `title` of the news. "
   ]
  },
  {
   "cell_type": "code",
   "execution_count": 25,
   "metadata": {
    "scrolled": true
   },
   "outputs": [
    {
     "name": "stdout",
     "output_type": "stream",
     "text": [
      "Dbs CEO Says Majority Of Bank's Loans In Oil And Gas Sector Are To Oil Majors And State-Owned Companies\n"
     ]
    }
   ],
   "source": [
    "t = item.find('div', {'class':'widget-stocks-news-item-headline'})\n",
    "title = t.span.text\n",
    "print(title)"
   ]
  },
  {
   "cell_type": "markdown",
   "metadata": {},
   "source": [
    "Extract Tags of the news."
   ]
  },
  {
   "cell_type": "code",
   "execution_count": 26,
   "metadata": {},
   "outputs": [
    {
     "name": "stdout",
     "output_type": "stream",
     "text": [
      "['Other Pre-Announcement']\n"
     ]
    }
   ],
   "source": [
    "t = item.find('div', {'class':'widget-stocks-news-item-tags-container'})\n",
    "_tags = t.find_all('span', {'class':'website-tag'})\n",
    "tags = [_tag.text for _tag in _tags]\n",
    "print(tags)"
   ]
  },
  {
   "cell_type": "markdown",
   "metadata": {},
   "source": [
    "### Create Function\n",
    "\n",
    "Package above codes into a function."
   ]
  },
  {
   "cell_type": "code",
   "execution_count": 27,
   "metadata": {},
   "outputs": [],
   "source": [
    "def extract_a_news(item):\n",
    "    try:\n",
    "        # Get timestamp\n",
    "        t = item.find('div', {'class':'text-caption timestamp'})\n",
    "        timestamp = t.text\n",
    "        # Get article title\n",
    "        t = item.find('div', {'class':'widget-stocks-news-item-headline'})\n",
    "        title = t.span.text\n",
    "        # Get tag\n",
    "        t = item.find('div', {'class':'widget-stocks-news-item-tags-container'})\n",
    "        _tags = t.find_all('span', {'class':'website-tag'})\n",
    "        tags = [_tag.text for _tag in _tags]\n",
    "        \n",
    "        return title, tags, timestamp\n",
    "    except Exception as e:\n",
    "        print(repr(e))\n",
    "        print(item)\n",
    "        print(t)\n",
    "        return None"
   ]
  },
  {
   "cell_type": "markdown",
   "metadata": {},
   "source": [
    "### Extract All News\n",
    "\n",
    "Use function to extract all news items."
   ]
  },
  {
   "cell_type": "code",
   "execution_count": 28,
   "metadata": {
    "scrolled": true
   },
   "outputs": [],
   "source": [
    "result = []\n",
    "for item in items:\n",
    "    t = extract_a_news(item)\n",
    "    if t:\n",
    "        result.append(t)"
   ]
  },
  {
   "cell_type": "code",
   "execution_count": 29,
   "metadata": {
    "scrolled": false
   },
   "outputs": [
    {
     "name": "stdout",
     "output_type": "stream",
     "text": [
      "[(\"Dbs CEO Says Majority Of Bank's Loans In Oil And Gas Sector Are To Oil Majors And State-Owned Companies\", ['Other Pre-Announcement'], '30 Apr 2020 03:57:37 AM'), ('Dbs Group Holdings Says FY Profit Before Allowances To Be Around 2019 Levels', ['Other Pre-Announcement', 'Labor Issues'], '29 Apr 2020 10:56:54 PM'), ('Dbs Group Holdings Qtrly Net Profit Declines', ['Earnings Announcements'], '29 Apr 2020 10:56:53 PM'), ('DBS Group Says $1 Bln 3.3% Perpetual Capital Securities First Callable In 2025 Will Be Listed And Quoted In Bond Market On 28 Feb', ['Debt Financing / Related', 'Exchange Changes'], '27 Feb 2020 12:06:04 PM'), ('DBS Group Says Successfully Priced Issue Of $1 Bln 3.30 Pct Perpetual Capital Securities', ['Debt Financing / Related', 'Other Pre-Announcement'], '21 Feb 2020 01:24:04 AM'), ('DBS CEO Says Current Market Conditions Offer Scope For Clients To Do Fixed Income And Debt Capital Market deals', ['Other Pre-Announcement'], '13 Feb 2020 03:17:25 AM'), ('DBS Group Holdings Says Pre-Virus, 2020 Outlook On Track To Previous Guidance', ['Other Pre-Announcement'], '12 Feb 2020 10:48:37 PM'), ('DBS Group Posts Qtrly Net Profit Of S$1,508 Million', ['Other Pre-Announcement'], '12 Feb 2020 10:43:30 PM'), (\"DBS Group Says DBS China Receives Bond Settlement Agent Licence For China's Interbank Bond Market\", ['Regulatory'], '14 Jan 2020 04:48:18 AM'), ('DBS Group Holdings Says 2020 NIM Expected To Decline By About 7 BPS', ['Other Pre-Announcement'], '11 Nov 2019 01:42:41 AM')]\n"
     ]
    }
   ],
   "source": [
    "print(result)"
   ]
  },
  {
   "cell_type": "markdown",
   "metadata": {},
   "source": [
    "## 4. Example: Extract Data after Interaction"
   ]
  },
  {
   "cell_type": "markdown",
   "metadata": {},
   "source": [
    "**Task:** Extract details of all News items of a company from SGX Website. \n",
    "\n",
    "For each news item on SGX Equity website, e.g. https://www.sgx.com/securities/equities/D05, user has to click on the item to view more details in a pop-up window. We have to simulate click on the item before we can extract the data."
   ]
  },
  {
   "cell_type": "markdown",
   "metadata": {},
   "source": [
    "Open web browser and go to website `https://www.sgx.com/securities/equities/D05`."
   ]
  },
  {
   "cell_type": "code",
   "execution_count": 38,
   "metadata": {
    "scrolled": true
   },
   "outputs": [
    {
     "name": "stderr",
     "output_type": "stream",
     "text": [
      "[WDM] - Current google-chrome version is 83.0.4103\n",
      "[WDM] - Get LATEST driver version for 83.0.4103\n",
      "[WDM] - Driver [C:\\Users\\isszq\\.wdm\\drivers\\chromedriver\\win32\\83.0.4103.39\\chromedriver.exe] found in cache\n"
     ]
    },
    {
     "name": "stdout",
     "output_type": "stream",
     "text": [
      " \n"
     ]
    },
    {
     "data": {
      "text/plain": [
       "<selenium.webdriver.remote.webelement.WebElement (session=\"4b107e3ab04ce15705c929f8468350e6\", element=\"9d8acda1-427a-4872-b70d-79ec8663cdcb\")>"
      ]
     },
     "execution_count": 38,
     "metadata": {},
     "output_type": "execute_result"
    }
   ],
   "source": [
    "browser = webdriver.Chrome(ChromeDriverManager().install())\n",
    "\n",
    "symbol = 'D05'\n",
    "url = f'https://www.sgx.com/securities/equities/{symbol}'\n",
    "browser.get(url)\n",
    "\n",
    "# Wait for 10 seconds before timeout\n",
    "wait = WebDriverWait(browser, 10)\n",
    "# Wait until an element is present\n",
    "wait.until(EC.presence_of_element_located((By.TAG_NAME, 'widget-stocks-news')))\n",
    "wait.until(EC.element_to_be_clickable((By.XPATH, '//widget-stocks-news/div/div[@class=\"article-list-result\"]/div/span')))"
   ]
  },
  {
   "cell_type": "markdown",
   "metadata": {},
   "source": [
    "#### Close Cookie Banner\n",
    "\n",
    "Find the `Accept` button and click to accept the cookie agreement. This is so that the banner will be closed and wont block the clicks."
   ]
  },
  {
   "cell_type": "code",
   "execution_count": 39,
   "metadata": {},
   "outputs": [],
   "source": [
    "browser.find_element_by_class_name('sgx-consent-banner-acceptance-button').click()"
   ]
  },
  {
   "cell_type": "markdown",
   "metadata": {},
   "source": [
    "Extract elements from browser using xpath."
   ]
  },
  {
   "cell_type": "code",
   "execution_count": 40,
   "metadata": {},
   "outputs": [
    {
     "data": {
      "text/plain": [
       "10"
      ]
     },
     "execution_count": 40,
     "metadata": {},
     "output_type": "execute_result"
    }
   ],
   "source": [
    "news_items = browser.find_elements_by_xpath('//widget-stocks-news/div/div[@class=\"article-list-result\"]')\n",
    "len(news_items)"
   ]
  },
  {
   "cell_type": "markdown",
   "metadata": {},
   "source": [
    "### Experiment with One News"
   ]
  },
  {
   "cell_type": "markdown",
   "metadata": {},
   "source": [
    "Experiment with code to extract one news item from pop-up."
   ]
  },
  {
   "cell_type": "code",
   "execution_count": 41,
   "metadata": {},
   "outputs": [
    {
     "data": {
      "text/plain": [
       "'29 Apr 2020 10:56:54 PM\\nDbs Group Holdings Says FY Profit Before Allowances To Be Around 2019 Levels\\nOther Pre-AnnouncementLabor Issues'"
      ]
     },
     "execution_count": 41,
     "metadata": {},
     "output_type": "execute_result"
    }
   ],
   "source": [
    "news_one = news_items[1]\n",
    "news_one.text"
   ]
  },
  {
   "cell_type": "code",
   "execution_count": 42,
   "metadata": {},
   "outputs": [
    {
     "name": "stdout",
     "output_type": "stream",
     "text": [
      "Dbs Group Holdings Says FY Profit Before Allowances To Be Around 2019 Levels\n"
     ]
    }
   ],
   "source": [
    "browser.find_element_by_tag_name('body').send_keys(Keys.ESCAPE)\n",
    "span = news_one.find_element_by_tag_name('span')\n",
    "print(span.text)\n",
    "span.click()"
   ]
  },
  {
   "cell_type": "code",
   "execution_count": 43,
   "metadata": {},
   "outputs": [
    {
     "name": "stdout",
     "output_type": "stream",
     "text": [
      "Dbs Group Holdings Says FY Profit Before Allowances To Be Around 2019 Levels\n",
      "29 Apr 2020 10:56:54 PM\n",
      "['Other Pre-Announcement', 'Labor Issues']\n",
      "April 30 (Reuters) - DBS Group Holdings Ltd <DBSM.SI>::FY PROFIT BEFORE ALLOWANCES TO BE AROUND 2019 LEVELS AFTER FACTORING IN DECLINES FOR REST OF YEAR.DBS GROUP SEES NO RETRENCHMENTS OR PAY CUTS, BUT HIRING JUDICIOUSLY IN FY; BONUSES ALIGNED TO EARNINGS.DBS GROUP SEES CREDIT COSTS TO RISE TO BETWEEN S$3 BILLION-S$5 BILLION CUMULATIVELY OVER TWO YEARS.EARNINGS CURRENTLY EXPECTED TO BE SUFFICIENT FOR MAINTAINING QTRLY DPS AT 33 CENTS.\n"
     ]
    }
   ],
   "source": [
    "import time\n",
    "time.sleep(.5)\n",
    "target = browser.find_element_by_xpath('//sgx-dialog[@id=\"widget-stocks-news-dialog\"]')\n",
    "_header = target.find_element_by_xpath('.//div/header/h2')\n",
    "_timestamp = target.find_element_by_xpath('.//div/div/div[@class=\"text-caption timestamp\"]')\n",
    "_tags = target.find_element_by_xpath('.//div/div/div[@class=\"widget-stocks-news-item-tags-container\"]')\n",
    "_body = target.find_element_by_xpath('.//div/div/div[not(@class)]')\n",
    "\n",
    "header = _header.text\n",
    "timestamp = _timestamp.text\n",
    "tags = [t.text for t in _tags.find_elements_by_tag_name('span')]\n",
    "body = _body.text\n",
    "\n",
    "print(header)\n",
    "print(timestamp)\n",
    "print(tags)\n",
    "print(body)"
   ]
  },
  {
   "cell_type": "markdown",
   "metadata": {},
   "source": [
    "### Package them into Function"
   ]
  },
  {
   "cell_type": "code",
   "execution_count": 44,
   "metadata": {},
   "outputs": [],
   "source": [
    "def extract_one_news(browser, news_one):\n",
    "    browser.find_element_by_tag_name('body').send_keys(Keys.ESCAPE)\n",
    "    span = news_one.find_element_by_tag_name('span')\n",
    "    span.click()\n",
    "    \n",
    "    import time\n",
    "    time.sleep(.5)\n",
    "    target = browser.find_element_by_xpath('//sgx-dialog[@id=\"widget-stocks-news-dialog\"]')\n",
    "    _header = target.find_element_by_xpath('.//div/header/h2')\n",
    "    _timestamp = target.find_element_by_xpath('.//div/div/div[@class=\"text-caption timestamp\"]')\n",
    "    _tags = target.find_element_by_xpath('.//div/div/div[@class=\"widget-stocks-news-item-tags-container\"]')\n",
    "    _body = target.find_element_by_xpath('.//div/div/div[not(@class)]')\n",
    "\n",
    "    header = _header.text\n",
    "    timestamp = _timestamp.text\n",
    "    tags = [t.text for t in _tags.find_elements_by_tag_name('span')]\n",
    "    body = _body.text\n",
    "\n",
    "    return (header, timestamp,tags,body)"
   ]
  },
  {
   "cell_type": "markdown",
   "metadata": {},
   "source": [
    "Use the function to extract all news items."
   ]
  },
  {
   "cell_type": "code",
   "execution_count": 45,
   "metadata": {},
   "outputs": [],
   "source": [
    "result = []\n",
    "for item in news_items:\n",
    "    news = extract_one_news(browser, item)\n",
    "    result.append(news)"
   ]
  },
  {
   "cell_type": "code",
   "execution_count": 46,
   "metadata": {},
   "outputs": [
    {
     "data": {
      "text/plain": [
       "[(\"Dbs CEO Says Majority Of Bank's Loans In Oil And Gas Sector Are To Oil Majors And State-Owned Companies\",\n",
       "  '30 Apr 2020 03:57:37 AM',\n",
       "  ['Other Pre-Announcement'],\n",
       "  \"April 30 (Reuters) - DBS Group Holdings Ltd <DBSM.SI>::CEO SAYS BANK IS NOT CUTTING BACK EXPOSURE TO OIL AND GAS SECTOR, GETTING MORE DISCIPLINED ON DOCUMENTATION AROUND TRADE FINANCE.CEO SAYS MAJORITY OF BANK'S LOANS IN OIL AND GAS SECTOR ARE TO OIL MAJORS AND STATE-OWNED COMPANIES.\"),\n",
       " ('Dbs Group Holdings Says FY Profit Before Allowances To Be Around 2019 Levels',\n",
       "  '29 Apr 2020 10:56:54 PM',\n",
       "  ['Other Pre-Announcement', 'Labor Issues'],\n",
       "  'April 30 (Reuters) - DBS Group Holdings Ltd <DBSM.SI>::FY PROFIT BEFORE ALLOWANCES TO BE AROUND 2019 LEVELS AFTER FACTORING IN DECLINES FOR REST OF YEAR.DBS GROUP SEES NO RETRENCHMENTS OR PAY CUTS, BUT HIRING JUDICIOUSLY IN FY; BONUSES ALIGNED TO EARNINGS.DBS GROUP SEES CREDIT COSTS TO RISE TO BETWEEN S$3 BILLION-S$5 BILLION CUMULATIVELY OVER TWO YEARS.EARNINGS CURRENTLY EXPECTED TO BE SUFFICIENT FOR MAINTAINING QTRLY DPS AT 33 CENTS.'),\n",
       " ('Dbs Group Holdings Qtrly Net Profit Declines',\n",
       "  '29 Apr 2020 10:56:53 PM',\n",
       "  ['Earnings Announcements'],\n",
       "  'April 30 (Reuters) - DBS Group Holdings Ltd <DBSM.SI>::FOR Q1, DECLARED INTERIM ONE-TIER TAX-EXEMPT DIVIDEND OF 33 CENTS FOR EACH DBSH ORDINARY SHARE.QTRLY NET INTEREST INCOME S$2,482 MILLION VERSUS S$2,310 MILLION.QTRLY NET PROFIT S$1,165 MILLION VERSUS S$1,651 MILLION.NPL RATIO 1.6% AS AT MARCH 31.QTRLY RETURN ON EQUITY 9.2%.QTRLY NET INTEREST MARGIN 1.86% VERSUS 1.88%.AS AT MARCH 31 2020, CET 1 CAPITAL ADEQUACY RATIO 13.9 %.Q1 NET PROFIT DECLINED AS CO PRE-EMPTIVELY SET ASIDE FURTHER S$0.70 BILLION OF GENERAL ALLOWANCES FOR COVID-19 PANDEMIC RISKS.WILL MAINTAIN SOLID BALANCE SHEET WITH AMPLE CAPITAL, LIQUIDITY & LOSS ALLOWANCE RESERVES.'),\n",
       " ('DBS Group Says $1 Bln 3.3% Perpetual Capital Securities First Callable In 2025 Will Be Listed And Quoted In Bond Market On 28 Feb',\n",
       "  '27 Feb 2020 12:06:04 PM',\n",
       "  ['Debt Financing / Related', 'Exchange Changes'],\n",
       "  'Feb 27 (Reuters) - DBS Group Holdings Ltd <DBSM.SI>::US$1 BILLION 3.3% PERPETUAL CAPITAL SECURITIES FIRST CALLABLE IN 2025 WILL BE LISTED AND QUOTED IN BOND MARKET ON 28 FEB.SECURITIES WILL BE IN DENOMINATIONS OF US$200,000 AND INTEGRAL MULTIPLES OF US$1,000.'),\n",
       " ('DBS Group Says Successfully Priced Issue Of $1 Bln 3.30 Pct Perpetual Capital Securities',\n",
       "  '21 Feb 2020 01:24:04 AM',\n",
       "  ['Debt Financing / Related', 'Other Pre-Announcement'],\n",
       "  'Feb 21 (Reuters) - DBS Group Holdings Ltd <DBSM.SI>::SUCCESSFULLY PRICED ISSUE OF U.S.$1 BILLION 3.30 PER CENT. PERPETUAL CAPITAL SECURITIES FIRST CALLABLE IN 2025.SECURITIES WILL CONFER A RIGHT TO RECEIVE DISTRIBUTION AT INITIAL RATE OF 3.30 PER CENT PER ANNUM.SECURITIES EXPECTED TO QUALIFY AS ADDITIONAL TIER 1 CAPITAL.SECURITIES ARE EXPECTED TO BE ISSUED ON 27 FEBRUARY 2020.'),\n",
       " ('DBS CEO Says Current Market Conditions Offer Scope For Clients To Do Fixed Income And Debt Capital Market deals',\n",
       "  '13 Feb 2020 03:17:25 AM',\n",
       "  ['Other Pre-Announcement'],\n",
       "  'Feb 13 (Reuters) - DBS Group Holdings Ltd <DBSM.SI>::CEO SAYS HIT TO REVENUE EXPECTED TO COME FROM CARDS BUSINESS IN HONG KONG AND SINGAPORE DUE TO IMPACT OF CORONAVIRUS.SAYS STARTING TO SEE SOME EARLY SIGNS OF SLOWDOWN IN WEALTH MANAGEMENT BUSINESS IN FEBRUARY DUE TO IMPACT OF CORONAVIRUS.CEO SAYS EXPECTS HIGHER CREDIT COSTS BUT BANK HAS ADEQUATE PROVISIONS TO MANAGE THIS.CEO SAYS CURRENT MARKET CONDITIONS OFFER SCOPE FOR CLIENTS TO DO FIXED INCOME AND DEBT CAPITAL MARKET TRANSACTIONS.'),\n",
       " ('DBS Group Holdings Says Pre-Virus, 2020 Outlook On Track To Previous Guidance',\n",
       "  '12 Feb 2020 10:48:37 PM',\n",
       "  ['Other Pre-Announcement'],\n",
       "  'Feb 13 (Reuters) - DBS Group Holdings Ltd <DBSM.SI>::PRE-VIRUS, 2020 OUTLOOK ON TRACK TO PREVIOUS GUIDANCE.IN FY20 ASSUMING VIRUS IS CONTROLLED BY SUMMER SEES REVENUE IMPACT OF AROUND 1-2%.ASSUMING VIRUS IS CONTROLLED BY SUMMER, 2020 SP COULD RISE BY A FEW BASIS POINTS OF LOANS; GP PROVIDES CUSHION.IN RESPONSE TO COVID-19 6 MONTHS MORATORIUM ON PRINCIPAL REPAYMENT FOR SME PROPERTY LOANS IN SG AND HK.IN RESPONSE TO COVID-19 6 MONTHS MORATORIUM ON PRINCIPAL REPAYMENT FOR MORTGAGE LOANS FOR RETAIL CUSTOMERS IN SG.'),\n",
       " ('DBS Group Posts Qtrly Net Profit Of S$1,508 Million',\n",
       "  '12 Feb 2020 10:43:30 PM',\n",
       "  ['Other Pre-Announcement'],\n",
       "  'Feb 13 (Reuters) - DBS Group Holdings Ltd <DBSM.SI>::QTRLY NET PROFIT S$ 1,508 MILLION VERSUS S$ 1,319 MILLION.DIRECTORS HAVE RECOMMENDED A FINAL ONE-TIER TAX EXEMPT DIVIDEND OF 33 CENTS FOR EACH DBSH ORDINARY SHARE.QTRLY NET INTEREST INCOME S$2,426 MILLION VERSUS S$2,330 MILLION.QTRLY NET FEE AND COMMISSION INCOME S$741 MILLION VERSUS S$635 MILLION.QTRLY RETURN ON EQUITY 12.1 % VERSUS 11.3%.QTRLY NET INTEREST MARGIN 1.86% VERSUS 1.87%.QTRLY NPL RATIO 1.5% VERSUS 1.5%.'),\n",
       " (\"DBS Group Says DBS China Receives Bond Settlement Agent Licence For China's Interbank Bond Market\",\n",
       "  '14 Jan 2020 04:48:18 AM',\n",
       "  ['Regulatory'],\n",
       "  \"Jan 14 (Reuters) - DBS Group Holdings Ltd <DBSM.SI>::DBS BANK (CHINA) RECEIVES BOND SETTLEMENT AGENT LICENCE FROM PBOC FOR CHINA'S INTERBANK BOND MARKET.\"),\n",
       " ('DBS Group Holdings Says 2020 NIM Expected To Decline By About 7 BPS',\n",
       "  '11 Nov 2019 01:42:41 AM',\n",
       "  ['Other Pre-Announcement'],\n",
       "  'Nov 11 (Reuters) - DBS Group Holdings Ltd <DBSM.SI>::SEES 2020 LOAN GROWTH SIMILAR TO 2019.2020 NIM EXPECTED TO DECLINE BY ABOUT 7BPS.SEES 2020 CREDIT COSTS SIMILAR TO 2019.SEES LOW-SINGLE-DIGIT INCOME GROWTH IN 2020.3Q LOAN GROWTH SLOW DUE TO GLOBAL AND COUNTRY-SPECIFIC FACTORS.THREE RATE CUTS WILL LEAD TO FULL-YEAR NIM BELOW GUIDANCE.DBS HONG KONG PERFORMANCE RESILIENT.')]"
      ]
     },
     "execution_count": 46,
     "metadata": {},
     "output_type": "execute_result"
    }
   ],
   "source": [
    "result"
   ]
  },
  {
   "cell_type": "markdown",
   "metadata": {},
   "source": [
    "Clean up by closing the web browser."
   ]
  },
  {
   "cell_type": "code",
   "execution_count": 47,
   "metadata": {},
   "outputs": [],
   "source": [
    "browser.close()"
   ]
  }
 ],
 "metadata": {
  "kernelspec": {
   "display_name": "Python 3",
   "language": "python",
   "name": "python3"
  },
  "language_info": {
   "codemirror_mode": {
    "name": "ipython",
    "version": 3
   },
   "file_extension": ".py",
   "mimetype": "text/x-python",
   "name": "python",
   "nbconvert_exporter": "python",
   "pygments_lexer": "ipython3",
   "version": "3.8.3"
  }
 },
 "nbformat": 4,
 "nbformat_minor": 4
}
