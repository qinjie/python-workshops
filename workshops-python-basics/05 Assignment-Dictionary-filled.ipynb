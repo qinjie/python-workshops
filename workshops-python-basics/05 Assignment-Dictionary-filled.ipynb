{
 "cells": [
  {
   "cell_type": "markdown",
   "metadata": {
    "slideshow": {
     "slide_type": "slide"
    }
   },
   "source": [
    "# Assignment - Dictionary & Set"
   ]
  },
  {
   "cell_type": "markdown",
   "metadata": {
    "slideshow": {
     "slide_type": "slide"
    }
   },
   "source": [
    "# 1. Login Demo\n",
    "\n",
    "There are 5 usernames with their respective password. \n",
    "* user1: password1\n",
    "* user2: password2\n",
    "* user3: password3\n",
    "\n",
    "Implement a script such that:\n",
    "1. Use a suitable data structure to store usernames and passwords \n",
    "2. User enters username and password\n",
    "3. Check user username and password\n",
    "    * If username does not exists, print \"User not found\"\n",
    "    * if username exists, but password doesn't match, print \"Wrong password\"\n",
    "    * If both username and password match, print \"You are in\"\n",
    "\n",
    "```\n",
    "accounts = {'user1':'password1','user2':'password2', 'user3':'password3'}\n",
    "```\n",
    "\n",
    "**Sample output:**\n",
    "```\n",
    "Enter username: user10\n",
    "Enter password: pass10\n",
    "User not found\n",
    "\n",
    "Enter username: user1\n",
    "Enter password: pass1\n",
    "Wrong password\n",
    "\n",
    "Enter username: user1\n",
    "Enter password: password1\n",
    "You are in\n",
    "```"
   ]
  },
  {
   "cell_type": "code",
   "execution_count": null,
   "metadata": {
    "slideshow": {
     "slide_type": "slide"
    },
    "tags": [
     "hide-cell"
    ]
   },
   "outputs": [],
   "source": [
    "accounts = {'user1':'password1','user2':'password2', 'user3':'password3', 'user4':'password4', 'user5':'password5'}\n",
    "\n",
    "username = input(\"Enter usrename: \")\n",
    "password = input(\"Enter password: \")\n",
    "\n",
    "result = accounts.get(username, False)\n",
    "# print(result)\n",
    "\n",
    "if not result:\n",
    "    print('User not found')\n",
    "else:\n",
    "    if password == result:\n",
    "        print('You are in')\n",
    "    else:\n",
    "        print('Wrong password')\n"
   ]
  },
  {
   "cell_type": "markdown",
   "metadata": {},
   "source": [
    "## 2. Check Toto Result \n",
    "\n",
    "The winning number of Toto this week is `7, 20, 29, 41, 47, 49`. Implement a script to help user check result. \n",
    "* Define a function `match_count(win_nums, your_nums)` which returns counter of matched numbers. It takes in 2 list as parameter, `win_nums` and `your_num`. The `winning_nums` contains winnning numbers, and `your_nums` contains number enters by user.\n",
    "* Ask user to input a list of numbers separated by space\n",
    "\n",
    "**Sample Output:**\n",
    "```\n",
    "Enter your Toto numbers separated by space: \n",
    "1 7 20 29 41 47 49 50\n",
    "Count of matched numbers:  6\n",
    "```"
   ]
  },
  {
   "cell_type": "code",
   "execution_count": null,
   "metadata": {
    "tags": [
     "hide-cell"
    ]
   },
   "outputs": [
    {
     "name": "stdout",
     "output_type": "stream",
     "text": [
      "Enter your Toto numbers separated by space: \n"
     ]
    }
   ],
   "source": [
    "def match_count(win_nums, your_nums):\n",
    "    ws = set(win_nums)\n",
    "    yn = set(your_nums)\n",
    "    matched = (ws & yn)\n",
    "    return len(matched)\n",
    "\n",
    "win_nums = '7 20 29 41 47 49'\n",
    "win_nums = win_nums.split()\n",
    "# print(win_nums)\n",
    "\n",
    "print('Enter your Toto numbers separated by space: ')\n",
    "your_nums = input()\n",
    "your_nums = your_nums.split()\n",
    "print(your_nums)\n",
    "\n",
    "count = match_count(win_nums, your_nums)\n",
    "print('Count of matched numbers: ', count)"
   ]
  }
 ],
 "metadata": {
  "kernelspec": {
   "display_name": "Python 3",
   "language": "python",
   "name": "python3"
  },
  "language_info": {
   "codemirror_mode": {
    "name": "ipython",
    "version": 3
   },
   "file_extension": ".py",
   "mimetype": "text/x-python",
   "name": "python",
   "nbconvert_exporter": "python",
   "pygments_lexer": "ipython3",
   "version": "3.8.3"
  }
 },
 "nbformat": 4,
 "nbformat_minor": 2
}
