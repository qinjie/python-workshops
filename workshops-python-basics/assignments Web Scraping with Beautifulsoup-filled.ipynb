{
 "cells": [
  {
   "cell_type": "markdown",
   "metadata": {
    "colab_type": "text",
    "id": "lGHFNAUxQYgm"
   },
   "source": [
    "# Day 4 Assignments (Part 2)\n",
    "\n",
    "**Objectives:**\n",
    "- Collect data from API &amp; store in csv\n",
    "- Scrape static websites &amp; store in csv"
   ]
  },
  {
   "cell_type": "markdown",
   "metadata": {},
   "source": [
    "## Part 1 - requests\n",
    "\n",
    "Cropto Compare provides API on exchange rate. https://min-api.cryptocompare.com/documentation\n",
    "\n",
    "You are to fetch exchange rates from SGD to JPY,USD,MYR,EUR using above API.\n",
    "\n",
    "1. Make api call from python & fetch the response in a python dict.\n",
    "2. Parse returned data from the API Response. For example,\n",
    "    ```\n",
    "    {\n",
    "    \"JPY\": 107.93,\n",
    "    \"INR\": 84.82\n",
    "    }\n",
    "    ```\n",
    "4. Format the parsed infomation/data and save it into a csv file with following format.\n",
    "\n",
    "| sno | from_symbol | to_symbol | price | datetime |\n",
    "| ---  | ---  | ---  | ---  | --- |\n",
    "| 1 | USD | INR | 71 | ... |\n",
    "| 2 | USD | SGD | 1.37| ... |\n",
    "\n",
    "\n",
    "Hint: Use python `time` or `datetime` module to get the current time."
   ]
  },
  {
   "cell_type": "code",
   "execution_count": 3,
   "metadata": {
    "colab": {},
    "colab_type": "code",
    "id": "b0mJn9GQjH9K"
   },
   "outputs": [
    {
     "data": {
      "text/plain": [
       "{'JPY': 104.75, 'INR': 78.02}"
      ]
     },
     "execution_count": 3,
     "metadata": {},
     "output_type": "execute_result"
    }
   ],
   "source": [
    "# Code here\n",
    "CUR_FROM = 'USD'\n",
    "CUR_TO = 'JPY,INR'\n",
    "\n",
    "url = f'https://min-api.cryptocompare.com/data/price?fsym={CUR_FROM}&tsyms={CUR_TO}'\n",
    "import requests\n",
    "resp = requests.get(url)\n",
    "data = resp.json()\n",
    "data"
   ]
  },
  {
   "cell_type": "code",
   "execution_count": 7,
   "metadata": {},
   "outputs": [
    {
     "data": {
      "text/plain": [
       "'09/17/2020, 13:59:29'"
      ]
     },
     "execution_count": 7,
     "metadata": {},
     "output_type": "execute_result"
    }
   ],
   "source": [
    "from datetime import datetime\n",
    "\n",
    "datetime.now().strftime(\"%m/%d/%Y, %H:%M:%S\")"
   ]
  },
  {
   "cell_type": "code",
   "execution_count": null,
   "metadata": {},
   "outputs": [],
   "source": [
    "[ for k,v in data] "
   ]
  },
  {
   "cell_type": "markdown",
   "metadata": {
    "colab": {},
    "colab_type": "code",
    "id": "26BMUZv-j4eZ"
   },
   "source": [
    "## Part 2: Scrape static websites\n",
    "\n",
    "Exchange Rates website https://www.exchange-rates.org/converter provides a tool to calculate foreign currencies. \n",
    "\n",
    "For example, to convert 1 USD to EUR, use URL https://www.exchange-rates.org/converter/USD/EUR/1. \n",
    "\n",
    "From the website, extract exchange rate data for following currency pairs. Save them into `fx_scrap.csv`.\n",
    "\n",
    "| from_symbol | to_symbol | price | datetime |\n",
    "| ---  | ---  | ---  | --- |\n",
    "| SGD | EUR | ... | ... |\n",
    "| SGD | HKD | ... | ... |\n",
    "| SGD | USD | ... | ... |\n",
    "| SGD | MYR | ... | ... |\n",
    "\n",
    "Noted:\n",
    "Use `bs4` library to parse the HTML\n",
    "\n",
    "1. Look at the URL `path parameter` and decide how to pass inputs into URL.\n",
    "2. Use `bs4` library to parse the html as show below.\n",
    "3. You need to make mutiple requests."
   ]
  },
  {
   "cell_type": "code",
   "execution_count": 1,
   "metadata": {},
   "outputs": [],
   "source": [
    "url = \"https://www.exchange-rates.org/converter/USD/EUR/1\"\n",
    "import requests\n",
    "resp = requests.get(url)\n",
    "html = resp.text"
   ]
  },
  {
   "cell_type": "code",
   "execution_count": 2,
   "metadata": {},
   "outputs": [],
   "source": [
    "from bs4 import BeautifulSoup\n",
    "soup = BeautifulSoup(html)"
   ]
  },
  {
   "cell_type": "code",
   "execution_count": 4,
   "metadata": {},
   "outputs": [
    {
     "data": {
      "text/plain": [
       "0.90173"
      ]
     },
     "execution_count": 4,
     "metadata": {},
     "output_type": "execute_result"
    }
   ],
   "source": [
    "price = soup.find('span', {'id':'ctl00_M_lblToAmount'}).text\n",
    "float(price)"
   ]
  },
  {
   "cell_type": "code",
   "execution_count": 0,
   "metadata": {
    "colab": {},
    "colab_type": "code",
    "id": "PKMvwKQXj20B"
   },
   "outputs": [],
   "source": [
    "## Save this record into csv file"
   ]
  }
 ],
 "metadata": {
  "colab": {
   "collapsed_sections": [
    "eUCYwxGUZC5S",
    "LPClnJ_vZGiu"
   ],
   "name": "Pydot Workshops.ipynb",
   "provenance": []
  },
  "kernelspec": {
   "display_name": "Python 3",
   "language": "python",
   "name": "python3"
  },
  "language_info": {
   "codemirror_mode": {
    "name": "ipython",
    "version": 3
   },
   "file_extension": ".py",
   "mimetype": "text/x-python",
   "name": "python",
   "nbconvert_exporter": "python",
   "pygments_lexer": "ipython3",
   "version": "3.8.3"
  }
 },
 "nbformat": 4,
 "nbformat_minor": 1
}
