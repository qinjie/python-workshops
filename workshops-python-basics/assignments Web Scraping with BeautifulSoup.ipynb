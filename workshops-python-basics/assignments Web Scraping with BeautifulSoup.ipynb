{
 "cells": [
  {
   "cell_type": "markdown",
   "metadata": {
    "colab_type": "text",
    "id": "lGHFNAUxQYgm"
   },
   "source": [
    "# Day 4 Assignments (Part 2)\n",
    "\n",
    "**Objectives:**\n",
    "- Collect data from API &amp; store in csv\n",
    "- Scrape static websites &amp; store in csv"
   ]
  },
  {
   "cell_type": "markdown",
   "metadata": {},
   "source": [
    "## Part 1: Fetch API Data\n",
    "\n",
    "Cropto Compare provides API on exchange rate. https://min-api.cryptocompare.com/documentation\n",
    "\n",
    "You are to fetch exchange rates from SGD to JPY,USD,MYR,EUR using above API.\n",
    "\n",
    "1. Make api call from python & fetch the response in a python dict.\n",
    "2. Parse returned data from the API Response. For example,\n",
    "    ```\n",
    "    {\n",
    "    \"JPY\": 107.93,\n",
    "    \"INR\": 84.82\n",
    "    }\n",
    "    ```\n",
    "4. Format the parsed infomation/data and save it into a csv file with following format.\n",
    "\n",
    "| sno | from_symbol | to_symbol | price | datetime |\n",
    "| ---  | ---  | ---  | ---  | --- |\n",
    "| 1 | USD | INR | 71 | ... |\n",
    "| 2 | USD | SGD | 1.37| ... |\n",
    "\n",
    "\n",
    "Hint: Use python `time` or `datetime` module to get the current time."
   ]
  },
  {
   "cell_type": "code",
   "execution_count": 5,
   "metadata": {
    "colab": {},
    "colab_type": "code",
    "id": "b0mJn9GQjH9K"
   },
   "outputs": [
    {
     "data": {
      "text/plain": [
       "{'JPY': 110.08, 'INR': 77.8}"
      ]
     },
     "execution_count": 5,
     "metadata": {},
     "output_type": "execute_result"
    }
   ],
   "source": []
  },
  {
   "cell_type": "markdown",
   "metadata": {
    "colab": {},
    "colab_type": "code",
    "id": "26BMUZv-j4eZ"
   },
   "source": [
    "## Part 2: Scrape static websites\n",
    "\n",
    "Exchange Rates website https://www.exchange-rates.org/converter provides a tool to calculate foreign currencies. \n",
    "\n",
    "For example, to convert 1 USD to EUR, use URL https://www.exchange-rates.org/converter/USD/EUR/1. \n",
    "\n",
    "From the website, extract exchange rate data for following currency pairs. Save them into `fx_scrap.csv`.\n",
    "\n",
    "| from_symbol | to_symbol | price | datetime |\n",
    "| ---  | ---  | ---  | --- |\n",
    "| SGD | EUR | ... | ... |\n",
    "| SGD | HKD | ... | ... |\n",
    "| SGD | USD | ... | ... |\n",
    "| SGD | MYR | ... | ... |\n",
    "\n",
    "Noted:\n",
    "Use `bs4` library to parse the HTML\n",
    "\n",
    "1. Look at the URL `path parameter` and decide how to pass inputs into URL.\n",
    "2. Use `bs4` library to parse the html as show below.\n",
    "3. You need to make mutiple requests."
   ]
  },
  {
   "cell_type": "code",
   "execution_count": 1,
   "metadata": {},
   "outputs": [],
   "source": []
  }
 ],
 "metadata": {
  "colab": {
   "collapsed_sections": [
    "eUCYwxGUZC5S",
    "LPClnJ_vZGiu"
   ],
   "name": "Pydot Workshops.ipynb",
   "provenance": []
  },
  "kernelspec": {
   "display_name": "Python 3",
   "language": "python",
   "name": "python3"
  },
  "language_info": {
   "codemirror_mode": {
    "name": "ipython",
    "version": 3
   },
   "file_extension": ".py",
   "mimetype": "text/x-python",
   "name": "python",
   "nbconvert_exporter": "python",
   "pygments_lexer": "ipython3",
   "version": "3.8.3"
  }
 },
 "nbformat": 4,
 "nbformat_minor": 1
}
