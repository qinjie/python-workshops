{
 "cells": [
  {
   "cell_type": "markdown",
   "metadata": {},
   "source": [
    "# Assignment - Functions"
   ]
  },
  {
   "cell_type": "markdown",
   "metadata": {},
   "source": [
    "## 1. Basic Functions\n",
    "\n",
    "1. Create a function `area_circle` which calculates area of a circle.\n",
    "    * Inputs: radius (default value = 1)\n",
    "    * Returns: area of circle\n",
    "2. Create a function `area_rectangle` which calculates area of a rectangle.\n",
    "    * Inputs: width, height \n",
    "    * Returns: area of rectangle\n",
    "3. Create a main function which uses above two functions\n",
    "    * Ask user to input radius\n",
    "    * Call `area_circle` function to calculate and print result\n",
    "    * Ask user to input width and height\n",
    "    * Call `area_rectangle` using named arguments and print result\n",
    "4. Add appropriate docstrings to the module and function\n",
    "\n",
    "**Sample output:** \n",
    "\n",
    "```\n",
    "Radius of circle: 10\n",
    "Area of circle: 314.159\n",
    "Width of rectangle: 10\n",
    "Height of rectangle: 20\n",
    "Area of rectangle: 200\n",
    "```"
   ]
  },
  {
   "cell_type": "code",
   "execution_count": 2,
   "metadata": {},
   "outputs": [
    {
     "ename": "ValueError",
     "evalue": "could not convert string to float: ",
     "output_type": "error",
     "traceback": [
      "\u001b[1;31m---------------------------------------------------------------------------\u001b[0m",
      "\u001b[1;31mValueError\u001b[0m                                Traceback (most recent call last)",
      "\u001b[1;32m<ipython-input-2-45d756431581>\u001b[0m in \u001b[0;36m<module>\u001b[1;34m\u001b[0m\n\u001b[1;32m----> 1\u001b[1;33m \u001b[0mfloat\u001b[0m\u001b[1;33m(\u001b[0m\u001b[1;34m''\u001b[0m\u001b[1;33m)\u001b[0m\u001b[1;33m\u001b[0m\u001b[1;33m\u001b[0m\u001b[0m\n\u001b[0m",
      "\u001b[1;31mValueError\u001b[0m: could not convert string to float: "
     ]
    }
   ],
   "source": [
    "float('')"
   ]
  },
  {
   "cell_type": "code",
   "execution_count": null,
   "metadata": {
    "tags": [
     "hide-cell"
    ]
   },
   "outputs": [],
   "source": [
    "'''\n",
    "Calculate area of circle and rectangle\n",
    "'''\n",
    "import math\n",
    "\n",
    "def area_circle(radius = 1):\n",
    "    '''Calculate area of a circle'''\n",
    "    return math.pi * radius * radius\n",
    "\n",
    "def area_rectangle(width, height):\n",
    "    '''Calculate area of a rectangle'''\n",
    "    return width * height\n",
    "\n",
    "if __name__ == '__main__':\n",
    "    r = float(input('Radius of circle:'))\n",
    "    print('Area of circle: {:.3f}'.format(area_circle(r)))\n",
    "    w = float(input('Width of rectangle: '))\n",
    "    h = float(input('Height of rectangle: '))\n",
    "    print('Area of rectangle: {:.0f}'.format(area_rectangle(width=r, height=h)))\n"
   ]
  },
  {
   "cell_type": "markdown",
   "metadata": {},
   "source": [
    "## 2. Pass Argument by Reference\n",
    "\n",
    "1. Create a list X with odd numbers between 1 and 9\n",
    "2. Create another list Y with even numbers between 10 and 2 (reverse order)\n",
    "3. Create a function which takes in both list\n",
    "    * Update items in X with sum of item in both lists, i.e. x[0] = x[0] + y[0]\n",
    "4. Print X value outside function\n",
    "\n",
    "**Sample output:**\n",
    "```\n",
    "[1, 3, 5, 7, 9]\n",
    "[10, 8, 6, 4, 2]\n",
    "[11, 11, 11, 11, 11]\n",
    "```"
   ]
  },
  {
   "cell_type": "code",
   "execution_count": null,
   "metadata": {
    "tags": [
     "hide-cell"
    ]
   },
   "outputs": [],
   "source": [
    "X = list(range(1, 10, 2))\n",
    "Y = list(range(10, 1, -2))\n",
    "## Try different Y to see diffrent result\n",
    "#Y = list(range(2, 12, 2))\n",
    "print(X)\n",
    "print(Y)\n",
    "\n",
    "def myfunc(X1, Y1):\n",
    "    for idx, item in enumerate(X1):\n",
    "        X1[idx] = item + Y1[idx]\n",
    "\n",
    "myfunc(X, Y)\n",
    "print(X)"
   ]
  },
  {
   "cell_type": "code",
   "execution_count": null,
   "metadata": {
    "tags": [
     "hide-cell"
    ]
   },
   "outputs": [],
   "source": [
    "#Using map()\n",
    "\n",
    "X = list(range(1,10,2))\n",
    "Y = list(range(10,1,-2))\n",
    "\n",
    "def sum_map(x,y):\n",
    "    return x + y\n",
    "\n",
    "X = list(map(sum_map, X, Y))\n",
    "print(X)"
   ]
  },
  {
   "cell_type": "code",
   "execution_count": null,
   "metadata": {
    "tags": [
     "hide-cell"
    ]
   },
   "outputs": [],
   "source": [
    "#Using zip() and map()\n",
    "\n",
    "X = list(range(1,12,2))\n",
    "Y = list(range(10,1,-2))\n",
    "print(X)\n",
    "print(Y)\n",
    "print(list(zip(X,Y)))\n",
    "\n",
    "def sum_zip(x):\n",
    "    return x[0] + x[1]\n",
    "\n",
    "X = list(map(sum_zip, zip(X,Y)))\n",
    "print(X)\n",
    "     "
   ]
  },
  {
   "cell_type": "code",
   "execution_count": null,
   "metadata": {
    "tags": [
     "hide-cell"
    ]
   },
   "outputs": [],
   "source": [
    "# Using Zip()\n",
    "\n",
    "X = list(range(1,10,2))\n",
    "Y = list(range(10,1,-2))\n",
    "print(list(zip(X,Y)))\n",
    "X = [x + y for x, y in zip(X,Y)]\n",
    "print(X)"
   ]
  },
  {
   "cell_type": "markdown",
   "metadata": {},
   "source": [
    "# 3. Lambda Functions\n",
    "\n",
    "1. Generate 10 random numbers between 1 and 20\n",
    "    ```\n",
    "    import random\n",
    "    list1 = random.sample(range(1,20),10)\n",
    "    ```\n",
    "2. Filter them into odd number sub list and even number sub list using `filter()` and lambda functions\n",
    "3. Find multiplication of all items in each sub list using `reduce()` and lambda function\n",
    "\n",
    "**Sample output:**\n",
    "```\n",
    "[4, 11, 13, 19, 5, 10, 14, 9, 17, 2]\n",
    "[4, 10, 14, 2]\n",
    "[11, 13, 19, 5, 9, 17]\n",
    "1120 2078505\n",
    "```"
   ]
  },
  {
   "cell_type": "code",
   "execution_count": null,
   "metadata": {
    "tags": [
     "hide-cell"
    ]
   },
   "outputs": [],
   "source": [
    "import random\n",
    "from functools import reduce\n",
    "\n",
    "list1 = random.sample(range(1,20),10)\n",
    "print(list1)\n",
    "\n",
    "# Expression \"x%2\" returns 1, which is True, if x is odd\n",
    "# Expression \"x%2\" returns 0, and \"not x%2\" returns True, if x is even\n",
    "# The filter() function returns an iterator. \n",
    "# Convert iterator to list because iteration over iterator is not repeatable. \n",
    "odds = list(filter(lambda x: x%2, list1))\n",
    "evens = list(filter(lambda x: not x%2, list1))\n",
    "\n",
    "print(odds)\n",
    "print(evens)\n",
    "\n",
    "# The reduce() lambda function always takes in 2 arguments.\n",
    "# Initial value 1 is optional\n",
    "result_odd = reduce(lambda x,y: x*y, odds, 1)\n",
    "result_even = reduce(lambda x,y: x*y, evens, 1)\n",
    "print(result_odd,result_even)"
   ]
  }
 ],
 "metadata": {
  "celltoolbar": "Tags",
  "kernelspec": {
   "display_name": "Python 3",
   "language": "python",
   "name": "python3"
  },
  "language_info": {
   "codemirror_mode": {
    "name": "ipython",
    "version": 3
   },
   "file_extension": ".py",
   "mimetype": "text/x-python",
   "name": "python",
   "nbconvert_exporter": "python",
   "pygments_lexer": "ipython3",
   "version": "3.7.3"
  }
 },
 "nbformat": 4,
 "nbformat_minor": 2
}
