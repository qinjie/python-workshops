{
 "cells": [
  {
   "cell_type": "markdown",
   "metadata": {},
   "source": [
    "# Assignment - Strings"
   ]
  },
  {
   "cell_type": "markdown",
   "metadata": {},
   "source": [
    "## 1. \n",
    "\n",
    "Ask user to input a `name` and a `greeting`, print out the message \"<name>, <greeting>\" using string formatting, where <name> is the `name` value and `greeting` values respectively entered by user.  \n",
    "\n",
    "*Note: Use string `format()` function*\n",
    "    \n",
    "**Sample output:**\n",
    "```\n",
    "Enter name: MARK\n",
    "Enter greeting: How are you?\n",
    "Mark, How are you?\n",
    "```"
   ]
  },
  {
   "cell_type": "code",
   "execution_count": null,
   "metadata": {
    "tags": [
     "hide-cell"
    ]
   },
   "outputs": [],
   "source": [
    "name = input('Enter name: ')\n",
    "greeting = input('Enter greeting: ')\n",
    "m = '{}, {}'.format(name.title(), greeting)\n",
    "print(m)\n"
   ]
  },
  {
   "cell_type": "markdown",
   "metadata": {},
   "source": [
    "## 2. \n",
    "\n",
    "Ask user to enter a sentence. Without using `title()` function, convert the sentence into title case, i.e. same output as the `title()` function.\n",
    "\n",
    "**Sample output:** \n",
    "\n",
    "```\n",
    "Enter a long sentence: long live the king!\n",
    "Long Live The King!\n",
    "```"
   ]
  },
  {
   "cell_type": "code",
   "execution_count": null,
   "metadata": {
    "tags": [
     "hide-cell"
    ]
   },
   "outputs": [],
   "source": []
  },
  {
   "cell_type": "markdown",
   "metadata": {},
   "source": [
    "## 3.\n",
    "\n",
    "Ask user to input width and height of a rectangle. Calculate and print out its perimeter and area. \n",
    "\n",
    "Note: use `format()` function of string.\n",
    "\n",
    "**Sample output:** \n",
    "\n",
    "```\n",
    "Enter width: 2.4\n",
    "Enter height: 3.7\n",
    "Rectangle(2.4, 3.7) has perimeter of 12.2 and area of 8.88\n",
    "```"
   ]
  },
  {
   "cell_type": "code",
   "execution_count": null,
   "metadata": {},
   "outputs": [],
   "source": []
  }
 ],
 "metadata": {
  "kernelspec": {
   "display_name": "Python 3",
   "language": "python",
   "name": "python3"
  },
  "language_info": {
   "codemirror_mode": {
    "name": "ipython",
    "version": 3
   },
   "file_extension": ".py",
   "mimetype": "text/x-python",
   "name": "python",
   "nbconvert_exporter": "python",
   "pygments_lexer": "ipython3",
   "version": "3.7.3"
  }
 },
 "nbformat": 4,
 "nbformat_minor": 2
}
