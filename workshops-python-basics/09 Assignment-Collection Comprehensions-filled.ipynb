{
 "cells": [
  {
   "cell_type": "markdown",
   "metadata": {},
   "source": [
    "# Assignment - Collection Comprehensions"
   ]
  },
  {
   "cell_type": "markdown",
   "metadata": {},
   "source": [
    "## 1. List Comprehension\n",
    "\n",
    "Write a list comprehension which generates a 5 x 5 unity matrix.\n",
    "```\n",
    "[[1, 0, 0, 0, 0],\n",
    " [0, 1, 0, 0, 0],\n",
    " [0, 0, 1, 0, 0],\n",
    " [0, 0, 0, 1, 0],\n",
    " [0, 0, 0, 0, 1]]\n",
    "```"
   ]
  },
  {
   "cell_type": "code",
   "execution_count": 5,
   "metadata": {},
   "outputs": [
    {
     "data": {
      "text/plain": [
       "[[1, 0, 0, 0, 0],\n",
       " [0, 1, 0, 0, 0],\n",
       " [0, 0, 1, 0, 0],\n",
       " [0, 0, 0, 1, 0],\n",
       " [0, 0, 0, 0, 1]]"
      ]
     },
     "execution_count": 5,
     "metadata": {},
     "output_type": "execute_result"
    }
   ],
   "source": [
    "[ [ int(x == y) for x in range(5)] for y in range(5)]"
   ]
  },
  {
   "cell_type": "markdown",
   "metadata": {},
   "source": [
    "## 2. Dictionary Comprehension\n",
    "\n",
    "Write a dictionary comprehension which create a dictionary `capitals` mapping from country (as key) to its capital city (as value). \n",
    "\n",
    "```\n",
    "countries = ['Algeria', 'Libya', 'South Africa', 'Egypt', 'Morocco', 'Russia', 'China', 'India']\n",
    "cities = ['Algiers','Tripoli', 'Pretoria', 'Cairo', 'Rabat', 'Moscow', 'Beijing', 'New Delhi']\n",
    "```\n",
    "    "
   ]
  },
  {
   "cell_type": "code",
   "execution_count": 10,
   "metadata": {},
   "outputs": [
    {
     "name": "stdout",
     "output_type": "stream",
     "text": [
      "[('Algeria', 'Algiers'), ('Libya', 'Tripoli'), ('South Africa', 'Pretoria'), ('Egypt', 'Cairo'), ('Morocco', 'Rabat'), ('Russia', 'Moscow'), ('China', 'Beijing'), ('India', 'New Delhi')]\n"
     ]
    },
    {
     "data": {
      "text/plain": [
       "{'Algeria': 'Algiers',\n",
       " 'Libya': 'Tripoli',\n",
       " 'South Africa': 'Pretoria',\n",
       " 'Egypt': 'Cairo',\n",
       " 'Morocco': 'Rabat',\n",
       " 'Russia': 'Moscow',\n",
       " 'China': 'Beijing',\n",
       " 'India': 'New Delhi'}"
      ]
     },
     "execution_count": 10,
     "metadata": {},
     "output_type": "execute_result"
    }
   ],
   "source": [
    "countries = ['Algeria', 'Libya', 'South Africa', 'Egypt', 'Morocco', 'Russia', 'China', 'India']\n",
    "cities = ['Algiers','Tripoli', 'Pretoria', 'Cairo', 'Rabat', 'Moscow', 'Beijing', 'New Delhi']\n",
    "print(list(zip(countries, cities)))\n",
    "{x:y for x, y in zip(countries, cities)}\n",
    "\n",
    "# capitals = { x:y for x, y in zip(countries, cities)}\n",
    "# print(capitals)"
   ]
  }
 ],
 "metadata": {
  "kernelspec": {
   "display_name": "Python 3",
   "language": "python",
   "name": "python3"
  },
  "language_info": {
   "codemirror_mode": {
    "name": "ipython",
    "version": 3
   },
   "file_extension": ".py",
   "mimetype": "text/x-python",
   "name": "python",
   "nbconvert_exporter": "python",
   "pygments_lexer": "ipython3",
   "version": "3.7.3"
  }
 },
 "nbformat": 4,
 "nbformat_minor": 2
}
