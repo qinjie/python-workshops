{
 "cells": [
  {
   "cell_type": "markdown",
   "metadata": {
    "slideshow": {
     "slide_type": "slide"
    }
   },
   "source": [
    "# Assignment - Control Flow Statements\n",
    "\n",
    "* Conditional statements\n",
    "* Loops\n",
    "* Iterating items from iterable objects"
   ]
  },
  {
   "cell_type": "markdown",
   "metadata": {
    "slideshow": {
     "slide_type": "slide"
    }
   },
   "source": [
    "## 1. Conditional Statements\n"
   ]
  },
  {
   "cell_type": "markdown",
   "metadata": {
    "slideshow": {
     "slide_type": "slide"
    }
   },
   "source": [
    "### Odd or Even\n",
    "Write a program that reads **an integer** from the standard input. Your program displays a message indicating whether the integer is **even** or **odd**.\n",
    "\n",
    "<u>Sample Output:</u>\n",
    "\n",
    "```Python\n",
    "Enter an integer: 4\n",
    "Even\n",
    "```"
   ]
  },
  {
   "cell_type": "code",
   "execution_count": null,
   "metadata": {
    "slideshow": {
     "slide_type": "skip"
    }
   },
   "outputs": [],
   "source": [
    "n = int(input('Enter an integer: '))\n",
    "if n%2 == 0:\n",
    "    print('Even')\n",
    "else:\n",
    "    print('Odd')"
   ]
  },
  {
   "cell_type": "markdown",
   "metadata": {},
   "source": [
    "Alternative:"
   ]
  },
  {
   "cell_type": "code",
   "execution_count": null,
   "metadata": {},
   "outputs": [],
   "source": [
    "n = int(input('Enter an integer: '))\n",
    "print('Even') if n%2 == 0 else print('Odd')"
   ]
  },
  {
   "cell_type": "markdown",
   "metadata": {
    "slideshow": {
     "slide_type": "slide"
    }
   },
   "source": [
    "### Human Year to Dog Year\n",
    "\n",
    "The age of a dog could be computed as follow:\n",
    "-   For the first two human years, dog year is 10.5 times of human year\n",
    "-   For additional human year, dog year is 4 times of human year.\n",
    "\n",
    "Implement a function `human_year_to_dog()` which converts human years to dog years\n",
    "* return `None` if input is a negative value\n",
    "\n",
    "Write a script to:\n",
    "* ask user to input a human year value;\n",
    "* call the function to get the equivalent dog year;\n",
    "* display to the result in 1 decimal points\n",
    "* display **Error** if the value is `None`\n",
    "\n",
    "<u>Sample Output:</u>\n",
    "\n",
    "```Python\n",
    "Human Year: 2\n",
    "Dog Year: 21.0\n",
    "Human Year: 1.513\n",
    "Dog Year: 15.9\n",
    "Human Year: -2\n",
    "Error\n",
    "```"
   ]
  },
  {
   "cell_type": "code",
   "execution_count": 4,
   "metadata": {
    "slideshow": {
     "slide_type": "skip"
    }
   },
   "outputs": [
    {
     "name": "stdout",
     "output_type": "stream",
     "text": [
      "Human Year: 3\n",
      "Dog Year: 35.5\n"
     ]
    }
   ],
   "source": [
    "def human_year_to_dog(humanyear):\n",
    "    if humanyear > 2:\n",
    "        return 2*10.5 + (humanyear-2)*4\n",
    "    elif humanyear >=0 :\n",
    "        return humanyear*10.5\n",
    "    else:\n",
    "        return None\n",
    "\n",
    "humanyear = float(input('Human Year: '))\n",
    "dogyear = human_year_to_dog(humanyear)\n",
    "if dogyear is None:\n",
    "    print('Error')\n",
    "else:\n",
    "    print('Dog Year: {:.1f}'.format(dogyear))"
   ]
  },
  {
   "cell_type": "markdown",
   "metadata": {},
   "source": [
    "## 2. `while` Loop\n"
   ]
  },
  {
   "cell_type": "markdown",
   "metadata": {},
   "source": [
    "### Even Numbers Only\n",
    "\n",
    "Create a program which ask users to input even integers. Ignore the input if the number is not even. End the program after user entered 4 even numbers and display them. \n",
    "\n",
    "<u>Sample Output:</u>\n",
    "```\n",
    "Enter 4 even integers:\n",
    "10\n",
    "4\n",
    "5\n",
    "6\n",
    "8\n",
    "[10, 4, 6, 8]\n",
    "```"
   ]
  },
  {
   "cell_type": "code",
   "execution_count": null,
   "metadata": {
    "slideshow": {
     "slide_type": "skip"
    }
   },
   "outputs": [],
   "source": [
    "result = []\n",
    "while True:\n",
    "    val = int(input())\n",
    "    if val % 2 != 0:\n",
    "        continue\n",
    "    result = result.append(val)\n",
    "    if len(result) == 4:\n",
    "        break\n",
    "print(result)"
   ]
  },
  {
   "cell_type": "markdown",
   "metadata": {},
   "source": [
    "## 3. `for` Loop\n"
   ]
  },
  {
   "cell_type": "markdown",
   "metadata": {
    "slideshow": {
     "slide_type": "slide"
    }
   },
   "source": [
    "### Count Even and Odd Numbers\n",
    "\n",
    "Following code generates a list of random integers between 1 and 10 (both ends inclusive).\n",
    "\n",
    "```\n",
    "import random\n",
    "nums = [random.randint(1,10) for i in range(5)]\n",
    "print(nums)\n",
    "```\n",
    "\n",
    "Write a program which \n",
    "* generates 10 random integers between 1 and 100;\n",
    "* counts number of even and odd numbers in the list;\n",
    "* displays the result as show in Sample Output.\n",
    "\n",
    "<u>Sample Output:</u>\n",
    "\n",
    "```\n",
    "Random Numbers:  [18, 30, 26, 6, 83, 62, 18, 10, 32, 52]\n",
    "Odd = 1, Even = 9\n",
    "```"
   ]
  },
  {
   "cell_type": "code",
   "execution_count": 8,
   "metadata": {
    "scrolled": true
   },
   "outputs": [
    {
     "name": "stdout",
     "output_type": "stream",
     "text": [
      "Random Numbers:  [72, 86, 64, 74, 96, 100, 43, 70, 77, 75]\n",
      "Odd = 3, Even = 7\n"
     ]
    }
   ],
   "source": [
    "import random\n",
    "nums = [random.randint(1,100) for i in range(10)]\n",
    "\n",
    "odd = 0\n",
    "even = 0\n",
    "for n in nums:\n",
    "    if n % 2 == 0:\n",
    "        even += 1\n",
    "    else:\n",
    "        odd += 1\n",
    "\n",
    "print('Random Numbers: ', nums)\n",
    "print('Odd = {}, Even = {}'.format(odd, even))"
   ]
  },
  {
   "cell_type": "markdown",
   "metadata": {},
   "source": [
    "## Count Characters\n",
    "\n",
    "Implement a function `char_freq()` which \n",
    "* takes in a string\n",
    "* count the frequency of all characters in the string\n",
    "* return result in dictionary, where key is the character and value is the frequency\n",
    "\n",
    "Write a program to ask user for a sentence; call the function to get character frequency; diplay the result.\n",
    "\n",
    "<u>Sample Output:</u>\n",
    "```\n",
    "Enter a message: hello world\n",
    "{'h': 1, 'e': 1, 'l': 3, 'o': 2, ' ': 1, 'w': 1, 'r': 1, 'd': 1}\n",
    "```"
   ]
  },
  {
   "cell_type": "code",
   "execution_count": 11,
   "metadata": {},
   "outputs": [
    {
     "name": "stdout",
     "output_type": "stream",
     "text": [
      "Enter a message: hello world\n",
      "{'h': 1, 'e': 1, 'l': 3, 'o': 2, ' ': 1, 'w': 1, 'r': 1, 'd': 1}\n"
     ]
    }
   ],
   "source": [
    "def char_freq(sentence):\n",
    "    result = {}\n",
    "    for c in sentence:\n",
    "        if result.get(c):\n",
    "            result[c] = result[c] + 1\n",
    "        else:\n",
    "            result[c] = 1\n",
    "    return result\n",
    "\n",
    "s = input('Enter a message: ')\n",
    "result = char_freq(s)\n",
    "print(result)"
   ]
  }
 ],
 "metadata": {
  "kernelspec": {
   "display_name": "Python 3",
   "language": "python",
   "name": "python3"
  },
  "language_info": {
   "codemirror_mode": {
    "name": "ipython",
    "version": 3
   },
   "file_extension": ".py",
   "mimetype": "text/x-python",
   "name": "python",
   "nbconvert_exporter": "python",
   "pygments_lexer": "ipython3",
   "version": "3.8.3"
  }
 },
 "nbformat": 4,
 "nbformat_minor": 2
}
