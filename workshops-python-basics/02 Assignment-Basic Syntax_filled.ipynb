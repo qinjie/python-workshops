{
 "cells": [
  {
   "cell_type": "markdown",
   "metadata": {},
   "source": [
    "# Assignment - Basic Syntax"
   ]
  },
  {
   "cell_type": "markdown",
   "metadata": {},
   "source": [
    "### 1. Hello\n",
    "\n",
    "You are to implement a simple Hello program:\n",
    "\n",
    "1. Ask user for his/her name\n",
    "2. Print out a greeting message \n",
    "\n",
    "Sample Output:\n",
    "```\n",
    "    What is your name? Mark\n",
    "    Hello Mark\n",
    "```"
   ]
  },
  {
   "cell_type": "markdown",
   "metadata": {},
   "source": [
    "Note: \n",
    "* On IDLE, go to menu `File > New Window` (or press `Ctrl + N`) to start a new code window\n",
    "* Press `Ctrl + S` to save the code as a Python file `ex01-1`\n",
    "    * The `.py` extension will be automatically added \n",
    "* Implement your code in the code window\n",
    "* In code window, go to menu `Run > Run Module` (or press `F5`) to run the module\n",
    "    * The code runs and show output at REPL window"
   ]
  },
  {
   "cell_type": "code",
   "execution_count": null,
   "metadata": {},
   "outputs": [],
   "source": [
    "name = input('What is your name? ')\n",
    "print('Hello', name)"
   ]
  },
  {
   "cell_type": "markdown",
   "metadata": {},
   "source": [
    "### 2. Rectangle\n",
    "\n",
    "You are to implement a simple Python program to calculate perimeter and area of a rectangle: \n",
    "1. Ask user for rectangle's width\n",
    "2. Ask user for rectangle's height\n",
    "3. Calculate rectangle's perimeter and area\n",
    "4. Display results to user\n",
    "\n",
    "Sample Output:\n",
    "```\n",
    "    Enter rectangle's width: 5\n",
    "    Enter rectangle's height: 2\n",
    "    Rectangle's peremeter: 14.0\n",
    "    Rectangle's area: 10.0\n",
    "```\n",
    "Note: The output must be exactly the same, i.e. including `'` in the printout."
   ]
  },
  {
   "cell_type": "code",
   "execution_count": null,
   "metadata": {},
   "outputs": [],
   "source": [
    "width = input(\"Enter rectangle's width: \")\n",
    "w = float(width)\n",
    "height = input(\"Enter rectangle's height: \")\n",
    "h = float(height)\n",
    "pere = w * 2 + h * 2\n",
    "area = w * h\n",
    "print(\"Rectangle's peremeter:\",pere)\n",
    "print(\"Rectangle's area:\",area)"
   ]
  },
  {
   "cell_type": "markdown",
   "metadata": {},
   "source": [
    "### 3. BMI Calculator\n",
    "\n",
    "BMI value is calculated by following formula: \n",
    "\n",
    "```\n",
    "    BMI = weight (kg) / height (m) / height (m) \n",
    "```\n",
    "\n",
    "You are to implement a simple BMI calculator using Python. \n",
    "1. Ask user for his/her name\n",
    "2. Ask user to enter weight in kilogram (kg)\n",
    "3. Ask user to enter height in meter (m)\n",
    "4. Calculate and display BMI value\n",
    "\n",
    "Sample Output:\n",
    "```\n",
    "    Enter your name: Mark\n",
    "    Enter your weight (kg): 70\n",
    "    Enter your height (meter): 1.68\n",
    "    Hi Mark your BMI is 24.801587301587304\n",
    "```"
   ]
  },
  {
   "cell_type": "code",
   "execution_count": null,
   "metadata": {},
   "outputs": [],
   "source": [
    "name = input('Enter your name: ')\n",
    "weight = input('Enter your weight (kg): ')\n",
    "height = input('Enter your height (meter): ')\n",
    "w = float(weight)\n",
    "h = float(height)\n",
    "bmi = w / h / h\n",
    "print('Hi', name, 'your BMI is', bmi)"
   ]
  }
 ],
 "metadata": {
  "kernelspec": {
   "display_name": "Python 3",
   "language": "python",
   "name": "python3"
  },
  "language_info": {
   "codemirror_mode": {
    "name": "ipython",
    "version": 3
   },
   "file_extension": ".py",
   "mimetype": "text/x-python",
   "name": "python",
   "nbconvert_exporter": "python",
   "pygments_lexer": "ipython3",
   "version": "3.8.3"
  }
 },
 "nbformat": 4,
 "nbformat_minor": 4
}
