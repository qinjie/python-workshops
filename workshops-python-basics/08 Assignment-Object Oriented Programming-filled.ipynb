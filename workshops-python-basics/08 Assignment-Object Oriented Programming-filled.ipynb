{
 "cells": [
  {
   "cell_type": "markdown",
   "metadata": {},
   "source": [
    "# Object Oriented Programming - Assignment"
   ]
  },
  {
   "cell_type": "markdown",
   "metadata": {},
   "source": [
    "## 1. Basic Class\n",
    "\n",
    "\n",
    "### 1.1 Class `Point`\n",
    "Create a Python class `Point` which contains 2 attributes, `x` and `y`, representing x and y coordinate of the point. \n",
    "* Implement initializer method which initialize `x` and `y`.\n",
    "* Implement a instance method `dist_to_origin()` which return distance from origin using formular `math.sqrt(x**2 + y**2)`. \n",
    "* Implement `__str__()` which returns \"(x,y)\", e.g. \"(3.0,4.0)\"\n",
    "\n",
    "#### Sample Output\n",
    "```\n",
    "(3.0, 4.0)\n",
    "Point(3.0,4.0)\n",
    "5.0\n",
    "```"
   ]
  },
  {
   "cell_type": "code",
   "execution_count": 3,
   "metadata": {},
   "outputs": [
    {
     "name": "stdout",
     "output_type": "stream",
     "text": [
      "(3.0,4)\n",
      "Point(3.0,4.0)\n",
      "5.0\n"
     ]
    }
   ],
   "source": [
    "class Point:\n",
    "    def __init__(self, x, y):\n",
    "        self.x = x\n",
    "        self.y = y\n",
    "    \n",
    "    def dist_to_origin(self):\n",
    "        import math\n",
    "        return math.sqrt(self.x**2 + self.y**2)\n",
    "    \n",
    "    def __str__(self):\n",
    "        return \"({s.x:.1f},{s.y})\".format(s = self)\n",
    "#         return \"({:.1f}, {:.1f})\".format(self.x, self.y)\n",
    "    \n",
    "    def __repr__(self):\n",
    "        return \"Point({:.1f},{:.1f})\".format(self.x, self.y)\n",
    "\n",
    "### Test\n",
    "p = Point(3, 4)\n",
    "print(str(p))\n",
    "print(repr(p))\n",
    "print(p.dist_to_origin())"
   ]
  },
  {
   "cell_type": "markdown",
   "metadata": {},
   "source": [
    "## 1.2 Class `Rectangle`\n",
    "Create a Python class `Rectangle` which contains 3 attributes, `width`, `height` and `corner`. The `corner` is of `Point` type, which gives coordinate of bottom left corner of the rectangle.\n",
    "* Implement initializer method which initialize `width`, `height` and `corner`. \n",
    "* Implement a instance method `get_centre()` which returns a `Point` boject representing centre point of the rectance.\n",
    "* Implement a instance method `scale(val)` which scale width and height by `val` times. \n",
    "\n",
    "#### Sample Output\n",
    "```\n",
    "(7.0, 12.0)\n",
    "Rectangle(20, 40) at point (2.0, 2.0)\n",
    "\n",
    "```"
   ]
  },
  {
   "cell_type": "code",
   "execution_count": 5,
   "metadata": {},
   "outputs": [
    {
     "name": "stdout",
     "output_type": "stream",
     "text": [
      "(7.0,12.0)\n",
      "Rectangle(20, 40) at point (2.0,2)\n"
     ]
    }
   ],
   "source": [
    "class Rectangle(object):\n",
    "    def __init__(self, width, height, corner):\n",
    "        self.width = width\n",
    "        self.height = height\n",
    "        self.corner = corner\n",
    "    \n",
    "    def get_centre(self):\n",
    "        x = self.corner.x + 1/2 * self.width\n",
    "        y = self.corner.y + 1/2 * self.height\n",
    "        return Point(x, y)\n",
    "\n",
    "    def scale(self, val):\n",
    "        self.width = self.width * val\n",
    "        self.height = self.height * val\n",
    "        \n",
    "    def __str__(self):\n",
    "        return 'Rectangle({}, {}) at point {}'.format(self.width, self.height, self.corner)\n",
    "\n",
    "\n",
    "### Test\n",
    "r = Rectangle(10, 20, Point(2, 2))\n",
    "print(r.get_centre())\n",
    "r.scale(2)\n",
    "print(r)"
   ]
  },
  {
   "cell_type": "markdown",
   "metadata": {},
   "source": [
    "## 2. Class Attribute, Static Method and Class Method"
   ]
  },
  {
   "cell_type": "markdown",
   "metadata": {},
   "source": [
    "### 2.1 Class Attribute\n",
    "\n",
    "Implement a class attribute `counter` which keep track of number of instance created for class `Machine`.\n",
    "* The `counter` has inital value of 0\n",
    "* In `__init__(self)` method, increment counter by 1\n",
    "* In `__del__(self)` method, decrement counter by 1\n",
    "\n",
    "#### Sample Output\n",
    "```\n",
    "2\n",
    "1\n",
    "```"
   ]
  },
  {
   "cell_type": "code",
   "execution_count": 7,
   "metadata": {},
   "outputs": [
    {
     "name": "stdout",
     "output_type": "stream",
     "text": [
      "init instance 2885866736776 from class 2885860698424. new counter = 1\n",
      "init instance 2885866736720 from class 2885860698424. new counter = 2\n",
      "del instance 2885866735656 from class 2885860659720. new counter = 1\n",
      "1\n",
      "del instance 2885866736776 from class 2885860698424. new counter = 0\n",
      "0\n"
     ]
    }
   ],
   "source": [
    "class Machine:\n",
    "    counter = 0\n",
    "    \n",
    "    def __init__(self):\n",
    "        Machine.counter += 1\n",
    "        print(\"init instance {} from class {}. new counter = {}\"\n",
    "              .format(id(self), id(type(self)), self.counter))\n",
    "\n",
    "    def __del__(self):\n",
    "        Machine.counter -= 1 \n",
    "        print(\"del instance {} from class {}. new counter = {}\"\n",
    "              .format(id(self), id(type(self)), self.counter))\n",
    "        \n",
    "# Test\n",
    "m1 = Machine()\n",
    "m2 = Machine()\n",
    "print(Machine.counter)\n",
    "del m1\n",
    "print(Machine.counter)"
   ]
  },
  {
   "cell_type": "code",
   "execution_count": 83,
   "metadata": {},
   "outputs": [
    {
     "name": "stdout",
     "output_type": "stream",
     "text": [
      "2344182350696\n",
      "2344182350696\n",
      "2344209307256\n",
      "2344209330856\n",
      "2344218088312\n",
      "2344218088720\n"
     ]
    }
   ],
   "source": [
    "import math\n",
    "print(id(math))\n",
    "\n",
    "import math\n",
    "print(id(math))\n",
    "\n",
    "class A:\n",
    "    pass\n",
    "print(id(A))\n",
    "\n",
    "class A:\n",
    "    pass\n",
    "print(id(A))\n",
    "\n",
    "def B():\n",
    "    pass\n",
    "print(id(B))\n",
    "\n",
    "def B():\n",
    "    pass\n",
    "print(id(B))"
   ]
  },
  {
   "cell_type": "markdown",
   "metadata": {},
   "source": [
    "### 2.2 Class Method\n",
    "\n",
    "Implement a class method `get_serial()` in the `Customer` class which returns __next_serial value and increase the __next_serial by 1. \n",
    "\n",
    "```\n",
    "class Customer:\n",
    "\n",
    "    __next_serial = 1\n",
    "    \n",
    "    def __init__(self):\n",
    "        self.serial = Customer.__next_serial\n",
    "        Customer.__next_serial += 1\n",
    "```\n",
    "\n",
    "#### Sample Output\n",
    "```\n",
    "1\n",
    "2\n",
    "```"
   ]
  },
  {
   "cell_type": "code",
   "execution_count": 1,
   "metadata": {},
   "outputs": [
    {
     "name": "stdout",
     "output_type": "stream",
     "text": [
      "1\n",
      "2\n"
     ]
    }
   ],
   "source": [
    "class Customer:\n",
    "\n",
    "    __next_serial = 1\n",
    "\n",
    "    @classmethod\n",
    "    def get_serial(cls):\n",
    "        x = cls.__next_serial\n",
    "        cls.__next_serial += 1 \n",
    "        return x\n",
    "    \n",
    "    def __init__(self):\n",
    "        self.serial = Customer.get_serial()\n",
    "\n",
    "## Test\n",
    "c1 = Customer()\n",
    "c2 = Customer()\n",
    "print(c1.serial)\n",
    "print(c2.serial)"
   ]
  },
  {
   "cell_type": "markdown",
   "metadata": {},
   "source": [
    "### 2.2 Static Method\n",
    "\n",
    "Implement following 2 static method in the `Temperature` class which convert value between celsius and fahrenheit.\n",
    "* `c2f()` which takes in a value in celsius and return a value in fahrenheit\n",
    "* `f2c()` which takes in a value in fahrenheit and return a value in celsius\n",
    "\n",
    "#### Sample Output\n",
    "```\n",
    "86.0\n",
    "30.0\n",
    "```"
   ]
  },
  {
   "cell_type": "code",
   "execution_count": null,
   "metadata": {},
   "outputs": [],
   "source": [
    "class Temperature:\n",
    "    \n",
    "    @staticmethod\n",
    "    def c2f(c):\n",
    "        return (c * 9/5) + 32\n",
    "    \n",
    "    @staticmethod\n",
    "    def f2c(f):\n",
    "        return (f - 32) * 5/9\n",
    "\n",
    "## Test\n",
    "print(Temperature.c2f(30))\n",
    "print(Temperature.f2c(86))"
   ]
  },
  {
   "cell_type": "markdown",
   "metadata": {},
   "source": [
    "### 2.3 Multiple Initializer using Class Method (Optional)\n",
    "\n",
    "Modify class `Book` to add a class method `from_json()` to create an instance from JSON string\n",
    "\n",
    "```\n",
    "class Book:\n",
    "    \n",
    "    def __init__(self, title, author):\n",
    "        self.title = title\n",
    "        self.author = author\n",
    "    \n",
    "    def __str__(self):\n",
    "        return '({},{})'.format(self.title, self.author)\n",
    "        \n",
    "    ## define class method here\n",
    "\n",
    "\n",
    "## Test\n",
    "c1 = Book('Rich Dad Poor Dad', 'Robert Kiyosaki')\n",
    "c2 = Book.from_json('{\"title\":\"Rich Dad Poor Dad\", \"author\":\"Robert Kiyosaki\"}')\n",
    "print(c1)\n",
    "print(c2)\n",
    "```\n",
    "\n",
    "#### Sample Output\n",
    "```\n",
    "(Rich Dad Poor Dad,Robert Kiyosaki)\n",
    "(Rich Dad Poor Dad,Robert Kiyosaki)\n",
    "```"
   ]
  },
  {
   "cell_type": "code",
   "execution_count": 4,
   "metadata": {},
   "outputs": [
    {
     "name": "stdout",
     "output_type": "stream",
     "text": [
      "<__main__.Book object at 0x000002B7EF1654A8>\n",
      "<__main__.Book object at 0x000002B7EF165518>\n"
     ]
    }
   ],
   "source": [
    "class Book:\n",
    "    \n",
    "    def __init__(self, title, author):\n",
    "        self.title = title\n",
    "        self.author = author\n",
    "    \n",
    "    def __str__(self):\n",
    "        return '({},{})'.format(self.title, self.author)\n",
    "\n",
    "    ## define class method here\n",
    "    @classmethod\n",
    "    def from_json(cls, input_json):\n",
    "        import json\n",
    "        rgb = json.loads(input_json)\n",
    "        return cls(rgb['title'], rgb['author'])\n",
    "\n",
    "\n",
    "## Test\n",
    "c1 = Book('Rich Dad Poor Dad', 'Robert Kiyosaki')\n",
    "c2 = Book.from_json('{\"title\":\"Rich Dad Poor Dad\", \"author\":\"Robert Kiyosaki\"}')\n",
    "print(c1)\n",
    "print(c2)"
   ]
  },
  {
   "cell_type": "markdown",
   "metadata": {},
   "source": [
    "## 3. Properties\n",
    "\n",
    "Implement a class `Person` which has 2 attributes, `firstName`, `lastName`.\n",
    "* Use python convention to make both attributes \"private\"\n",
    "* Implement an initializer which initialize both attributes \n",
    "* Implement both attributes as properties\n",
    "* Implement another property `fullname` which returns \"firstName lastName\"\n",
    "\n",
    "#### Sample Output\n",
    "```\n",
    "Alan Goh\n",
    "Alan Goh\n",
    "```"
   ]
  },
  {
   "cell_type": "code",
   "execution_count": null,
   "metadata": {},
   "outputs": [],
   "source": [
    "class Person:\n",
    "    def __init__(self, firstName, lastName):\n",
    "        self._firstName = firstName\n",
    "        self._lastName = lastName\n",
    "    \n",
    "    @property\n",
    "    def firstName(self):\n",
    "        return self._firstName\n",
    "\n",
    "    @firstName.setter\n",
    "    def firstName(self, value):\n",
    "        self._firstName = value\n",
    "    \n",
    "    @property\n",
    "    def lastName(self):\n",
    "        return self._lastName\n",
    "\n",
    "    @lastName.setter\n",
    "    def lastName(self, value):\n",
    "        self._lastName = value    \n",
    "    \n",
    "    @property\n",
    "    def fullname(self):\n",
    "        return \"{} {}\".format(self._firstName, self._lastName)\n",
    "    \n",
    "## Test\n",
    "p1 = Person(\"Alan\", \"Goh\")\n",
    "print(p1.firstName, p1.lastName)\n",
    "print(p1.fullname)"
   ]
  },
  {
   "cell_type": "markdown",
   "metadata": {},
   "source": [
    "## 4. Inheritance\n",
    "\n",
    "* Construct a class `Shape` with 2 abstract property `area` and `perimeter`\n",
    "* Construct a subclass `Rectangle` from class `Shape`. Its initializer takes in 2 attributes `width` and `height`. It implements both abstract properties.\n",
    "* Construct a subclass `Circle` from class `Shape`. Its initializer takes in 1 attribute `radius`. It implements both abstract properties.\n",
    "\n",
    "#### Sample Output\n",
    "```\n",
    "200 60\n",
    "314.1592653589793 62.83185307179586\n",
    "```"
   ]
  },
  {
   "cell_type": "code",
   "execution_count": 14,
   "metadata": {},
   "outputs": [
    {
     "name": "stdout",
     "output_type": "stream",
     "text": [
      "Rectangle: area=200.0, perimeter=60.0\n",
      "Circle: area=314.2, perimeter=62.8\n"
     ]
    }
   ],
   "source": [
    "# from abc import ABCMeta, abstractmethod\n",
    "\n",
    "# class Shape(metaclass=ABCMeta):\n",
    "    \n",
    "#     @property\n",
    "#     @abstractmethod\n",
    "#     def area(self):\n",
    "#         pass\n",
    "        \n",
    "#     @property\n",
    "#     @abstractmethod\n",
    "#     def perimeter(self):\n",
    "#         pass\n",
    "        \n",
    "class Shape:\n",
    "        \n",
    "    @property\n",
    "    def area(self):\n",
    "        raise NotImplementedError(\"Must implement get_area()\")\n",
    "        \n",
    "    @property\n",
    "    def perimeter(self):\n",
    "        raise NotImplementedError(\"Must implement get_perimeter()\")\n",
    "\n",
    "    def __str__(self):\n",
    "        return '{}: area={:.1f}, perimeter={:.1f}'.format(type(self).__name__, \n",
    "                                                 self.area, self.perimeter)\n",
    "\n",
    "class Rectangle(Shape):\n",
    "    \n",
    "    def __init__(self, width, height):\n",
    "        self._width = width\n",
    "        self._height = height\n",
    "    \n",
    "    @property\n",
    "    def area(self):\n",
    "        return self._width * self._height\n",
    "    \n",
    "    @property\n",
    "    def perimeter(self):\n",
    "        return 2 * (self._width + self._height)\n",
    "    \n",
    "\n",
    "class Circle(Shape):\n",
    "    \n",
    "    def __init__(self, radius):\n",
    "        self._radius = radius\n",
    "    \n",
    "    @property\n",
    "    def area(self):\n",
    "        import math\n",
    "        return self._radius * self._radius * math.pi\n",
    "    \n",
    "    @property\n",
    "    def perimeter(self):\n",
    "        import math\n",
    "        return 2 * self._radius * math.pi\n",
    "\n",
    "## Test\n",
    "r = Rectangle(10, 20)\n",
    "# print(r.area, r.perimeter)\n",
    "c = Circle(10)\n",
    "# print(c.area, c.perimeter)\n",
    "print(r)\n",
    "print(c)"
   ]
  }
 ],
 "metadata": {
  "kernelspec": {
   "display_name": "Python 3",
   "language": "python",
   "name": "python3"
  },
  "language_info": {
   "codemirror_mode": {
    "name": "ipython",
    "version": 3
   },
   "file_extension": ".py",
   "mimetype": "text/x-python",
   "name": "python",
   "nbconvert_exporter": "python",
   "pygments_lexer": "ipython3",
   "version": "3.7.3"
  }
 },
 "nbformat": 4,
 "nbformat_minor": 2
}
