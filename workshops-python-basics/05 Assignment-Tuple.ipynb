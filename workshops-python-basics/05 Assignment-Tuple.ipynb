{
 "cells": [
  {
   "cell_type": "markdown",
   "metadata": {
    "slideshow": {
     "slide_type": "slide"
    }
   },
   "source": [
    "# Assignment - Tuple"
   ]
  },
  {
   "cell_type": "markdown",
   "metadata": {
    "slideshow": {
     "slide_type": "slide"
    }
   },
   "source": [
    "## 1. Swapping of Values\n",
    "\n",
    "1. Ask user to input 3 integer values, x, y and z one by one.\n",
    "2. Print out x, y and z value before swapping\n",
    "3. Write an one-line statement to swap values so that x will hold value of y, y will hold value of z, and z will hold value of x after running the statement.\n",
    "4. Print out x, y and z value after swapping.\n",
    "\n",
    "**Sample output:** \n",
    "\n",
    "```\n",
    "10\n",
    "20\n",
    "30\n",
    "Before swapping, x = 10, y = 20, z = 30\n",
    "After swapping, x = 20, y = 30, z = 10\n",
    "```"
   ]
  },
  {
   "cell_type": "code",
   "execution_count": null,
   "metadata": {},
   "outputs": [],
   "source": []
  }
 ],
 "metadata": {
  "kernelspec": {
   "display_name": "Python 3",
   "language": "python",
   "name": "python3"
  },
  "language_info": {
   "codemirror_mode": {
    "name": "ipython",
    "version": 3
   },
   "file_extension": ".py",
   "mimetype": "text/x-python",
   "name": "python",
   "nbconvert_exporter": "python",
   "pygments_lexer": "ipython3",
   "version": "3.8.3"
  }
 },
 "nbformat": 4,
 "nbformat_minor": 2
}
