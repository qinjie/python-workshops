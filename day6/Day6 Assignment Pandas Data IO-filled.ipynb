{
 "cells": [
  {
   "cell_type": "markdown",
   "metadata": {},
   "source": [
    "# Assignment - Pandas Data IO"
   ]
  },
  {
   "cell_type": "markdown",
   "metadata": {},
   "source": [
    "Following files in `data` folder provide test 1 results of class 2.\n",
    "* class2_test1_english.tsv\n",
    "* class2_test1_math.tsv\n",
    "* class2_test1_science.tsv\n",
    "\n",
    "You can assume all text files contains same list of students sorted in ascending order.\n",
    "\n",
    "## 1. \n",
    "Load and save these data into an Excel file `class2_test1.xlsx`.\n",
    "* Save test 1 in sheet `test1`.\n",
    "* Worksheet contains columns `name`, `english`, `math` and `science`."
   ]
  },
  {
   "cell_type": "code",
   "execution_count": 13,
   "metadata": {},
   "outputs": [],
   "source": [
    "import pandas as pd\n",
    "\n",
    "df_e = pd.read_csv('data/class2_test1_english.tsv', sep='\\t')\n",
    "df_m = pd.read_csv('data/class2_test1_math.tsv', sep='\\t')\n",
    "df_s = pd.read_csv('data/class2_test1_science.tsv', sep='\\t')\n",
    "\n",
    "df = pd.DataFrame()\n",
    "df['name'] = df_e['name']\n",
    "df['english'] = df_e['mark']\n",
    "df['math'] = df_m['mark']\n",
    "df['science'] = df_s['mark']\n",
    "\n",
    "df.to_excel('class2_test1.xlsx', sheet_name='test1', index=False)"
   ]
  },
  {
   "cell_type": "code",
   "execution_count": 15,
   "metadata": {},
   "outputs": [
    {
     "name": "stdout",
     "output_type": "stream",
     "text": [
      "<class 'pandas.core.frame.DataFrame'>\n",
      "RangeIndex: 9 entries, 0 to 8\n",
      "Data columns (total 4 columns):\n",
      " #   Column   Non-Null Count  Dtype \n",
      "---  ------   --------------  ----- \n",
      " 0   name     9 non-null      object\n",
      " 1   english  9 non-null      int64 \n",
      " 2   math     9 non-null      int64 \n",
      " 3   science  9 non-null      int64 \n",
      "dtypes: int64(3), object(1)\n",
      "memory usage: 416.0+ bytes\n"
     ]
    }
   ],
   "source": [
    "df.info()"
   ]
  },
  {
   "cell_type": "markdown",
   "metadata": {},
   "source": [
    "## 2. \n",
    "Find the average marks of each subject for test 1."
   ]
  },
  {
   "cell_type": "code",
   "execution_count": 17,
   "metadata": {},
   "outputs": [
    {
     "data": {
      "text/plain": [
       "english    65.000000\n",
       "math       66.666667\n",
       "science    73.222222\n",
       "dtype: float64"
      ]
     },
     "execution_count": 17,
     "metadata": {},
     "output_type": "execute_result"
    }
   ],
   "source": [
    "m = df.mean()\n",
    "m"
   ]
  },
  {
   "cell_type": "markdown",
   "metadata": {},
   "source": [
    "## 3. \n",
    "\n",
    "Find students who have all subjects above average mark. "
   ]
  },
  {
   "cell_type": "code",
   "execution_count": 19,
   "metadata": {},
   "outputs": [
    {
     "data": {
      "text/html": [
       "<div>\n",
       "<style scoped>\n",
       "    .dataframe tbody tr th:only-of-type {\n",
       "        vertical-align: middle;\n",
       "    }\n",
       "\n",
       "    .dataframe tbody tr th {\n",
       "        vertical-align: top;\n",
       "    }\n",
       "\n",
       "    .dataframe thead th {\n",
       "        text-align: right;\n",
       "    }\n",
       "</style>\n",
       "<table border=\"1\" class=\"dataframe\">\n",
       "  <thead>\n",
       "    <tr style=\"text-align: right;\">\n",
       "      <th></th>\n",
       "      <th>name</th>\n",
       "      <th>english</th>\n",
       "      <th>math</th>\n",
       "      <th>science</th>\n",
       "    </tr>\n",
       "  </thead>\n",
       "  <tbody>\n",
       "    <tr>\n",
       "      <th>5</th>\n",
       "      <td>Feivel</td>\n",
       "      <td>81</td>\n",
       "      <td>92</td>\n",
       "      <td>95</td>\n",
       "    </tr>\n",
       "    <tr>\n",
       "      <th>8</th>\n",
       "      <td>Gerard</td>\n",
       "      <td>72</td>\n",
       "      <td>90</td>\n",
       "      <td>74</td>\n",
       "    </tr>\n",
       "  </tbody>\n",
       "</table>\n",
       "</div>"
      ],
      "text/plain": [
       "     name  english  math  science\n",
       "5  Feivel       81    92       95\n",
       "8  Gerard       72    90       74"
      ]
     },
     "execution_count": 19,
     "metadata": {},
     "output_type": "execute_result"
    }
   ],
   "source": [
    "f = (df['english'] > m['english']) & \\\n",
    "        (df['math'] > m['math']) & \\\n",
    "        (df['science'] > m['science'])\n",
    "\n",
    "df[f]"
   ]
  }
 ],
 "metadata": {
  "kernelspec": {
   "display_name": "Python 3",
   "language": "python",
   "name": "python3"
  },
  "language_info": {
   "codemirror_mode": {
    "name": "ipython",
    "version": 3
   },
   "file_extension": ".py",
   "mimetype": "text/x-python",
   "name": "python",
   "nbconvert_exporter": "python",
   "pygments_lexer": "ipython3",
   "version": "3.8.3"
  },
  "varInspector": {
   "cols": {
    "lenName": 16,
    "lenType": 16,
    "lenVar": 40
   },
   "kernels_config": {
    "python": {
     "delete_cmd_postfix": "",
     "delete_cmd_prefix": "del ",
     "library": "var_list.py",
     "varRefreshCmd": "print(var_dic_list())"
    },
    "r": {
     "delete_cmd_postfix": ") ",
     "delete_cmd_prefix": "rm(",
     "library": "var_list.r",
     "varRefreshCmd": "cat(var_dic_list()) "
    }
   },
   "types_to_exclude": [
    "module",
    "function",
    "builtin_function_or_method",
    "instance",
    "_Feature"
   ],
   "window_display": false
  }
 },
 "nbformat": 4,
 "nbformat_minor": 4
}
