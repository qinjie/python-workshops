{
 "cells": [
  {
   "cell_type": "markdown",
   "metadata": {
    "slideshow": {
     "slide_type": "slide"
    }
   },
   "source": [
    "# Assignment - Branching and Looping\n",
    "\n",
    "* Conditional statements\n",
    "* Loops\n",
    "* Iterating items from iterable objects"
   ]
  },
  {
   "cell_type": "markdown",
   "metadata": {
    "slideshow": {
     "slide_type": "slide"
    }
   },
   "source": [
    "## 1. Conditional Statements\n"
   ]
  },
  {
   "cell_type": "markdown",
   "metadata": {
    "slideshow": {
     "slide_type": "slide"
    }
   },
   "source": [
    "### Human Year to Dog Year\n",
    "\n",
    "The age of a dog could be computed as follow:\n",
    "-   For the first two human years, dog year is 10.5 times of human year\n",
    "-   For additional human year, dog year is 4 times of human year.\n",
    "\n",
    "Implement a function `human_year_to_dog()` which converts human years to dog years\n",
    "* return `None` if input is a negative value\n",
    "\n",
    "Write a script to:\n",
    "* ask user to input a human year value;\n",
    "* call the function to get the equivalent dog year;\n",
    "* display to the result in 1 decimal points\n",
    "* display **Error** if the value is `None`\n",
    "\n",
    "<u>Sample Output:</u>\n",
    "\n",
    "```Python\n",
    "Human Year: 2\n",
    "Dog Year: 21.0\n",
    "Human Year: 1.513\n",
    "Dog Year: 15.9\n",
    "Human Year: -2\n",
    "Error\n",
    "```"
   ]
  },
  {
   "cell_type": "code",
   "execution_count": null,
   "metadata": {
    "slideshow": {
     "slide_type": "skip"
    }
   },
   "outputs": [],
   "source": []
  },
  {
   "cell_type": "markdown",
   "metadata": {},
   "source": [
    "## 2. `while` Loop\n"
   ]
  },
  {
   "cell_type": "markdown",
   "metadata": {},
   "source": [
    "### Even Numbers Only\n",
    "\n",
    "Create a program which ask users to input even integers. Ignore the input if the number is not even. End the program after user entered 4 even numbers and display them. \n",
    "\n",
    "<u>Sample Output:</u>\n",
    "```\n",
    "Enter 4 even integers:\n",
    "10\n",
    "4\n",
    "5\n",
    "6\n",
    "8\n",
    "[10, 4, 6, 8]\n",
    "```"
   ]
  },
  {
   "cell_type": "code",
   "execution_count": null,
   "metadata": {},
   "outputs": [],
   "source": []
  },
  {
   "cell_type": "markdown",
   "metadata": {},
   "source": [
    "## 3. `for` Loop\n"
   ]
  },
  {
   "cell_type": "markdown",
   "metadata": {
    "slideshow": {
     "slide_type": "slide"
    }
   },
   "source": [
    "### Count Even and Odd Numbers\n",
    "\n",
    "Following code generates a list of random integers between 1 and 10 (both ends inclusive).\n",
    "\n",
    "```\n",
    "import random\n",
    "nums = [random.randint(1,10) for i in range(5)]\n",
    "print(nums)\n",
    "```\n",
    "\n",
    "Write a program which \n",
    "* generates 10 random integers between 1 and 100;\n",
    "* counts number of even and odd numbers in the list;\n",
    "* displays the result as show in Sample Output.\n",
    "\n",
    "<u>Sample Output:</u>\n",
    "\n",
    "```\n",
    "Random Numbers:  [18, 30, 26, 6, 83, 62, 18, 10, 32, 52]\n",
    "Odd = 1, Even = 9\n",
    "```"
   ]
  },
  {
   "cell_type": "code",
   "execution_count": null,
   "metadata": {
    "scrolled": true
   },
   "outputs": [],
   "source": []
  }
 ],
 "metadata": {
  "kernelspec": {
   "display_name": "Python 3",
   "language": "python",
   "name": "python3"
  },
  "language_info": {
   "codemirror_mode": {
    "name": "ipython",
    "version": 3
   },
   "file_extension": ".py",
   "mimetype": "text/x-python",
   "name": "python",
   "nbconvert_exporter": "python",
   "pygments_lexer": "ipython3",
   "version": "3.8.3"
  }
 },
 "nbformat": 4,
 "nbformat_minor": 2
}
