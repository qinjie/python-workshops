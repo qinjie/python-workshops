{
 "cells": [
  {
   "cell_type": "markdown",
   "metadata": {},
   "source": [
    "# Data Structure - Dictionary"
   ]
  },
  {
   "cell_type": "markdown",
   "metadata": {},
   "source": [
    "## 1. Dictionary\n",
    "\n",
    "Dictionary is a common feature of modern languages (often known as maps, associative arrays, or hashmaps) which let you associate pairs of values together.\n",
    "\n",
    "In Python, dictionaries are defined in **dict** data type.\n",
    "* It stores keys and their corresponding values.\n",
    "* Keys must be **unique** and **immutable**.\n",
    "* It is **mutable**, i.e. you can add and remove items from a dictionary.\n",
    "* It is **unordered**, i.e. items in a dictionary are not ordered."
   ]
  },
  {
   "cell_type": "markdown",
   "metadata": {},
   "source": [
    "### How to create a dictionary?\n",
    "\n",
    "Dictionary is created with listed of items surrounded by curly brackets **\"{ }\"**, and seperated by comma **\",\"**.\n",
    "\n",
    "* To create an empty dictionary, simple use **\"{}\"**\n",
    "* Key and value are separated by colon **\":\"**\n",
    "* Key needs to be immutable type, e.g. data type like scalar, string or tuple\n",
    "\n",
    "**Exercise:**"
   ]
  },
  {
   "cell_type": "code",
   "execution_count": 5,
   "metadata": {
    "slideshow": {
     "slide_type": ""
    }
   },
   "outputs": [
    {
     "name": "stdout",
     "output_type": "stream",
     "text": [
      "{'a': 'alpha', 'b': 123}\n"
     ]
    }
   ],
   "source": [
    "# empty dictionary\n",
    "d0 = {}\n",
    "\n",
    "# dictionary with mixed data type\n",
    "d1 = {'a': 'alpha', 'b': 123}\n",
    "print(d1)"
   ]
  },
  {
   "cell_type": "markdown",
   "metadata": {},
   "source": [
    "**Question:**\n",
    "\n",
    "Create a disctionary `fruits` which has following keys and values.\n",
    "\n",
    "| key | value    |\n",
    "|-----|----------|\n",
    "| a   | Apple    |\n",
    "| b   | Banana   |\n",
    "| c   | Cherries |"
   ]
  },
  {
   "cell_type": "code",
   "execution_count": 6,
   "metadata": {},
   "outputs": [
    {
     "data": {
      "text/plain": [
       "{'a': 'Apple', 'b': 'Banana', 'c': 'Cherries'}"
      ]
     },
     "execution_count": 6,
     "metadata": {},
     "output_type": "execute_result"
    }
   ],
   "source": [
    "fruits = {'a':'Apple', 'b':'Banana', 'c':'Cherries'}\n",
    "fruits"
   ]
  },
  {
   "cell_type": "markdown",
   "metadata": {},
   "source": [
    "## 2. Access Item(s)\n",
    "\n",
    "Items in dictionary can be accessed by their respective keys. \n",
    "* Key can be used either inside square brackets or with the **get()** method.\n",
    "* When using square brackets, it will throw a `KeyError` Exception if the key is not found."
   ]
  },
  {
   "cell_type": "markdown",
   "metadata": {},
   "source": [
    "**Exercise:**\n",
    "\n",
    "Print corresponding value in `fruits` for key `'b'`."
   ]
  },
  {
   "cell_type": "code",
   "execution_count": 11,
   "metadata": {},
   "outputs": [
    {
     "name": "stdout",
     "output_type": "stream",
     "text": [
      "Banana\n"
     ]
    }
   ],
   "source": [
    "print(fruits['b'])"
   ]
  },
  {
   "cell_type": "markdown",
   "metadata": {},
   "source": [
    "**Question:** What happens when you try to use a non-existence key, e.g. 'z'?"
   ]
  },
  {
   "cell_type": "code",
   "execution_count": 10,
   "metadata": {},
   "outputs": [
    {
     "ename": "KeyError",
     "evalue": "'z'",
     "output_type": "error",
     "traceback": [
      "\u001b[1;31m---------------------------------------------------------------------------\u001b[0m",
      "\u001b[1;31mKeyError\u001b[0m                                  Traceback (most recent call last)",
      "\u001b[1;32m<ipython-input-10-47aefa25407c>\u001b[0m in \u001b[0;36m<module>\u001b[1;34m\u001b[0m\n\u001b[1;32m----> 1\u001b[1;33m \u001b[0mprint\u001b[0m\u001b[1;33m(\u001b[0m\u001b[0mfruits\u001b[0m\u001b[1;33m[\u001b[0m\u001b[1;34m'z'\u001b[0m\u001b[1;33m]\u001b[0m\u001b[1;33m)\u001b[0m\u001b[1;33m\u001b[0m\u001b[1;33m\u001b[0m\u001b[0m\n\u001b[0m",
      "\u001b[1;31mKeyError\u001b[0m: 'z'"
     ]
    }
   ],
   "source": [
    "print(fruits['z'])"
   ]
  },
  {
   "cell_type": "markdown",
   "metadata": {},
   "source": [
    "### Use `get()`\n",
    "\n",
    "By using `get()` function, you can specify a default value to be returned if key is not found.\n",
    "\n",
    "Check out the documentation of `dict.get()` function."
   ]
  },
  {
   "cell_type": "code",
   "execution_count": 25,
   "metadata": {},
   "outputs": [],
   "source": [
    "dict.get?"
   ]
  },
  {
   "cell_type": "markdown",
   "metadata": {},
   "source": [
    "**Exercise:** \n",
    "\n",
    "Use `dict.get()` function to get item with key = `'z'`."
   ]
  },
  {
   "cell_type": "code",
   "execution_count": null,
   "metadata": {},
   "outputs": [],
   "source": [
    "fruits.get('z', 'Not Fruit Today')"
   ]
  },
  {
   "cell_type": "markdown",
   "metadata": {},
   "source": [
    "### Length\n",
    "\n",
    "To find the length of the list or the number of elements in a list, **len( )** is used.\n",
    "\n",
    "**Question:**\n",
    "* Find the lengh of `fruits` dictionary."
   ]
  },
  {
   "cell_type": "code",
   "execution_count": null,
   "metadata": {},
   "outputs": [],
   "source": [
    "len(fruits)"
   ]
  },
  {
   "cell_type": "markdown",
   "metadata": {},
   "source": [
    "### keys(), values(), items()\n",
    "\n",
    "* **keys()** return a new view of the dictionary's keys.\n",
    "* **values()** return a new view of the dictionary's values.\n",
    "* **items()** return a new view of the dictionary's items (key, value).\n",
    "\n",
    "**Exercise:** Print keys(), values(), and items() of fruits."
   ]
  },
  {
   "cell_type": "code",
   "execution_count": 13,
   "metadata": {},
   "outputs": [
    {
     "name": "stdout",
     "output_type": "stream",
     "text": [
      "dict_keys(['a', 'b', 'c'])\n",
      "dict_values(['Apple', 'Banana', 'Cherries'])\n",
      "dict_items([('a', 'Apple'), ('b', 'Banana'), ('c', 'Cherries')])\n"
     ]
    }
   ],
   "source": [
    "print(fruits.keys())\n",
    "print(fruits.values())\n",
    "print(fruits.items())"
   ]
  },
  {
   "cell_type": "markdown",
   "metadata": {},
   "source": [
    "## 3. Working with Dictionary"
   ]
  },
  {
   "cell_type": "markdown",
   "metadata": {},
   "source": [
    "Dictionary is mutable. We can add new items or change the value of existing items using assignment operator.\n",
    "\n",
    "* If the key exists in the dictionary, existing value will be updated. \n",
    "* If the key doesn't exists in the dictioinary, new key:value pair is added to dictionary."
   ]
  },
  {
   "cell_type": "markdown",
   "metadata": {},
   "source": [
    "### Copy a Dictionary\n",
    "\n",
    "Since a dictionary is immutable, we cannot use assignment statement `=` to copy an dictionary. Use one of following ways instead.\n",
    "* Use its `copy()` function.\n",
    "* Use `dict()` constructor function."
   ]
  },
  {
   "cell_type": "code",
   "execution_count": 15,
   "metadata": {},
   "outputs": [
    {
     "name": "stdout",
     "output_type": "stream",
     "text": [
      "False\n",
      "{'a': 'Apple', 'b': 'Banana', 'c': 'Cherries'}\n"
     ]
    }
   ],
   "source": [
    "f1 = fruits.copy()\n",
    "print(f1 is fruits)\n",
    "print(f1)"
   ]
  },
  {
   "cell_type": "markdown",
   "metadata": {},
   "source": [
    "### Update an Item\n",
    "\n",
    "* Create a dictionary `mixed` by copying `fruits` object.\n",
    "* Update its key `a` value to `['Apple', 'Avocado']`"
   ]
  },
  {
   "cell_type": "code",
   "execution_count": 27,
   "metadata": {},
   "outputs": [
    {
     "name": "stdout",
     "output_type": "stream",
     "text": [
      "{'a': ['Apple', 'Avocado'], 'b': 'Banana', 'c': 'Cherries', 'f': 'Fig'}\n"
     ]
    }
   ],
   "source": [
    "mixed = dict(fruits)\n",
    "mixed['a'] = ['Apple', 'Avocado']\n",
    "print(mixed)"
   ]
  },
  {
   "cell_type": "markdown",
   "metadata": {},
   "source": [
    "### Add an Item\n",
    "\n",
    "* Add another key-value pair `{'f':'Fig'}` to `fruits` object"
   ]
  },
  {
   "cell_type": "code",
   "execution_count": 21,
   "metadata": {},
   "outputs": [
    {
     "name": "stdout",
     "output_type": "stream",
     "text": [
      "{'a': 'Apple', 'b': 'Banana', 'c': 'Cherries', 'f': 'Fig'}\n"
     ]
    }
   ],
   "source": [
    "fruits['f']='Fig'\n",
    "print(fruits)"
   ]
  },
  {
   "cell_type": "markdown",
   "metadata": {},
   "source": [
    "### Merge Dictionaries\n",
    "\n",
    "**update()** method is used to merge items from another dictionary.\n",
    "* Adds element(s) to the dictionary if the key is not in the dictionary.\n",
    "* If the key is in the dictionary, it updates the key with the new value.\n",
    "\n",
    "**Question:**\n",
    "* Create a dictionary `f1` by copying `fruits` object\n",
    "* Create another dictionary `f3` with items `{'d':'Dates', 'e':'Eldercherry', 'f':'Fig', 'g':'Grape'}`\n",
    "* Add/update items from `f3` to `f2`"
   ]
  },
  {
   "cell_type": "code",
   "execution_count": 25,
   "metadata": {},
   "outputs": [
    {
     "name": "stdout",
     "output_type": "stream",
     "text": [
      "{'a': 'Apple', 'b': 'Banana', 'c': 'Cherries', 'f': 'Fig'}\n",
      "{'a': 'avacado', 'b': 'Banana', 'c': 'Cherries', 'f': 'Fig', 'd': 'Durian'}\n"
     ]
    }
   ],
   "source": [
    "f2 = fruits.copy()\n",
    "print(f2)\n",
    "\n",
    "f3 = {'a': 'avacado', 'd':'Durian', 'f':'Fig'}\n",
    "f2.update(f3)\n",
    "print(f2)"
   ]
  },
  {
   "cell_type": "markdown",
   "metadata": {},
   "source": [
    "### Remove an Item\n",
    "\n",
    "#### pop()\n",
    "* It is used to remove an item by key and returns the value.\n",
    "* It throws exception if key is not found."
   ]
  },
  {
   "cell_type": "code",
   "execution_count": 40,
   "metadata": {},
   "outputs": [
    {
     "name": "stdout",
     "output_type": "stream",
     "text": [
      "Cherries\n",
      "{'a': 'Apple', 'b': 'Banana', 'd': 'Durian'}\n"
     ]
    }
   ],
   "source": [
    "mixed = dict(fruits)\n",
    "val = mixed.pop('c')\n",
    "print(val)\n",
    "print(mixed)"
   ]
  },
  {
   "cell_type": "markdown",
   "metadata": {},
   "source": [
    "## 4. Membership Test\n",
    "\n",
    "We can use **`in`** statement to check membership of a **key** in a dictionary.\n",
    "\n",
    "**Question:**\n",
    "\n",
    "* Check whether key `a` and `z` are in the `fruits` dictionary."
   ]
  },
  {
   "cell_type": "code",
   "execution_count": 26,
   "metadata": {},
   "outputs": [
    {
     "name": "stdout",
     "output_type": "stream",
     "text": [
      "True False\n"
     ]
    }
   ],
   "source": [
    "print('a' in fruits, 'z' in fruits)"
   ]
  },
  {
   "cell_type": "markdown",
   "metadata": {},
   "source": [
    "**Question:**\n",
    "* How to test if a value `Apple` is in a dictionary?\n",
    "* How to test if a key-value pair `{'a':'Apple'}` is in the dictionary?"
   ]
  },
  {
   "cell_type": "code",
   "execution_count": 31,
   "metadata": {},
   "outputs": [
    {
     "name": "stdout",
     "output_type": "stream",
     "text": [
      "{'a': 'Apple', 'b': 'Banana', 'c': 'Cherries', 'd': 'Durian'}\n",
      "True\n",
      "True\n",
      "False\n"
     ]
    }
   ],
   "source": [
    "print(fruits)\n",
    "print('Apple' in fruits.values())\n",
    "print(('a', 'Apple') in fruits.items())"
   ]
  },
  {
   "cell_type": "markdown",
   "metadata": {},
   "source": [
    "**Question:**\n",
    "\n",
    "In a dictionary, how to find key by matching its value?"
   ]
  },
  {
   "cell_type": "code",
   "execution_count": 38,
   "metadata": {},
   "outputs": [
    {
     "name": "stdout",
     "output_type": "stream",
     "text": [
      "b\n"
     ]
    }
   ],
   "source": [
    "for k,v in fruits.items():\n",
    "    if v == 'Banana':\n",
    "        print(k)\n",
    "        break"
   ]
  }
 ],
 "metadata": {
  "kernelspec": {
   "display_name": "Python 3",
   "language": "python",
   "name": "python3"
  },
  "language_info": {
   "codemirror_mode": {
    "name": "ipython",
    "version": 3
   },
   "file_extension": ".py",
   "mimetype": "text/x-python",
   "name": "python",
   "nbconvert_exporter": "python",
   "pygments_lexer": "ipython3",
   "version": "3.8.3"
  }
 },
 "nbformat": 4,
 "nbformat_minor": 2
}
