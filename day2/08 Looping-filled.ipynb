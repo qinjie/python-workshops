{
 "cells": [
  {
   "cell_type": "markdown",
   "metadata": {
    "slideshow": {
     "slide_type": "slide"
    }
   },
   "source": [
    "# Looping\n",
    "\n",
    "* For-Loops\n",
    "* While-loops"
   ]
  },
  {
   "cell_type": "markdown",
   "metadata": {},
   "source": [
    "## 1. While-Loop\n",
    "\n",
    "Python provides several constructs to repeatedly executes block of statements so long as some conditions remain true.\n",
    "* **`while`** loop\n",
    "* **`for`** loop"
   ]
  },
  {
   "cell_type": "markdown",
   "metadata": {},
   "source": [
    "### 1.1 While-Loop\n",
    "\n",
    "As long as `condition` remains `True`, `statement` will be executed repeatedly, i.e. in infinite loop. \n",
    "* It is important that the condition will eventually become `False`\n",
    "* The statement may not execute at all if condition is `False`\n",
    "\n",
    "```Python\n",
    "while <condition>:\n",
    "    <statement>\n",
    "    <update-condition>\n",
    "```\n",
    "\n",
    "**Exercise:**\n",
    "\n",
    "Use while-loop to print out `0 1 2 3 end`."
   ]
  },
  {
   "cell_type": "code",
   "execution_count": 2,
   "metadata": {},
   "outputs": [
    {
     "name": "stdout",
     "output_type": "stream",
     "text": [
      "0 1 2 end\n"
     ]
    }
   ],
   "source": [
    "i = 0\n",
    "while i < 3:\n",
    "    print(i, end=' ')\n",
    "    i = i + 1\n",
    "\n",
    "print('end')"
   ]
  },
  {
   "cell_type": "markdown",
   "metadata": {},
   "source": [
    "**Exercise:**\n",
    "\n",
    "Sum up all values in a list `data = [1,2,3,4]` using `while-loop`. \n",
    "* Use result to print out message `Sum of [1, 2, 3, 4] = 10`."
   ]
  },
  {
   "cell_type": "code",
   "execution_count": 2,
   "metadata": {},
   "outputs": [
    {
     "name": "stdout",
     "output_type": "stream",
     "text": [
      "Sum of [1, 2, 3, 4] = 10\n"
     ]
    }
   ],
   "source": [
    "# Sum all the items in the list\n",
    "data = [1,2,3,4]\n",
    "result = 0\n",
    "\n",
    "i = 0\n",
    "while i < len(data):\n",
    "    result += data[i] \n",
    "    i += 1\n",
    "\n",
    "print('Sum of {} = {}'.format(data, result))"
   ]
  },
  {
   "cell_type": "markdown",
   "metadata": {},
   "source": [
    "### 1.2 Break from Loop\n",
    "\n",
    "If we set the `condition` to `True`, the while-loop becomes a infinite loop.\n",
    "\n",
    "```python\n",
    "while True:\n",
    "    <statement_1>\n",
    "```"
   ]
  },
  {
   "cell_type": "markdown",
   "metadata": {},
   "source": [
    "To break out from a while-loop, use `break` clause. It is commonly used together with an `if` statement.   \n",
    "* If `condition` is `True`, execution will break from the while loop and `statement_2` will not be executed.\n",
    "\n",
    "```Python\n",
    "while True:\n",
    "    <statement_1>\n",
    "    if <condition>:\n",
    "        break\n",
    "    <statement_2>\n",
    "```"
   ]
  },
  {
   "cell_type": "markdown",
   "metadata": {},
   "source": [
    "**Exercise:**\n",
    "\n",
    "Use `while True` and `break` to print out `0 1 2 3 end`."
   ]
  },
  {
   "cell_type": "code",
   "execution_count": 4,
   "metadata": {},
   "outputs": [
    {
     "name": "stdout",
     "output_type": "stream",
     "text": [
      "0 1 2 3 end\n"
     ]
    }
   ],
   "source": [
    "i = 0\n",
    "while True:\n",
    "    print(i, end=' ')\n",
    "    if i>=3:\n",
    "        break\n",
    "    i = i + 1\n",
    "\n",
    "print('end')"
   ]
  },
  {
   "cell_type": "markdown",
   "metadata": {},
   "source": [
    "### 1.3 Skip An Iteration\n",
    "\n",
    "While in the loop, you can use `continue` clause to skip current iteration and continue to the next iteration.\n",
    "\n",
    "```Python\n",
    "while <condition_1>:\n",
    "    <statement_1>\n",
    "    if <condition_2>:\n",
    "        continue # Skip current iteration\n",
    "    <statement_2>\n",
    "```"
   ]
  },
  {
   "cell_type": "code",
   "execution_count": 5,
   "metadata": {},
   "outputs": [
    {
     "name": "stdout",
     "output_type": "stream",
     "text": [
      "1 3 5 7 9 "
     ]
    }
   ],
   "source": [
    "i = 0\n",
    "while i < 10:\n",
    "    i = i + 1\n",
    "    if i % 2 == 0:\n",
    "        continue\n",
    "    print(i, end = ' ')"
   ]
  },
  {
   "cell_type": "markdown",
   "metadata": {},
   "source": [
    "## 2. For-Loop\n",
    "\n",
    "A `for` loop provides a mean to perform actions for all items in an iterables.  \n",
    "\n",
    "Iterables can be strings, tuples, lists, dictionaries, ranges, etc.\n",
    "\n",
    "```Python\n",
    "for <item> in <iterable>:\n",
    "    statement\n",
    "```"
   ]
  },
  {
   "cell_type": "code",
   "execution_count": 7,
   "metadata": {},
   "outputs": [
    {
     "name": "stdout",
     "output_type": "stream",
     "text": [
      "1 2 3 "
     ]
    }
   ],
   "source": [
    "for x in [1,2,3]:\n",
    "    print(x, end=' ')"
   ]
  },
  {
   "cell_type": "markdown",
   "metadata": {},
   "source": [
    "Loops can be nested together.\n",
    "\n",
    "```python\n",
    "for <item> in <iterable>:\n",
    "    for <item> in <iterable>:\n",
    "        <statement>\n",
    "```\n",
    "\n",
    "**Exercise:**\n",
    "\n",
    "Use nested loop to print nested list `num = [[1,2,3],[4,5,6,7],[8,9]]`.\n",
    "\n",
    "<u>Output:</u>\n",
    "```\n",
    "1 2 3 \n",
    "4 5 6 7 \n",
    "8 9 \n",
    "```"
   ]
  },
  {
   "cell_type": "code",
   "execution_count": 8,
   "metadata": {},
   "outputs": [
    {
     "name": "stdout",
     "output_type": "stream",
     "text": [
      "1 2 3 \n",
      "4 5 6 7 \n",
      "8 9 \n"
     ]
    }
   ],
   "source": [
    "num = [[1,2,3],[4,5,6,7],[8,9]]\n",
    "\n",
    "for x in num:\n",
    "    for y in x:\n",
    "        print(y, end=' ')\n",
    "    print()"
   ]
  },
  {
   "cell_type": "markdown",
   "metadata": {},
   "source": [
    "### 2.1 Function `range()`\n",
    "\n",
    "The `range()` function is used to generate a sequence of numbers. It takes in parameter `start`, `stop` and `step`\n",
    "\n",
    "```python\n",
    "range([start,] stop [, step]) -> range object\n",
    "```\n",
    "\n",
    "* The `start` parameter is optional, with default value = 0\n",
    "* The `stop` value is an exclusive bound\n",
    "* The `step` parameter is optional, with default value = 1"
   ]
  },
  {
   "cell_type": "markdown",
   "metadata": {},
   "source": [
    "`range(5)` generates numbers `[0, 1, 2, 3, 4]`. \n",
    "\n",
    "A `range` object can be converted to `list` object using `list()`."
   ]
  },
  {
   "cell_type": "markdown",
   "metadata": {},
   "source": [
    "**Exercise:**\n",
    "\n",
    "Generate a list of integer numbers between 5 and 9."
   ]
  },
  {
   "cell_type": "code",
   "execution_count": 10,
   "metadata": {},
   "outputs": [
    {
     "data": {
      "text/plain": [
       "[5, 6, 7, 8, 9]"
      ]
     },
     "execution_count": 10,
     "metadata": {},
     "output_type": "execute_result"
    }
   ],
   "source": [
    "list(range(5,10))"
   ]
  },
  {
   "cell_type": "markdown",
   "metadata": {},
   "source": [
    "### 2.2 Use `range()` in For Loop\n",
    "\n",
    "For-loop automatically convert `range` object to `iterable` object, and iterate through its elements."
   ]
  },
  {
   "cell_type": "code",
   "execution_count": 12,
   "metadata": {},
   "outputs": [
    {
     "name": "stdout",
     "output_type": "stream",
     "text": [
      "0 1 2 3 4 "
     ]
    }
   ],
   "source": [
    "for i in range(5):\n",
    "    print(i, end=' ')"
   ]
  },
  {
   "cell_type": "markdown",
   "metadata": {},
   "source": [
    "### 2.3 Break from Loop \n",
    "\n",
    "The same `break` clause can be used to break out of `for` loop.  \n",
    "\n",
    "```Python\n",
    "for <item> in <iterable>:\n",
    "    statements\n",
    "    if <condition>:\n",
    "        break  # Break the iteration\n",
    "    statements\n",
    "```"
   ]
  },
  {
   "cell_type": "markdown",
   "metadata": {},
   "source": [
    "**Exercise:**\n",
    "\n",
    "Find first integer can be divided by 2, 3 and 5."
   ]
  },
  {
   "cell_type": "code",
   "execution_count": 13,
   "metadata": {},
   "outputs": [
    {
     "name": "stdout",
     "output_type": "stream",
     "text": [
      "30\n"
     ]
    }
   ],
   "source": [
    "for i in range(1,100):\n",
    "    if i%2==0 and i%3==0 and i%5==0:\n",
    "        break\n",
    "print(i)"
   ]
  },
  {
   "cell_type": "markdown",
   "metadata": {},
   "source": [
    "**Exercise:**\n",
    "\n",
    "Use nested-for loop to print following patterns.\n",
    "```\n",
    "1 \n",
    "1 2 \n",
    "1 2 3 \n",
    "1 2 3 4 \n",
    "1 2 3 4 5 \n",
    "1 2 3 4 5 6 \n",
    "1 2 3 4 5 6 7 \n",
    "1 2 3 4 5 6 7 8 \n",
    "1 2 3 4 5 6 7 8 9 \n",
    "```"
   ]
  },
  {
   "cell_type": "code",
   "execution_count": 14,
   "metadata": {
    "scrolled": true
   },
   "outputs": [
    {
     "name": "stdout",
     "output_type": "stream",
     "text": [
      "1 \n",
      "1 2 \n",
      "1 2 3 \n",
      "1 2 3 4 \n",
      "1 2 3 4 5 \n",
      "1 2 3 4 5 6 \n",
      "1 2 3 4 5 6 7 \n",
      "1 2 3 4 5 6 7 8 \n",
      "1 2 3 4 5 6 7 8 9 \n"
     ]
    }
   ],
   "source": [
    "for x in range(1, 10):\n",
    "    for y in range(1, 10):\n",
    "        print(y, end=' ')\n",
    "        if(y>=x):\n",
    "            break\n",
    "    print()"
   ]
  },
  {
   "cell_type": "markdown",
   "metadata": {},
   "source": [
    "### 2.4 Skip an Iteration\n",
    "\n",
    "Use `continue` clause to terminate current iteration and continue to the next iteration of the loop.\n",
    "\n",
    "```Python\n",
    "for <item> in <iterable>:\n",
    "    statements\n",
    "    if <condition>:\n",
    "        continue  # Skip current iteration\n",
    "    statements\n",
    "```"
   ]
  },
  {
   "cell_type": "markdown",
   "metadata": {},
   "source": [
    "**Exercise:**\n",
    "\n",
    "Print all numbers between 1 and 99 which can be divided by 2, 3 and 5. "
   ]
  },
  {
   "cell_type": "code",
   "execution_count": 15,
   "metadata": {},
   "outputs": [
    {
     "name": "stdout",
     "output_type": "stream",
     "text": [
      "30 60 90 "
     ]
    }
   ],
   "source": [
    "for i in range(1, 100):\n",
    "    if i%2!=0 or i%3!=0 or i%5!=0:\n",
    "        continue\n",
    "    print(i, end=' ')"
   ]
  }
 ],
 "metadata": {
  "kernelspec": {
   "display_name": "Python 3",
   "language": "python",
   "name": "python3"
  },
  "language_info": {
   "codemirror_mode": {
    "name": "ipython",
    "version": 3
   },
   "file_extension": ".py",
   "mimetype": "text/x-python",
   "name": "python",
   "nbconvert_exporter": "python",
   "pygments_lexer": "ipython3",
   "version": "3.8.3"
  }
 },
 "nbformat": 4,
 "nbformat_minor": 2
}
