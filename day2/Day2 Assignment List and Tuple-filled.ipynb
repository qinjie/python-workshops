{
 "cells": [
  {
   "cell_type": "markdown",
   "metadata": {
    "slideshow": {
     "slide_type": "slide"
    }
   },
   "source": [
    "# Assignment - List and Tuple"
   ]
  },
  {
   "cell_type": "markdown",
   "metadata": {
    "slideshow": {
     "slide_type": "slide"
    }
   },
   "source": [
    "## 1. Heights Statistics\n",
    "\n",
    "1. Ask user to input the heights value (in centimeter) of 5 students. The entered values are integer.  \n",
    "2. Display lowest, highest, and average height value of these 5 students. \n",
    "\n",
    "**Sample output:**\n",
    "```\n",
    "Number of heights to be entered: 4\n",
    "100\n",
    "120\n",
    "110\n",
    "130\n",
    "[100, 120, 110, 130]\n",
    "min = 100, max = 130, average = 115.0\n",
    "```"
   ]
  },
  {
   "cell_type": "code",
   "execution_count": 1,
   "metadata": {},
   "outputs": [
    {
     "name": "stdout",
     "output_type": "stream",
     "text": [
      "Enter heights for 5 students: \n",
      "100\n",
      "120\n",
      "130\n",
      "110\n",
      "100\n",
      "[100, 120, 130, 110, 100]\n",
      "min = 100, max= 130, average = 112.0\n"
     ]
    }
   ],
   "source": [
    "result = []\n",
    "\n",
    "print('Enter heights for 5 students: ')\n",
    "while len(result) < 5:\n",
    "    h = int(input())\n",
    "    result.append(h)\n",
    "\n",
    "print(result)\n",
    "print(f'min = { min(result) }, max= { max(result) }, average = { sum(result) / len(result) }')"
   ]
  },
  {
   "cell_type": "markdown",
   "metadata": {
    "slideshow": {
     "slide_type": "slide"
    }
   },
   "source": [
    "## 2. Swapping of Values\n",
    "\n",
    "1. Ask user to input 3 integer values, x, y and z one by one.\n",
    "2. Print out x, y and z value before swapping\n",
    "3. Write an one-line statement to swap values so that x will hold value of y, y will hold value of z, and z will hold value of x after running the statement.\n",
    "4. Print out x, y and z value after swapping.\n",
    "\n",
    "**Sample output:** \n",
    "\n",
    "```\n",
    "10\n",
    "20\n",
    "30\n",
    "Before swapping, x = 10, y = 20, z = 30\n",
    "After swapping, x = 20, y = 30, z = 10\n",
    "```"
   ]
  },
  {
   "cell_type": "code",
   "execution_count": 1,
   "metadata": {},
   "outputs": [
    {
     "name": "stdout",
     "output_type": "stream",
     "text": [
      "Enter 3 integers:\n",
      "10\n",
      "20\n",
      "30\n",
      "Before swapping, x = 10, y = 20, z = 30\n",
      "After swapping, x = 20, y = 30, z = 10\n"
     ]
    }
   ],
   "source": [
    "print('Enter 3 integers:')\n",
    "x = input()\n",
    "y = input()\n",
    "z = input()\n",
    "\n",
    "print(f'Before swapping, x = {x}, y = {y}, z = {z}')\n",
    "\n",
    "x, y, z = y, z, x\n",
    "\n",
    "print(f'After swapping, x = {x}, y = {y}, z = {z}')"
   ]
  }
 ],
 "metadata": {
  "kernelspec": {
   "display_name": "Python 3",
   "language": "python",
   "name": "python3"
  },
  "language_info": {
   "codemirror_mode": {
    "name": "ipython",
    "version": 3
   },
   "file_extension": ".py",
   "mimetype": "text/x-python",
   "name": "python",
   "nbconvert_exporter": "python",
   "pygments_lexer": "ipython3",
   "version": "3.8.3"
  }
 },
 "nbformat": 4,
 "nbformat_minor": 2
}
