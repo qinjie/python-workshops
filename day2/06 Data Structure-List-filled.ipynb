{
 "cells": [
  {
   "cell_type": "markdown",
   "metadata": {},
   "source": [
    "# Data Structure - List\n",
    "\n",
    "**Objectives:**\n",
    "* List Basics\n",
    "* List Indexing\n",
    "* List Slicing\n",
    "* Working with List\n",
    "* Modifying List"
   ]
  },
  {
   "cell_type": "markdown",
   "metadata": {},
   "source": [
    "## 1. List Basics\n",
    "\n",
    "**Lists** are the most commonly used data structure in Python. \n",
    "\n",
    "* It is a **mutable** collection, i.e. its items can be added and removed.\n",
    "* Each of these data can be accessed by calling it's index value."
   ]
  },
  {
   "cell_type": "markdown",
   "metadata": {},
   "source": [
    "Lists are declared/created by just equating a variable to `[ ]` or list."
   ]
  },
  {
   "cell_type": "code",
   "execution_count": 10,
   "metadata": {},
   "outputs": [
    {
     "name": "stdout",
     "output_type": "stream",
     "text": [
      "<class 'list'>\n"
     ]
    }
   ],
   "source": [
    "s1 = []\n",
    "print(type(s1))"
   ]
  },
  {
   "cell_type": "markdown",
   "metadata": {},
   "source": [
    "Items in the list are seperated by comma `,`."
   ]
  },
  {
   "cell_type": "code",
   "execution_count": 4,
   "metadata": {},
   "outputs": [
    {
     "data": {
      "text/plain": [
       "[1, 2, 3, 4]"
      ]
     },
     "execution_count": 4,
     "metadata": {},
     "output_type": "execute_result"
    }
   ],
   "source": [
    "nums = [1,2,3,4]\n",
    "nums"
   ]
  },
  {
   "cell_type": "markdown",
   "metadata": {},
   "source": [
    "Length of the list can be found by built-in function `len()`. "
   ]
  },
  {
   "cell_type": "code",
   "execution_count": 9,
   "metadata": {},
   "outputs": [
    {
     "data": {
      "text/plain": [
       "4"
      ]
     },
     "execution_count": 9,
     "metadata": {},
     "output_type": "execute_result"
    }
   ],
   "source": [
    "len(nums)"
   ]
  },
  {
   "cell_type": "markdown",
   "metadata": {},
   "source": [
    "### Mixed Data Type\n",
    "\n",
    "List is able to hold elements of mixed data types, although this is not commonly used."
   ]
  },
  {
   "cell_type": "code",
   "execution_count": 11,
   "metadata": {},
   "outputs": [
    {
     "data": {
      "text/plain": [
       "['apple', 3, 5.0, True]"
      ]
     },
     "execution_count": 11,
     "metadata": {},
     "output_type": "execute_result"
    }
   ],
   "source": [
    "mixed = ['apple', 1, 2.3, True]\n",
    "mixed"
   ]
  },
  {
   "cell_type": "markdown",
   "metadata": {},
   "source": [
    "### Nested List\n",
    "\n",
    "List can also have lists as its element, which creates a nested list."
   ]
  },
  {
   "cell_type": "code",
   "execution_count": 13,
   "metadata": {},
   "outputs": [
    {
     "data": {
      "text/plain": [
       "[[10, 11, 12, 13], [20, 21, 22, 23]]"
      ]
     },
     "execution_count": 13,
     "metadata": {},
     "output_type": "execute_result"
    }
   ],
   "source": [
    "Y = [ [10, 11, 12, 13], [20, 21, 22, 23]]\n",
    "Y"
   ]
  },
  {
   "cell_type": "markdown",
   "metadata": {},
   "source": [
    "**Question:** What's the size of above nested list?"
   ]
  },
  {
   "cell_type": "markdown",
   "metadata": {},
   "source": [
    "## 2. How to access an item in list? Indexing\n",
    "\n",
    "Items in collection can be accessed by their indexes. Python uses zero-based indexing, i.e. index <u>starts from 0</u>."
   ]
  },
  {
   "cell_type": "code",
   "execution_count": 16,
   "metadata": {},
   "outputs": [
    {
     "name": "stdout",
     "output_type": "stream",
     "text": [
      "a b\n"
     ]
    }
   ],
   "source": [
    "s = ['a', 'b', 'c', 'd']\n",
    "print(s[0], s[1])"
   ]
  },
  {
   "cell_type": "markdown",
   "metadata": {},
   "source": [
    "### Negative Indexing\n",
    "\n",
    "Indexing can also be done in reverse order, where the last element has an index of -1, and second last element has index of -2.\n",
    "\n",
    "<img src=\"./images/list-indexing.png\" alt=\"Set Venn Diagram\" style=\"width: 350px;\"/>"
   ]
  },
  {
   "cell_type": "code",
   "execution_count": 17,
   "metadata": {},
   "outputs": [
    {
     "name": "stdout",
     "output_type": "stream",
     "text": [
      "['a', 'b', 'c', 'd']\n",
      "d c\n"
     ]
    }
   ],
   "source": [
    "print(s)\n",
    "print(s[-1], s[-2])"
   ]
  },
  {
   "cell_type": "markdown",
   "metadata": {},
   "source": [
    "### Multi-level Indexing\n",
    "\n",
    "For nested list, we can access items by multi-level indexing. Each level of the index always starts from 0.\n",
    "\n",
    "<span style=\"background-color:#ffffba;text-decoration:underline;\">Exercise:</span>\n",
    "In a nested-list `[[10, 11, 12, 13], [20, 21, 22, 23]]`, access its 1st element in 1st sub-list, and 2nd element in 2nd sub-list."
   ]
  },
  {
   "cell_type": "code",
   "execution_count": 19,
   "metadata": {},
   "outputs": [
    {
     "name": "stdout",
     "output_type": "stream",
     "text": [
      "10 21\n"
     ]
    }
   ],
   "source": [
    "nested = [[10, 11, 12, 13], [20, 21, 22, 23]]\n",
    "print(nested[0][0], nested[1][1])"
   ]
  },
  {
   "cell_type": "markdown",
   "metadata": {},
   "source": [
    "#### Question: \n",
    "\n",
    "How do you access element `Blackcurrant` in following list?\n",
    "```\n",
    "nested_fruits = [\n",
    "    ['Apple', 'Apricots', 'Avocado'], \n",
    "    ['Banana', 'Blackcurrant', 'Blueberries'],\n",
    "    ['Cherries', 'Cranberries', 'Custard-Apple']]\n",
    "# YOUR CODE HERE\n",
    "```"
   ]
  },
  {
   "cell_type": "code",
   "execution_count": 20,
   "metadata": {
    "tags": [
     "hide-cell"
    ]
   },
   "outputs": [
    {
     "name": "stdout",
     "output_type": "stream",
     "text": [
      "['Banana', 'Blackcurrant', 'Blueberries']\n",
      "Blackcurrant\n"
     ]
    }
   ],
   "source": [
    "nested_fruits = [\n",
    "    ['Apple', 'Apricots', 'Avocado'], \n",
    "    ['Banana', 'Blackcurrant', 'Blueberries'],\n",
    "    ['Cherries', 'Cranberries', 'Custard-Apple']]\n",
    "print(nested_fruits[1])\n",
    "print(nested_fruits[1][1])"
   ]
  },
  {
   "cell_type": "markdown",
   "metadata": {},
   "source": [
    "## 3. How to access subset of items? Slicing\n",
    "\n",
    "**Indexing** was only limited to accessing a single element.\n",
    "**Slicing** on the other hand is accessing a sequence of data inside the list. \n",
    "\n",
    "**Slicing** is done by defining the index values of the `first element` and the `last element` from the parent list that is required in the sliced list. \n",
    "\n",
    "```\n",
    "sub = num[a : b]\n",
    "sub = num[a : ]\n",
    "sub = num[: b]\n",
    "sub = num[:]\n",
    "```\n",
    " \n",
    "* if both `a` and `b` are specified, `a` is the first index, `b` is the **last index + 1**.\n",
    "* if `b` is omitted, it will slice till last element.\n",
    "* if `a` is omitted, it will starts from first element.\n",
    "* if neither `a` or `b` is specified, it is effectively copy the whole list\n",
    "\n",
    "**Note: the upper bound index is NOT inclusive!**"
   ]
  },
  {
   "cell_type": "markdown",
   "metadata": {},
   "source": [
    "**Example:**\n",
    "\n",
    "* Create a list contain number 0-9\n",
    "* Print 3rd to 5th items\n",
    "* Print all items at and after 6th position\n",
    "* Print first 5 items"
   ]
  },
  {
   "cell_type": "code",
   "execution_count": 22,
   "metadata": {},
   "outputs": [
    {
     "name": "stdout",
     "output_type": "stream",
     "text": [
      "[0, 1, 2, 3, 4, 5, 6, 7, 8, 9]\n",
      "[2, 3, 4]\n",
      "[5, 6, 7, 8, 9]\n",
      "[0, 1, 2, 3, 4]\n"
     ]
    }
   ],
   "source": [
    "num = list(range(10))\n",
    "print(num)\n",
    "print(num[2:5])\n",
    "print(num[5:])\n",
    "print(num[:5])"
   ]
  },
  {
   "cell_type": "markdown",
   "metadata": {},
   "source": [
    "<span style=\"background-color:#ffffba;text-decoration:underline;\">Exercise:</span>\n",
    "\n",
    "The `num` is a list of integers from 0 to 9, split the list into 2 equal size sub list, `sub1` and `sub2`."
   ]
  },
  {
   "cell_type": "code",
   "execution_count": 23,
   "metadata": {
    "tags": [
     "hide-cell"
    ]
   },
   "outputs": [
    {
     "name": "stdout",
     "output_type": "stream",
     "text": [
      "5\n",
      "[0, 1, 2, 3, 4] [5, 6, 7, 8, 9]\n"
     ]
    }
   ],
   "source": [
    "num = list(range(10))\n",
    "n = len(num) // 2\n",
    "print(n)\n",
    "sub1 = num[:n]\n",
    "sub2 = num[n:]\n",
    "print(sub1, sub2)"
   ]
  },
  {
   "cell_type": "markdown",
   "metadata": {},
   "source": [
    "### Slice with Negative Index\n",
    "\n",
    "Remember list items can be accessed using `negative index`. Same technique can be applied for slicing too. \n",
    "\n",
    "<span style=\"background-color:#ffffba;text-decoration:underline;\">**Exercise:**</span>\n",
    "For a list with integer 0-9, \n",
    "* How to get last 3 items from a list?\n",
    "* How to ignore last 3 items from a list?\n",
    "* How to strip first and last items from a list?"
   ]
  },
  {
   "cell_type": "code",
   "execution_count": 24,
   "metadata": {
    "tags": [
     "hide-cell"
    ]
   },
   "outputs": [
    {
     "name": "stdout",
     "output_type": "stream",
     "text": [
      "[7, 8, 9]\n",
      "[0, 1, 2, 3, 4, 5, 6]\n",
      "[1, 2, 3, 4, 5, 6, 7, 8]\n"
     ]
    }
   ],
   "source": [
    "num = [0,1,2,3,4,5,6,7,8,9]\n",
    "# Get last 3 elements\n",
    "print(num[-3:])\n",
    "# Ignore last 3 items \n",
    "print(num[:-3])\n",
    "# Strip 1st and last element\n",
    "print(num[1:-1])"
   ]
  },
  {
   "cell_type": "markdown",
   "metadata": {},
   "source": [
    "## 4. Working with List"
   ]
  },
  {
   "cell_type": "markdown",
   "metadata": {},
   "source": [
    "### Min, Max and Sum\n",
    "\n",
    "If the list consists of all integer elements, the **min( )**, **max( )** and **sum()** gives the minimum item, maximum itme and total sum value of the list."
   ]
  },
  {
   "cell_type": "markdown",
   "metadata": {},
   "source": [
    "<span style=\"background-color:#ffffba;text-decoration:underline;\">**Exercise:**</span>\n",
    "For a list with integers 0 - 9, use `format()` function of string to print out following message.\n",
    "```raw\n",
    "min = 0, max = 9, sum = 45\n",
    "```"
   ]
  },
  {
   "cell_type": "code",
   "execution_count": 27,
   "metadata": {
    "tags": [
     "hide-cell"
    ]
   },
   "outputs": [
    {
     "name": "stdout",
     "output_type": "stream",
     "text": [
      "min = 0, max = 9, sum = 45\n"
     ]
    }
   ],
   "source": [
    "num = list(range(10))\n",
    "s = 'min = {}, max = {}, sum = {}'.format(min(num), max(num), sum(num))\n",
    "print(s)"
   ]
  },
  {
   "cell_type": "markdown",
   "metadata": {},
   "source": [
    "**Question:**\n",
    "\n",
    "What is the output of `min()` and `max()` on a list which contains string values?"
   ]
  },
  {
   "cell_type": "markdown",
   "metadata": {},
   "source": [
    "### Sorted\n",
    "\n",
    "Built-in function `sorted()` can be used to sort a list in <u>ascending order</u>.\n",
    "\n",
    "\n",
    "<span style=\"background-color:#ffffba;text-decoration:underline;\">**Exercise:**</span> Check out the documentation of the `sorted()` function"
   ]
  },
  {
   "cell_type": "code",
   "execution_count": 34,
   "metadata": {},
   "outputs": [],
   "source": [
    "sorted?"
   ]
  },
  {
   "cell_type": "markdown",
   "metadata": {},
   "source": [
    "For **descending** order, specify the named argument `reverse = True`. \n",
    "* By default the reverse condition will be `False` for reverse. Hence changing it to True would arrange the elements in descending order."
   ]
  },
  {
   "cell_type": "markdown",
   "metadata": {},
   "source": [
    "<span style=\"background-color:#ffffba;text-decoration:underline;\">**Exercise:**</span>\n",
    "Sort following list in <u>ascending</u> order, and then in <u>descending</u> order \n",
    "```\n",
    "words = ['have','a','good','day']\n",
    "```"
   ]
  },
  {
   "cell_type": "code",
   "execution_count": 35,
   "metadata": {},
   "outputs": [
    {
     "name": "stdout",
     "output_type": "stream",
     "text": [
      "['Have', 'a', 'day', 'good']\n",
      "['good', 'day', 'a', 'Have']\n"
     ]
    }
   ],
   "source": [
    "words = 'Have a good day'.split()\n",
    "x = sorted(words)\n",
    "print(x)\n",
    "\n",
    "y = sorted(words, reverse=True)\n",
    "print(y)"
   ]
  },
  {
   "cell_type": "markdown",
   "metadata": {},
   "source": [
    "**Question:** How can `key` parameter of `sorted()` function be used?"
   ]
  },
  {
   "cell_type": "markdown",
   "metadata": {},
   "source": [
    "## 5. Membership and Searching\n",
    "\n",
    "You might need to check if a particular item is in a list. \n",
    "\n",
    "Instead of using `for` loop to iterate over the list and use the if condition, Python provides a simple **`in`** statement to check membership of an item.\n",
    "\n",
    "**Questions:**\n",
    "\n",
    "Write code to find out whether `duck` and `dog` are in the list `['duck', 'chicken', 'goose']` respectively. "
   ]
  },
  {
   "cell_type": "code",
   "execution_count": 23,
   "metadata": {},
   "outputs": [
    {
     "name": "stdout",
     "output_type": "stream",
     "text": [
      "True False\n"
     ]
    }
   ],
   "source": [
    "s = ['duck', 'chicken', 'goose']\n",
    "print('duck' in s, 'dog' in s)"
   ]
  },
  {
   "cell_type": "markdown",
   "metadata": {},
   "source": [
    "### count()\n",
    "It is used to count the occurence of a particular item in a list. \n",
    "\n",
    "**Question:**\n",
    "* Create a list `['duck', 'chicken', 'goose', 'duck', 'chicken', 'goose', 'duck', 'chicken', 'goose']` from `['duck', 'chicken', 'goose']`\n",
    "* Count number of occurence of `'duck'`"
   ]
  },
  {
   "cell_type": "code",
   "execution_count": 24,
   "metadata": {},
   "outputs": [
    {
     "data": {
      "text/plain": [
       "3"
      ]
     },
     "execution_count": 24,
     "metadata": {},
     "output_type": "execute_result"
    }
   ],
   "source": [
    "s = ['duck', 'chicken', 'goose'] * 3\n",
    "s.count('duck')"
   ]
  },
  {
   "cell_type": "markdown",
   "metadata": {},
   "source": [
    "### index( )\n",
    "It is used to find the index value of a particular item. \n",
    "* If there are multiple items of the same value, only the first index value of that item is returned.\n",
    "* You can add 2nd argument `x` to start searching from index `x` onwards.\n",
    "\n",
    "Note: the string functions `find()` and `rfind()` are <u>not available</u> for list."
   ]
  },
  {
   "cell_type": "code",
   "execution_count": 25,
   "metadata": {},
   "outputs": [
    {
     "data": {
      "text/plain": [
       "1"
      ]
     },
     "execution_count": 25,
     "metadata": {},
     "output_type": "execute_result"
    }
   ],
   "source": [
    "s = ['duck', 'chicken', 'goose'] * 3\n",
    "s.index('chicken')"
   ]
  },
  {
   "cell_type": "markdown",
   "metadata": {},
   "source": [
    "## 6. Modifying List\n",
    "\n",
    "List is a **mutable** collection, i.e. list can be modified and item value can be updated."
   ]
  },
  {
   "cell_type": "markdown",
   "metadata": {},
   "source": [
    "### Update an Item\n",
    "\n",
    "It is easy to update an item in the list by its index value.\n",
    "\n",
    "**Question:**\n",
    "\n",
    "For a list `s = [0,1,2,3,4]`, set item with index `2` to value `9`."
   ]
  },
  {
   "cell_type": "code",
   "execution_count": 36,
   "metadata": {},
   "outputs": [
    {
     "name": "stdout",
     "output_type": "stream",
     "text": [
      "[0, 1, 9, 3, 4]\n"
     ]
    }
   ],
   "source": [
    "s = [0,1,2,3,4]\n",
    "s[2] = 9\n",
    "print(s)"
   ]
  },
  {
   "cell_type": "markdown",
   "metadata": {},
   "source": [
    "### Append an Item to List\n",
    "\n",
    "The **append( )** is used to append a element at the end of the list.\n",
    "\n",
    "**Question:**\n",
    "\n",
    "For a list `s = [0,1,2,3,4,5]`, append a value `6` to it."
   ]
  },
  {
   "cell_type": "code",
   "execution_count": 27,
   "metadata": {},
   "outputs": [
    {
     "data": {
      "text/plain": [
       "[0, 1, 2, 3, 4, 5, 6]"
      ]
     },
     "execution_count": 27,
     "metadata": {},
     "output_type": "execute_result"
    }
   ],
   "source": [
    "s = [0,1,2,3,4,5]\n",
    "s.append(6)\n",
    "s"
   ]
  },
  {
   "cell_type": "markdown",
   "metadata": {},
   "source": [
    "### Remove Item by Index\n",
    "\n",
    "The **list.pop( )** function remove the last element in the list. This is similar to the operation of a stack.\n",
    "\n",
    "**Question:** \n",
    "\n",
    "Use `list.pop()` function to remove items in list `[0,1,2,3,4]` in reverse order."
   ]
  },
  {
   "cell_type": "code",
   "execution_count": 31,
   "metadata": {},
   "outputs": [
    {
     "name": "stdout",
     "output_type": "stream",
     "text": [
      "[0, 1, 2, 3]\n"
     ]
    }
   ],
   "source": [
    "s = [0,1,2,3,4]\n",
    "s.pop()\n",
    "print(s)"
   ]
  },
  {
   "cell_type": "markdown",
   "metadata": {},
   "source": [
    "Index value can be specified to pop a ceratin element corresponding to that index value.\n",
    "\n",
    "Check out documentation using `list.pop?`"
   ]
  },
  {
   "cell_type": "code",
   "execution_count": 32,
   "metadata": {},
   "outputs": [],
   "source": [
    "list.pop?"
   ]
  },
  {
   "cell_type": "markdown",
   "metadata": {},
   "source": [
    "**Question:**\n",
    "\n",
    "Use `list.pop()` functiont to remove `'c'` from list `['a','b','c','d','e']`."
   ]
  },
  {
   "cell_type": "code",
   "execution_count": 33,
   "metadata": {},
   "outputs": [
    {
     "name": "stdout",
     "output_type": "stream",
     "text": [
      "['a', 'b', 'd', 'e']\n"
     ]
    }
   ],
   "source": [
    "s = ['a','b','c','d','e']\n",
    "# s.pop(2)\n",
    "s.pop(2)\n",
    "print(s)"
   ]
  }
 ],
 "metadata": {
  "kernelspec": {
   "display_name": "Python 3",
   "language": "python",
   "name": "python3"
  },
  "language_info": {
   "codemirror_mode": {
    "name": "ipython",
    "version": 3
   },
   "file_extension": ".py",
   "mimetype": "text/x-python",
   "name": "python",
   "nbconvert_exporter": "python",
   "pygments_lexer": "ipython3",
   "version": "3.8.3"
  }
 },
 "nbformat": 4,
 "nbformat_minor": 1
}
