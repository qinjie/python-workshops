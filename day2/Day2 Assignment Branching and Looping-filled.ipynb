{
 "cells": [
  {
   "cell_type": "markdown",
   "metadata": {
    "slideshow": {
     "slide_type": "slide"
    }
   },
   "source": [
    "# Assignment - Branching and Looping\n",
    "\n",
    "* Conditional statements\n",
    "* Loops\n",
    "* Iterating items from iterable objects"
   ]
  },
  {
   "cell_type": "markdown",
   "metadata": {
    "slideshow": {
     "slide_type": "slide"
    }
   },
   "source": [
    "## 1. Conditional Statements\n"
   ]
  },
  {
   "cell_type": "markdown",
   "metadata": {
    "slideshow": {
     "slide_type": "slide"
    }
   },
   "source": [
    "### Human Year to Dog Year\n",
    "\n",
    "The age of a dog could be computed as follow:\n",
    "-   For the first two human years, dog year is 10.5 times of human year\n",
    "-   For additional human year, dog year is 4 times of human year.\n",
    "\n",
    "Implement a function `human_year_to_dog()` which converts human years to dog years\n",
    "* return `None` if input is a negative value\n",
    "\n",
    "Write a script to:\n",
    "* ask user to input a human year value;\n",
    "* call the function to get the equivalent dog year;\n",
    "* display to the result in 1 decimal points\n",
    "* display **Error** if the value is `None`\n",
    "\n",
    "<u>Sample Output:</u>\n",
    "\n",
    "```Python\n",
    "Human Year: 2\n",
    "Dog Year: 21.0\n",
    "Human Year: 1.513\n",
    "Dog Year: 15.9\n",
    "Human Year: -2\n",
    "Error\n",
    "```"
   ]
  },
  {
   "cell_type": "code",
   "execution_count": 15,
   "metadata": {
    "slideshow": {
     "slide_type": "skip"
    }
   },
   "outputs": [
    {
     "name": "stdout",
     "output_type": "stream",
     "text": [
      "Human Year: 1.513\n",
      "Dog Year: 000015.886\n"
     ]
    }
   ],
   "source": [
    "def human_year_to_dog(human_year):\n",
    "    if human_year <= 2 and human_year >= 0:\n",
    "        return human_year * 10.5\n",
    "    elif human_year > 2:\n",
    "        return 2 * 10.5 + (human_year-2) * 4\n",
    "    else:\n",
    "        return None\n",
    "\n",
    "hy = input('Human Year: ')\n",
    "hy = float(hy)\n",
    "\n",
    "dog_year = human_year_to_dog(hy)\n",
    "\n",
    "if dog_year == None:\n",
    "    print('Error')\n",
    "else:\n",
    "    print(f'Dog Year: {dog_year:.3f}')"
   ]
  },
  {
   "cell_type": "markdown",
   "metadata": {},
   "source": [
    "## 2. `while` Loop\n"
   ]
  },
  {
   "cell_type": "markdown",
   "metadata": {},
   "source": [
    "### Even Numbers Only\n",
    "\n",
    "Create a program which ask users to input even integers. Ignore the input if the number is not even. End the program after user entered 4 even numbers and display them. \n",
    "\n",
    "<u>Sample Output:</u>\n",
    "```\n",
    "Enter 4 even integers:\n",
    "10\n",
    "4\n",
    "5\n",
    "6\n",
    "8\n",
    "[10, 4, 6, 8]\n",
    "```"
   ]
  },
  {
   "cell_type": "code",
   "execution_count": 18,
   "metadata": {},
   "outputs": [
    {
     "name": "stdout",
     "output_type": "stream",
     "text": [
      "Enter 4 even integers:\n",
      "2\n",
      "3\n",
      "4\n",
      "5\n",
      "6\n",
      "7\n",
      "8\n",
      "[2, 4, 6, 8]\n"
     ]
    }
   ],
   "source": [
    "print('Enter 4 even integers:')\n",
    "result = []\n",
    "\n",
    "while len(result) < 4:\n",
    "    x = int(input())\n",
    "    if x % 2 != 0:\n",
    "        continue     \n",
    "    result.append(x)\n",
    "    \n",
    "print(result)"
   ]
  },
  {
   "cell_type": "markdown",
   "metadata": {},
   "source": [
    "## 3. `for` Loop\n"
   ]
  },
  {
   "cell_type": "markdown",
   "metadata": {
    "slideshow": {
     "slide_type": "slide"
    }
   },
   "source": [
    "### Count Even and Odd Numbers\n",
    "\n",
    "Following code generates a list of random integers between 1 and 10 (both ends inclusive).\n",
    "\n",
    "```\n",
    "import random\n",
    "nums = [random.randint(1,10) for i in range(5)]\n",
    "print(nums)\n",
    "```\n",
    "\n",
    "Write a program which \n",
    "* generates 10 random integers between 1 and 100;\n",
    "* counts number of even and odd numbers in the list;\n",
    "* displays the result as show in Sample Output.\n",
    "\n",
    "<u>Sample Output:</u>\n",
    "\n",
    "```\n",
    "Random Numbers:  [18, 30, 26, 6, 83, 62, 18, 10, 32, 52]\n",
    "Odd = 1, Even = 9\n",
    "```"
   ]
  },
  {
   "cell_type": "code",
   "execution_count": 52,
   "metadata": {
    "scrolled": true
   },
   "outputs": [
    {
     "name": "stdout",
     "output_type": "stream",
     "text": [
      "[18, 73, 98, 9, 33, 16, 64, 98, 58, 61]\n",
      "Odd = 4, Even = 6\n"
     ]
    }
   ],
   "source": [
    "import random\n",
    "random.seed(1)\n",
    "nums = [random.randint(1,100) for i in range(10)]\n",
    "print(nums)\n",
    "\n",
    "odd = 0\n",
    "even = 0\n",
    "\n",
    "for x in nums:\n",
    "    if x % 2 == 0:\n",
    "        even = even + 1\n",
    "    else:\n",
    "        odd = odd + 1\n",
    "\n",
    "print(f'Odd = {odd}, Even = {even}')"
   ]
  }
 ],
 "metadata": {
  "kernelspec": {
   "display_name": "Python 3",
   "language": "python",
   "name": "python3"
  },
  "language_info": {
   "codemirror_mode": {
    "name": "ipython",
    "version": 3
   },
   "file_extension": ".py",
   "mimetype": "text/x-python",
   "name": "python",
   "nbconvert_exporter": "python",
   "pygments_lexer": "ipython3",
   "version": "3.8.3"
  }
 },
 "nbformat": 4,
 "nbformat_minor": 2
}
