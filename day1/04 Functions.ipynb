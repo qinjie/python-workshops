{
 "cells": [
  {
   "cell_type": "markdown",
   "metadata": {},
   "source": [
    "# Functions\n",
    "\n",
    "**Objectives:**\n",
    "* Basic Functions\n",
    "* More on Function Parameters\n",
    "* Local and Global Scope\n",
    "* Docstring"
   ]
  },
  {
   "cell_type": "markdown",
   "metadata": {},
   "source": [
    "## 1. Why Function\n",
    "\n",
    "**Function** is a group of related statements that perform a specific task.\n",
    "\n",
    "### Benefits of Function\n",
    "\n",
    "* Functions help break program into smaller and modular chunks.\n",
    "* It supports code reusability and reduces repeative code.\n",
    "* It make large program more organized and manageable.\n",
    "\n",
    "\n",
    "### What functions have used so far?\n",
    "\n",
    "We have used a few functions when we learnt about Pyhton basic data types. Can you name any?\n",
    "* How do you check data type of an object?\n",
    "* How do you convert a value from one data type to another?\n",
    "* How to you print out value(s) in console?"
   ]
  },
  {
   "cell_type": "code",
   "execution_count": null,
   "metadata": {},
   "outputs": [],
   "source": []
  },
  {
   "cell_type": "markdown",
   "metadata": {},
   "source": [
    "## 2. Basic Functions"
   ]
  },
  {
   "cell_type": "markdown",
   "metadata": {},
   "source": [
    "### Simplest Function that does nothing\n",
    "\n",
    "Let's define a simplest function `do_nothing()`, which does nothing.\n",
    "* Keyword `pass` is used to indicate nothing to be done in the function body."
   ]
  },
  {
   "cell_type": "code",
   "execution_count": null,
   "metadata": {},
   "outputs": [],
   "source": []
  },
  {
   "cell_type": "markdown",
   "metadata": {},
   "source": [
    "Check the type of `do_nothing`."
   ]
  },
  {
   "cell_type": "code",
   "execution_count": null,
   "metadata": {
    "scrolled": true
   },
   "outputs": [],
   "source": []
  },
  {
   "cell_type": "markdown",
   "metadata": {},
   "source": [
    "Call the function `do_nothing()`."
   ]
  },
  {
   "cell_type": "code",
   "execution_count": null,
   "metadata": {},
   "outputs": [],
   "source": []
  },
  {
   "cell_type": "markdown",
   "metadata": {},
   "source": [
    "<span style=\"background-color:#ffffba;text-decoration:underline;\">Exercise:</span>\n",
    "\n",
    "Let's define a basic function which simply prints \"Hell World\"."
   ]
  },
  {
   "cell_type": "code",
   "execution_count": null,
   "metadata": {
    "scrolled": true
   },
   "outputs": [],
   "source": []
  },
  {
   "cell_type": "markdown",
   "metadata": {},
   "source": [
    "### Input Parameters\n",
    "\n",
    "Function can takes in zero or more input parameters. \n",
    "* Input parameters are considered as local variables in a function.\n",
    "\n",
    "<span style=\"background-color:#ffffba;text-decoration:underline;\">Exercise:</span>\n",
    "\n",
    "Enhance the `hello()` function with a `who` input parameter."
   ]
  },
  {
   "cell_type": "code",
   "execution_count": null,
   "metadata": {},
   "outputs": [],
   "source": []
  },
  {
   "cell_type": "markdown",
   "metadata": {},
   "source": [
    "### Return Statement\n",
    "\n",
    "Function can exit with a `return` statement. The return statement can return a value at the same time.\n",
    "\n",
    "<span style=\"background-color:#ffffba;text-decoration:underline;\">Exercise:</span>\n",
    "\n",
    "Define a function `add(a, b)` which takes in parameters `a` & `b`, and returns sum of them."
   ]
  },
  {
   "cell_type": "code",
   "execution_count": null,
   "metadata": {},
   "outputs": [],
   "source": []
  },
  {
   "cell_type": "markdown",
   "metadata": {},
   "source": [
    "### Implicit Return Statement\n",
    "\n",
    "If a function has no `return` statement in a function, or its `return` statement doesn't followed by any object, the function returns a `None`."
   ]
  },
  {
   "cell_type": "markdown",
   "metadata": {},
   "source": [
    "<span style=\"background-color:#ffffba;text-decoration:underline;\">Exercise:</span>\n",
    "\n",
    "What is the data type of return value from `hello(who)` function?"
   ]
  },
  {
   "cell_type": "code",
   "execution_count": null,
   "metadata": {
    "scrolled": true
   },
   "outputs": [],
   "source": []
  },
  {
   "cell_type": "markdown",
   "metadata": {},
   "source": [
    "### Return Multiple Values\n",
    "A function may return **multiple** values. When multiple values are returned, they are packed into a tuple. "
   ]
  },
  {
   "cell_type": "code",
   "execution_count": null,
   "metadata": {},
   "outputs": [],
   "source": []
  },
  {
   "cell_type": "markdown",
   "metadata": {},
   "source": [
    "<span style=\"background-color:#ffffba;text-decoration:underline;\">Exercise:</span>\n",
    "\n",
    "Define a function `simple_math(a, b)` which returns sum, difference, multiplication and division values of `a` and `b`."
   ]
  },
  {
   "cell_type": "code",
   "execution_count": null,
   "metadata": {
    "scrolled": false
   },
   "outputs": [],
   "source": []
  },
  {
   "cell_type": "markdown",
   "metadata": {},
   "source": [
    "## 3.  Function Arguments"
   ]
  },
  {
   "cell_type": "markdown",
   "metadata": {},
   "source": [
    "Let's define a function `simple_add()` which takes in 3 values and returns sum of them"
   ]
  },
  {
   "cell_type": "code",
   "execution_count": null,
   "metadata": {},
   "outputs": [],
   "source": []
  },
  {
   "cell_type": "markdown",
   "metadata": {},
   "source": [
    "### Call with Positional Arguments\n",
    "\n",
    "All arguments, `a` and `b` and `c` are **required arguments**. You need to pass in all required values before you can call `simple_add` function. "
   ]
  },
  {
   "cell_type": "code",
   "execution_count": null,
   "metadata": {},
   "outputs": [],
   "source": []
  },
  {
   "cell_type": "markdown",
   "metadata": {},
   "source": [
    "### Call with Keyword Arguments\n",
    "\n",
    "Instead of pass arguments in order, you can passs arguments identified by their name, i.e. keyword arguments. \n",
    "* With keyword argument, order of arguments is not required.\n",
    "* It can make your code easier to read. "
   ]
  },
  {
   "cell_type": "code",
   "execution_count": null,
   "metadata": {},
   "outputs": [],
   "source": [
    "simple_add(10, c = 30, b = 20)"
   ]
  },
  {
   "cell_type": "markdown",
   "metadata": {},
   "source": [
    "### Default Arguments\n",
    "\n",
    "Default arguments have arguments with default values. When there is no value is passed, that argument will use its default value.\n",
    "\n",
    "* **Note:** All required arguments must be before default arguments."
   ]
  },
  {
   "cell_type": "markdown",
   "metadata": {},
   "source": [
    "<span style=\"background-color:#ffffba;text-decoration:underline;\">Exercise:</span>\n",
    "\n",
    "Modify the `simple_add()` function to give default value 10 and 20 to `b` and `c` respectively."
   ]
  },
  {
   "cell_type": "code",
   "execution_count": null,
   "metadata": {},
   "outputs": [],
   "source": []
  },
  {
   "cell_type": "markdown",
   "metadata": {},
   "source": [
    "## 4. Variable Scope - Global vs Local\n",
    "\n",
    "The scope of a variable determines the portion of the program where you can access a particular variable. There are two basic variable scopes in Python:\n",
    "\n",
    "* **Global variables:** variables defined **outside** a function body \n",
    "* **Local variables:** variables defined **inside** a function body\n",
    "\n",
    "Global and Local variables are in different scopes\n",
    "* Local variables can be accessed only inside the function in which they are declared\n",
    "* Global variables can be accessed throughout the program body"
   ]
  },
  {
   "cell_type": "markdown",
   "metadata": {},
   "source": [
    "### Accessing Global Variables\n",
    "\n",
    "Global variable `x` can be accessed both inside and outside of a function."
   ]
  },
  {
   "cell_type": "code",
   "execution_count": null,
   "metadata": {},
   "outputs": [],
   "source": [
    "x = 3;  # Global variable\n",
    "\n",
    "def show():\n",
    "    print('Inside function:', x)\n",
    "\n",
    "show()\n",
    "print('Outside Function:', x);"
   ]
  },
  {
   "cell_type": "markdown",
   "metadata": {},
   "source": [
    "### Accessing Local Variable\n",
    "\n",
    "The `y` variable is a local variable. It does not exist outside the function."
   ]
  },
  {
   "cell_type": "code",
   "execution_count": null,
   "metadata": {},
   "outputs": [],
   "source": [
    "# Clean up any `val` variable from previous example\n",
    "if 'y' in globals(): \n",
    "    del y      \n",
    "\n",
    "\n",
    "def show():\n",
    "    y = 3\n",
    "    print(\"In function:\", y)\n",
    "\n",
    "show()\n",
    "print(\"Outside function:\", y)"
   ]
  },
  {
   "cell_type": "markdown",
   "metadata": {},
   "source": [
    "### Variable Created in Different Scope\n",
    "\n",
    "Whenever a variable is assigned, it will be automatically created if it does not exist in current scope."
   ]
  },
  {
   "cell_type": "code",
   "execution_count": null,
   "metadata": {},
   "outputs": [],
   "source": [
    "x = 2\n",
    "print(id(x))\n",
    "\n",
    "def foo():\n",
    "    x = 3\n",
    "    print(id(x))\n",
    "\n",
    "foo()\n",
    "print(x)"
   ]
  },
  {
   "cell_type": "markdown",
   "metadata": {},
   "source": [
    "**Question:** Why there is an error in following code?"
   ]
  },
  {
   "cell_type": "code",
   "execution_count": null,
   "metadata": {
    "scrolled": true
   },
   "outputs": [],
   "source": [
    "x = 2\n",
    "\n",
    "def foo():\n",
    "    x = x * 2\n",
    "    print(x)\n",
    "\n",
    "foo()"
   ]
  },
  {
   "cell_type": "markdown",
   "metadata": {},
   "source": [
    "### Keyword `global`\n",
    "\n",
    "Question: But what if I would like to modify a global variable in the function? \n",
    "\n",
    "* To access global a variable in a function, you can use the `global` keyword."
   ]
  },
  {
   "cell_type": "code",
   "execution_count": null,
   "metadata": {},
   "outputs": [],
   "source": [
    "x = 2\n",
    "\n",
    "def foo():\n",
    "    global x\n",
    "    x = 3\n",
    "\n",
    "foo()\n",
    "print(x)"
   ]
  },
  {
   "cell_type": "markdown",
   "metadata": {},
   "source": [
    "## 5. Docstring\n",
    "\n",
    "The first string after the function header is called **documentation string**, which is commonly called **docstring**. \n",
    "\n",
    "It is commonly added to functions and modules to serve as documentation for your function."
   ]
  },
  {
   "cell_type": "code",
   "execution_count": null,
   "metadata": {},
   "outputs": [],
   "source": [
    "def hello(who):\n",
    "    '''Prints hello message\n",
    "    Arguments:\n",
    "        - who: name in string\n",
    "    '''\n",
    "    print('Hello ', who)"
   ]
  },
  {
   "cell_type": "markdown",
   "metadata": {},
   "source": [
    "### How to access Docstring?\n",
    "\n",
    "Docstring of a function or class can be accessed using **help()** function or `__doc__` attribute of the function or class.\n"
   ]
  },
  {
   "cell_type": "code",
   "execution_count": null,
   "metadata": {
    "scrolled": false
   },
   "outputs": [],
   "source": []
  }
 ],
 "metadata": {
  "kernelspec": {
   "display_name": "Python 3",
   "language": "python",
   "name": "python3"
  },
  "language_info": {
   "codemirror_mode": {
    "name": "ipython",
    "version": 3
   },
   "file_extension": ".py",
   "mimetype": "text/x-python",
   "name": "python",
   "nbconvert_exporter": "python",
   "pygments_lexer": "ipython3",
   "version": "3.8.3"
  },
  "toc": {
   "base_numbering": 1,
   "nav_menu": {},
   "number_sections": true,
   "sideBar": true,
   "skip_h1_title": false,
   "title_cell": "Table of Contents",
   "title_sidebar": "Contents",
   "toc_cell": false,
   "toc_position": {},
   "toc_section_display": true,
   "toc_window_display": true
  }
 },
 "nbformat": 4,
 "nbformat_minor": 4
}
