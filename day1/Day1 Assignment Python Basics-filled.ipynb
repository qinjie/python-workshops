{
 "cells": [
  {
   "cell_type": "markdown",
   "metadata": {},
   "source": [
    "# Assignment - Python Basics"
   ]
  },
  {
   "cell_type": "markdown",
   "metadata": {},
   "source": [
    "## Assignment 1\n",
    "\n",
    "Implement a BMI Calculator.\n",
    "* Ask user for height(m)\n",
    "* Ask user for weight(kg)\n",
    "* Calculate his BMI value\n",
    "* Display the result"
   ]
  },
  {
   "cell_type": "code",
   "execution_count": 28,
   "metadata": {
    "scrolled": true
   },
   "outputs": [
    {
     "name": "stdout",
     "output_type": "stream",
     "text": [
      "Welcome to BMI Calculator\n",
      "Enter your height(m): 1.7\n",
      "Enter your weight(kg): 70\n",
      "Your BMI is 24.221453287197235\n"
     ]
    }
   ],
   "source": [
    "print('Welcome to BMI Calculator')\n",
    "height = input('Enter your height(m): ')\n",
    "weight = input('Enter your weight(kg): ')\n",
    "height = float(height)\n",
    "weight = float(weight)\n",
    "bmi = weight / (height * height)\n",
    "print('Your BMI is ' + str(bmi))"
   ]
  },
  {
   "cell_type": "markdown",
   "metadata": {},
   "source": [
    "## Assignment 2\n",
    "\n",
    "* Ask user for an integer\n",
    "* Print message on whether it can be divided by both 2 and 3\n",
    "\n",
    "```\n",
    "Enter an integer: 10\n",
    "False\n",
    "\n",
    "Enter an integer: 6\n",
    "True\n",
    "```"
   ]
  },
  {
   "cell_type": "code",
   "execution_count": 30,
   "metadata": {},
   "outputs": [
    {
     "name": "stdout",
     "output_type": "stream",
     "text": [
      "Enter an integer: 6\n",
      "True\n"
     ]
    }
   ],
   "source": [
    "x = input('Enter an integer: ')\n",
    "x = int(x)\n",
    "\n",
    "y = (x % 2 == 0) and (x % 3 == 0)\n",
    "print(y)"
   ]
  },
  {
   "cell_type": "markdown",
   "metadata": {},
   "source": [
    "## Assignment 3\n",
    "\n",
    "Define a function `area_rectangle()` function takes in `width` and `height` as input parameters, and returns area of the rectangle.\n",
    "* Use default value `10` and `20` for `width` and `height`."
   ]
  },
  {
   "cell_type": "code",
   "execution_count": 3,
   "metadata": {},
   "outputs": [
    {
     "name": "stdout",
     "output_type": "stream",
     "text": [
      "Area of Rectangle: 200\n"
     ]
    }
   ],
   "source": [
    "def area_rectangle(width = 10, height = 20):        \n",
    "    return width * height\n",
    "\n",
    "ar = area_rectangle()\n",
    "print(f'Area of Rectangle: {ar}')"
   ]
  }
 ],
 "metadata": {
  "kernelspec": {
   "display_name": "Python 3",
   "language": "python",
   "name": "python3"
  },
  "language_info": {
   "codemirror_mode": {
    "name": "ipython",
    "version": 3
   },
   "file_extension": ".py",
   "mimetype": "text/x-python",
   "name": "python",
   "nbconvert_exporter": "python",
   "pygments_lexer": "ipython3",
   "version": "3.8.3"
  }
 },
 "nbformat": 4,
 "nbformat_minor": 4
}
