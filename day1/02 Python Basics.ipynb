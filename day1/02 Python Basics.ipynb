{
 "cells": [
  {
   "cell_type": "markdown",
   "metadata": {},
   "source": [
    "# Python Basics\n",
    "\n",
    "\n",
    "#### Objectives:\n",
    "* Input and Output\n",
    "* Basic Data Types\n",
    "* More on Strings"
   ]
  },
  {
   "cell_type": "markdown",
   "metadata": {},
   "source": [
    "## 1. Input & Output\n",
    "\n",
    "### 1.1 Get User Input\n",
    "\n",
    "You can ask user for some input using Python built-in `input()` function. \n",
    "* When `input()` function is called, the program will stop and wait for user to key in some data.\n",
    "* It is optional to add prompt as function parameter.\n",
    "* It always returns a string value.\n",
    "\n",
    "<span style=\"background-color:#ffffba;text-decoration:underline;\">Exercise:</span>\n",
    "\n",
    "Ask user for his age and assign it to variable `age`."
   ]
  },
  {
   "cell_type": "code",
   "execution_count": null,
   "metadata": {
    "scrolled": true
   },
   "outputs": [],
   "source": []
  },
  {
   "cell_type": "markdown",
   "metadata": {},
   "source": [
    "What is the output from `type(x)` command?"
   ]
  },
  {
   "cell_type": "code",
   "execution_count": null,
   "metadata": {},
   "outputs": [],
   "source": []
  },
  {
   "cell_type": "markdown",
   "metadata": {},
   "source": [
    "Learn more about the `input()` function from help:"
   ]
  },
  {
   "cell_type": "code",
   "execution_count": null,
   "metadata": {},
   "outputs": [],
   "source": []
  },
  {
   "cell_type": "markdown",
   "metadata": {},
   "source": [
    "### 1.2 Print Out\n",
    "\n",
    "Python provides a built-in function `print()` to display data to the console or a file object.\n",
    "\n",
    "```\n",
    "print(...)\n",
    "    print(value, ..., sep=' ', end='\\n', file=sys.stdout, flush=False)\n",
    "```\n",
    "\n",
    "Understand more about `print()` function:\n",
    "* It can accept multiple values, and uses `sep` value to separate them in output. By default, the `sep` value is a space(` `).\n",
    "* It automatically appends an `end` string at the end. By default, the `end` value is a new line (`\\n`).\n",
    "* It outputs data to a file object defined in `file`, which has a default value `sys.stdout` (console).\n",
    "\n",
    "<span style=\"background-color:#ffffba;text-decoration:underline;\">Exercise:</span>"
   ]
  },
  {
   "cell_type": "code",
   "execution_count": null,
   "metadata": {},
   "outputs": [],
   "source": []
  },
  {
   "cell_type": "markdown",
   "metadata": {
    "slideshow": {
     "slide_type": "slide"
    }
   },
   "source": [
    "## 2. Basic Data Types\n",
    "\n",
    "In programming, a **data type** defines the type of a data and its expected behavior.\n",
    "* Variables are commonly associated with a particular data type.\n",
    "\n",
    "### 2.1 Overview of Data Types\n",
    "\n",
    "Python support many data types, which allow us to implement solutions quickly using Python.\n",
    "\n",
    "* Common data types: boolean, integer, float, string\n",
    "* Collection data types: List, Tuple, Dictionary and Set"
   ]
  },
  {
   "cell_type": "markdown",
   "metadata": {},
   "source": [
    "**Question:** How to check the data type of a variable?"
   ]
  },
  {
   "cell_type": "markdown",
   "metadata": {},
   "source": [
    "### 2.2 Booleans\n",
    "\n",
    "A Boolean variable can represent either `True` or `False`.\n",
    "* Boolean values are commonly associated with comparison operators, which will be covered in another session.\n",
    "\n",
    "<span style=\"background-color:#ffffba;text-decoration:underline;\">Exercise:</span>"
   ]
  },
  {
   "cell_type": "code",
   "execution_count": null,
   "metadata": {},
   "outputs": [],
   "source": []
  },
  {
   "cell_type": "markdown",
   "metadata": {},
   "source": [
    "### 2.3 Numbers\n",
    "\n",
    "Numbers in Python are classified into **int**, **float**, and **complex**.\n",
    "* The **int** type can contain integer values\n",
    "* The **float** type can contain decimal values\n",
    "* The **complex** type can contain imaginery values. Add a “j” or “J” after a number to make it imaginary or complex.\n",
    "\n",
    "<span style=\"background-color:#ffffba;text-decoration:underline;\">Exercise:</span>\n",
    "Run following statements line by line. (Press `CTRL + ENTER` after typing each line)"
   ]
  },
  {
   "cell_type": "code",
   "execution_count": null,
   "metadata": {},
   "outputs": [],
   "source": []
  },
  {
   "cell_type": "markdown",
   "metadata": {},
   "source": [
    "### 2.4 Strings\n",
    "\n",
    "String is a sequence of one or more characters enclosed within any of following quotes.\n",
    "* single-quotes `' '`\n",
    "* double-quotes `\" \"`\n",
    "* Triple single-quotes `''' '''`\n",
    "\n",
    "Python supports multi-line strings using a triple single-quotation mark at the start and one at the end."
   ]
  },
  {
   "cell_type": "markdown",
   "metadata": {},
   "source": [
    "<span style=\"background-color:#ffffba;text-decoration:underline;\">Exercise:</span>"
   ]
  },
  {
   "cell_type": "code",
   "execution_count": null,
   "metadata": {},
   "outputs": [],
   "source": []
  },
  {
   "cell_type": "markdown",
   "metadata": {},
   "source": [
    "<span style=\"background-color:#ffffba;text-decoration:underline;\">Exercise:</span>\n",
    "For these examples, it uses combination of single-quote (`'`) and double-quote (`\"`)  instead of escape character."
   ]
  },
  {
   "cell_type": "code",
   "execution_count": null,
   "metadata": {},
   "outputs": [],
   "source": []
  },
  {
   "cell_type": "markdown",
   "metadata": {},
   "source": [
    "#### Escape Character `\\`\n",
    "\n",
    "Similiar to other programming langugae, Python uses `\\` (backslash) as escape character in strings.\n",
    "\n",
    "Here are some common escape characters that are represented using backslash notation.\n",
    "\n",
    "| Symbol | Character   |\n",
    "|------|------|\n",
    "| `\\\"` | Double-quote (\") |\n",
    "| `\\'` | Single-quote (') |\n",
    "| `\\n` | Line feed (LF) or new line |\n",
    "| `\\t` | Horizontal Tab (TAB) |\n",
    "| `\\\\` | Backslash (\\) |"
   ]
  },
  {
   "cell_type": "markdown",
   "metadata": {},
   "source": [
    "<span style=\"background-color:#ffffba;text-decoration:underline;\">Exercise:</span>\n",
    "Escape characters in Strings"
   ]
  },
  {
   "cell_type": "code",
   "execution_count": null,
   "metadata": {},
   "outputs": [],
   "source": []
  },
  {
   "cell_type": "markdown",
   "metadata": {},
   "source": [
    "## 3. String Interpolation\n",
    "\n",
    "Instead of using `+` operator to concatenate strings, Python provides several other ways to perform string interpolations."
   ]
  },
  {
   "cell_type": "markdown",
   "metadata": {},
   "source": [
    "### 3.1 Using f-strings"
   ]
  },
  {
   "cell_type": "markdown",
   "metadata": {},
   "source": [
    "Python 3.6 adds a new string interpolation method using prefix `f`."
   ]
  },
  {
   "cell_type": "code",
   "execution_count": null,
   "metadata": {},
   "outputs": [],
   "source": []
  },
  {
   "cell_type": "markdown",
   "metadata": {},
   "source": [
    "### 3.2 Using str.format()"
   ]
  },
  {
   "cell_type": "markdown",
   "metadata": {},
   "source": [
    "The string object has a format() function which performs simple positional formatting."
   ]
  },
  {
   "cell_type": "code",
   "execution_count": null,
   "metadata": {},
   "outputs": [],
   "source": []
  },
  {
   "cell_type": "markdown",
   "metadata": {},
   "source": [
    "## 4. Type Conversion"
   ]
  },
  {
   "cell_type": "markdown",
   "metadata": {},
   "source": [
    "\n",
    "### 4.1 Type Casting\n",
    "\n",
    "There may be times when you want to specify a type on to a variable. This can be done with casting.\n",
    "\n",
    "Casting can be done using constructor functions:\n",
    "* `int()` - constructs an integer number\n",
    "* `float()` - constructs a float number\n",
    "* `str()` - constructs a string\n",
    "\n",
    "<span style=\"background-color:#ffffba;text-decoration:underline;\">Exercise:</span>\n",
    "Convert values `123` to string, `\"123\"` to integer, and `\"1.23\"` to float."
   ]
  },
  {
   "cell_type": "code",
   "execution_count": null,
   "metadata": {},
   "outputs": [],
   "source": []
  },
  {
   "cell_type": "markdown",
   "metadata": {},
   "source": [
    "### 4.2 Dynamically and Strongly Typed\n",
    "\n",
    "**Dynamically Typed** language: Type of a variable is only evaluated during run time, e.g. during variable creation.\n",
    "\n",
    "**Strongly Typed** language: Variables of different type will not be automatically converted before operation."
   ]
  },
  {
   "cell_type": "markdown",
   "metadata": {},
   "source": [
    "<span style=\"background-color:#ffffba;text-decoration:underline;\">Exercise:</span>\n",
    "Correct the mistake in following code.\n",
    "\n",
    "```python\n",
    "x = 'abc' + 99\n",
    "```"
   ]
  },
  {
   "cell_type": "code",
   "execution_count": null,
   "metadata": {
    "scrolled": true
   },
   "outputs": [],
   "source": []
  }
 ],
 "metadata": {
  "kernelspec": {
   "display_name": "Python 3",
   "language": "python",
   "name": "python3"
  },
  "language_info": {
   "codemirror_mode": {
    "name": "ipython",
    "version": 3
   },
   "file_extension": ".py",
   "mimetype": "text/x-python",
   "name": "python",
   "nbconvert_exporter": "python",
   "pygments_lexer": "ipython3",
   "version": "3.8.3"
  }
 },
 "nbformat": 4,
 "nbformat_minor": 2
}
