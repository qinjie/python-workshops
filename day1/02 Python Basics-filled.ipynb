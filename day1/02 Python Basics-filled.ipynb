{
 "cells": [
  {
   "cell_type": "markdown",
   "metadata": {},
   "source": [
    "# Python Basics\n",
    "\n",
    "\n",
    "#### Objectives:\n",
    "* Input and Output\n",
    "* Basic Data Types\n",
    "* More on Strings"
   ]
  },
  {
   "cell_type": "markdown",
   "metadata": {},
   "source": [
    "## 1. Input & Output\n",
    "\n",
    "### 1.1 Get User Input\n",
    "\n",
    "You can ask user for some input using Python built-in `input()` function. \n",
    "* When `input()` function is called, the program will stop and wait for user to key in some data.\n",
    "* It is optional to add prompt as function parameter.\n",
    "* It always returns a string value.\n",
    "\n",
    "<span style=\"background-color:#ffffba;text-decoration:underline;\">Exercise:</span>\n",
    "\n",
    "Ask user for his age and assign it to variable `age`."
   ]
  },
  {
   "cell_type": "code",
   "execution_count": 1,
   "metadata": {
    "scrolled": true
   },
   "outputs": [
    {
     "name": "stdout",
     "output_type": "stream",
     "text": [
      "How old are you?  18\n",
      "18\n"
     ]
    }
   ],
   "source": [
    "age = input('How old are you?  ')\n",
    "print(age)"
   ]
  },
  {
   "cell_type": "markdown",
   "metadata": {},
   "source": [
    "What is the output from `type(x)` command?"
   ]
  },
  {
   "cell_type": "code",
   "execution_count": 2,
   "metadata": {},
   "outputs": [
    {
     "data": {
      "text/plain": [
       "str"
      ]
     },
     "execution_count": 2,
     "metadata": {},
     "output_type": "execute_result"
    }
   ],
   "source": [
    "type(age)"
   ]
  },
  {
   "cell_type": "markdown",
   "metadata": {},
   "source": [
    "Learn more about the `input()` function from help:"
   ]
  },
  {
   "cell_type": "code",
   "execution_count": 3,
   "metadata": {},
   "outputs": [
    {
     "name": "stdout",
     "output_type": "stream",
     "text": [
      "Help on method raw_input in module ipykernel.kernelbase:\n",
      "\n",
      "raw_input(prompt='') method of ipykernel.ipkernel.IPythonKernel instance\n",
      "    Forward raw_input to frontends\n",
      "    \n",
      "    Raises\n",
      "    ------\n",
      "    StdinNotImplentedError if active frontend doesn't support stdin.\n",
      "\n"
     ]
    }
   ],
   "source": [
    "help(input)"
   ]
  },
  {
   "cell_type": "markdown",
   "metadata": {},
   "source": [
    "### 1.2 Print Out\n",
    "\n",
    "Python provides a built-in function `print()` to display data to the console or a file object.\n",
    "\n",
    "```\n",
    "print(...)\n",
    "    print(value, ..., sep=' ', end='\\n', file=sys.stdout, flush=False)\n",
    "```\n",
    "\n",
    "Understand more about `print()` function:\n",
    "* It can accept multiple values, and uses `sep` value to separate them in output. By default, the `sep` value is a space(` `).\n",
    "* It automatically appends an `end` string at the end. By default, the `end` value is a new line (`\\n`).\n",
    "* It outputs data to a file object defined in `file`, which has a default value `sys.stdout` (console).\n",
    "\n",
    "<span style=\"background-color:#ffffba;text-decoration:underline;\">Exercise:</span>"
   ]
  },
  {
   "cell_type": "code",
   "execution_count": 4,
   "metadata": {},
   "outputs": [
    {
     "name": "stdout",
     "output_type": "stream",
     "text": [
      "hello world\n",
      "have-a-good-day\n"
     ]
    }
   ],
   "source": [
    "print('hello', 'world')\n",
    "print('have', 'a', 'good', 'day', sep='-')"
   ]
  },
  {
   "cell_type": "markdown",
   "metadata": {
    "slideshow": {
     "slide_type": "slide"
    }
   },
   "source": [
    "## 2. Basic Data Types\n",
    "\n",
    "In programming, a **data type** defines the type of a data and its expected behavior.\n",
    "* Variables are commonly associated with a particular data type.\n",
    "\n",
    "### 2.1 Overview of Data Types\n",
    "\n",
    "Python support many data types, which allow us to implement solutions quickly using Python.\n",
    "\n",
    "* Common data types: boolean, integer, float, string\n",
    "* Collection data types: List, Tuple, Dictionary and Set"
   ]
  },
  {
   "cell_type": "markdown",
   "metadata": {},
   "source": [
    "**Question:** How to check the data type of a variable?"
   ]
  },
  {
   "cell_type": "markdown",
   "metadata": {},
   "source": [
    "### 2.2 Booleans\n",
    "\n",
    "A Boolean variable can represent either `True` or `False`.\n",
    "* Boolean values are commonly associated with comparison operators, which will be covered in another session.\n",
    "\n",
    "<span style=\"background-color:#ffffba;text-decoration:underline;\">Exercise:</span>"
   ]
  },
  {
   "cell_type": "code",
   "execution_count": 5,
   "metadata": {},
   "outputs": [
    {
     "name": "stdout",
     "output_type": "stream",
     "text": [
      "True False\n"
     ]
    },
    {
     "data": {
      "text/plain": [
       "bool"
      ]
     },
     "execution_count": 5,
     "metadata": {},
     "output_type": "execute_result"
    }
   ],
   "source": [
    "x = (1==1)\n",
    "y = (1=='1')\n",
    "print(x, y)\n",
    "type(x)"
   ]
  },
  {
   "cell_type": "markdown",
   "metadata": {},
   "source": [
    "### 2.3 Numbers\n",
    "\n",
    "Numbers in Python are classified into **int**, **float**, and **complex**.\n",
    "* The **int** type can contain integer values\n",
    "* The **float** type can contain decimal values\n",
    "* The **complex** type can contain imaginery values. Add a “j” or “J” after a number to make it imaginary or complex.\n",
    "\n",
    "<span style=\"background-color:#ffffba;text-decoration:underline;\">Exercise:</span>\n",
    "Run following statements line by line. (Press `CTRL + ENTER` after typing each line)"
   ]
  },
  {
   "cell_type": "code",
   "execution_count": 6,
   "metadata": {},
   "outputs": [
    {
     "data": {
      "text/plain": [
       "complex"
      ]
     },
     "execution_count": 6,
     "metadata": {},
     "output_type": "execute_result"
    }
   ],
   "source": [
    "type(123)\n",
    "type(1.23)\n",
    "type(1 + 2j)"
   ]
  },
  {
   "cell_type": "markdown",
   "metadata": {},
   "source": [
    "### 2.4 Strings\n",
    "\n",
    "String is a sequence of one or more characters enclosed within any of following quotes.\n",
    "* single-quotes `' '`\n",
    "* double-quotes `\" \"`\n",
    "* Triple single-quotes `''' '''`\n",
    "\n",
    "Python supports multi-line strings using a triple single-quotation mark at the start and one at the end."
   ]
  },
  {
   "cell_type": "markdown",
   "metadata": {},
   "source": [
    "<span style=\"background-color:#ffffba;text-decoration:underline;\">Exercise:</span>"
   ]
  },
  {
   "cell_type": "code",
   "execution_count": 7,
   "metadata": {},
   "outputs": [
    {
     "name": "stdout",
     "output_type": "stream",
     "text": [
      "Hello World\n",
      "Hello\n",
      "agian\n"
     ]
    }
   ],
   "source": [
    "x = 'Hello'\n",
    "y = \"World\"\n",
    "z = \"\"\"Hello\n",
    "agian\"\"\"\n",
    "print(x, y)\n",
    "print(z)"
   ]
  },
  {
   "cell_type": "markdown",
   "metadata": {},
   "source": [
    "<span style=\"background-color:#ffffba;text-decoration:underline;\">Exercise:</span>\n",
    "For these examples, it uses combination of single-quote (`'`) and double-quote (`\"`)  instead of escape character."
   ]
  },
  {
   "cell_type": "code",
   "execution_count": 8,
   "metadata": {},
   "outputs": [
    {
     "name": "stdout",
     "output_type": "stream",
     "text": [
      "I'd work hard\n",
      "\"Go home\", he said\n"
     ]
    }
   ],
   "source": [
    "print(\"I'd work hard\")\n",
    "print('\"Go home\", he said')"
   ]
  },
  {
   "cell_type": "markdown",
   "metadata": {},
   "source": [
    "#### Escape Character `\\`\n",
    "\n",
    "Similiar to other programming langugae, Python uses `\\` (backslash) as escape character in strings.\n",
    "\n",
    "Here are some common escape characters that are represented using backslash notation.\n",
    "\n",
    "| Symbol | Character   |\n",
    "|------|------|\n",
    "| `\\\"` | Double-quote (\") |\n",
    "| `\\'` | Single-quote (') |\n",
    "| `\\n` | Line feed (LF) or new line |\n",
    "| `\\t` | Horizontal Tab (TAB) |\n",
    "| `\\\\` | Backslash (\\) |"
   ]
  },
  {
   "cell_type": "markdown",
   "metadata": {},
   "source": [
    "<span style=\"background-color:#ffffba;text-decoration:underline;\">Exercise:</span>\n",
    "Escape characters in Strings"
   ]
  },
  {
   "cell_type": "code",
   "execution_count": 9,
   "metadata": {
    "scrolled": false
   },
   "outputs": [
    {
     "name": "stdout",
     "output_type": "stream",
     "text": [
      "hello\tworld\n",
      "Folder:\n",
      "\tc:\\Windows\\System\n"
     ]
    }
   ],
   "source": [
    "print('hello\\tworld')\n",
    "print('Folder:\\n\\tc:\\\\Windows\\\\System')"
   ]
  },
  {
   "cell_type": "markdown",
   "metadata": {},
   "source": [
    "## 3. String Interpolation\n",
    "\n",
    "Instead of using `+` operator to concatenate strings, Python provides several other ways to perform string interpolations."
   ]
  },
  {
   "cell_type": "markdown",
   "metadata": {},
   "source": [
    "### 3.1 Using f-strings"
   ]
  },
  {
   "cell_type": "markdown",
   "metadata": {},
   "source": [
    "Python 3.6 adds a new string interpolation method using prefix `f`."
   ]
  },
  {
   "cell_type": "code",
   "execution_count": 15,
   "metadata": {},
   "outputs": [
    {
     "name": "stdout",
     "output_type": "stream",
     "text": [
      "10 is Ten\n"
     ]
    }
   ],
   "source": [
    "x = 10\n",
    "y = 'Ten'\n",
    "\n",
    "z = f'{x} is {y}'\n",
    "print(z)"
   ]
  },
  {
   "cell_type": "markdown",
   "metadata": {},
   "source": [
    "### 3.2 Using str.format()"
   ]
  },
  {
   "cell_type": "markdown",
   "metadata": {},
   "source": [
    "The string object has a format() function which performs simple positional formatting."
   ]
  },
  {
   "cell_type": "code",
   "execution_count": 17,
   "metadata": {},
   "outputs": [
    {
     "name": "stdout",
     "output_type": "stream",
     "text": [
      "Hello, world\n"
     ]
    }
   ],
   "source": [
    "name = 'world'\n",
    "greeting = 'Hello, {}'.format(name)\n",
    "print(greeting)"
   ]
  },
  {
   "cell_type": "markdown",
   "metadata": {},
   "source": [
    "## 4. Type Conversion"
   ]
  },
  {
   "cell_type": "markdown",
   "metadata": {},
   "source": [
    "\n",
    "### 4.1 Type Casting\n",
    "\n",
    "There may be times when you want to specify a type on to a variable. This can be done with casting.\n",
    "\n",
    "Casting can be done using constructor functions:\n",
    "* `int()` - constructs an integer number\n",
    "* `float()` - constructs a float number\n",
    "* `str()` - constructs a string\n",
    "\n",
    "<span style=\"background-color:#ffffba;text-decoration:underline;\">Exercise:</span>\n",
    "Convert values `123` to string, `\"123\"` to integer, and `\"1.23\"` to float."
   ]
  },
  {
   "cell_type": "code",
   "execution_count": 11,
   "metadata": {},
   "outputs": [
    {
     "data": {
      "text/plain": [
       "1.23"
      ]
     },
     "execution_count": 11,
     "metadata": {},
     "output_type": "execute_result"
    }
   ],
   "source": [
    "str(123)\n",
    "int(\"123\")\n",
    "float(\"1.23\")"
   ]
  },
  {
   "cell_type": "markdown",
   "metadata": {},
   "source": [
    "### 4.2 Dynamically and Strongly Typed\n",
    "\n",
    "**Dynamically Typed** language: Type of a variable is only evaluated during run time, e.g. during variable creation.\n",
    "\n",
    "**Strongly Typed** language: Variables of different type will not be automatically converted before operation."
   ]
  },
  {
   "cell_type": "markdown",
   "metadata": {},
   "source": [
    "<span style=\"background-color:#ffffba;text-decoration:underline;\">Exercise:</span>\n",
    "Correct the mistake in following code.\n",
    "\n",
    "```python\n",
    "x = 'abc' + 99\n",
    "```"
   ]
  },
  {
   "cell_type": "code",
   "execution_count": null,
   "metadata": {
    "scrolled": false
   },
   "outputs": [],
   "source": []
  }
 ],
 "metadata": {
  "kernelspec": {
   "display_name": "Python 3",
   "language": "python",
   "name": "python3"
  },
  "language_info": {
   "codemirror_mode": {
    "name": "ipython",
    "version": 3
   },
   "file_extension": ".py",
   "mimetype": "text/x-python",
   "name": "python",
   "nbconvert_exporter": "python",
   "pygments_lexer": "ipython3",
   "version": "3.8.5"
  },
  "varInspector": {
   "cols": {
    "lenName": 16,
    "lenType": 16,
    "lenVar": 40
   },
   "kernels_config": {
    "python": {
     "delete_cmd_postfix": "",
     "delete_cmd_prefix": "del ",
     "library": "var_list.py",
     "varRefreshCmd": "print(var_dic_list())"
    },
    "r": {
     "delete_cmd_postfix": ") ",
     "delete_cmd_prefix": "rm(",
     "library": "var_list.r",
     "varRefreshCmd": "cat(var_dic_list()) "
    }
   },
   "types_to_exclude": [
    "module",
    "function",
    "builtin_function_or_method",
    "instance",
    "_Feature"
   ],
   "window_display": false
  }
 },
 "nbformat": 4,
 "nbformat_minor": 2
}
