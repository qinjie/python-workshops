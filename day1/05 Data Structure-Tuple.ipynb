{
 "cells": [
  {
   "cell_type": "markdown",
   "metadata": {},
   "source": [
    "# Data Structure - Tuple\n",
    "\n",
    "**Objectives:**\n",
    "* Tuple Basics\n",
    "* Tuple Packing and Unpacking"
   ]
  },
  {
   "cell_type": "markdown",
   "metadata": {},
   "source": [
    "## 1. How to create a tuple?\n",
    "\n",
    "A Tuple is a collection of Python objects which is **immutable**, i.e. not modifiable after creation.\n",
    "\n",
    "Tuple is created with listed of items surrounded by parentheses **\"( )\"**, and seperated by comma **\",\"**.\n",
    "\n",
    "* To create an empty tuple, simple use **()**\n",
    "* To create a single-item tuple, need to add **common \",\"** behind the element. E.g. `tup = (3,)`"
   ]
  },
  {
   "cell_type": "markdown",
   "metadata": {},
   "source": [
    "**Exercise:**\n",
    "\n",
    "* Create a tuple `t` with values `1, 2, 3, 4`\n",
    "* Print it and its type"
   ]
  },
  {
   "cell_type": "code",
   "execution_count": null,
   "metadata": {},
   "outputs": [],
   "source": []
  },
  {
   "cell_type": "markdown",
   "metadata": {},
   "source": [
    "### Parentheses is Optional\n",
    "\n",
    "In fact, parentheses is optional unless it is to create an empty tuple. "
   ]
  },
  {
   "cell_type": "code",
   "execution_count": null,
   "metadata": {},
   "outputs": [],
   "source": []
  },
  {
   "cell_type": "markdown",
   "metadata": {},
   "source": [
    "## 2. Tuple Unpacking"
   ]
  },
  {
   "cell_type": "markdown",
   "metadata": {},
   "source": [
    "### Function with Multiple Returning Values\n",
    "\n",
    "Function can only return a single value. Multiple values can still be returned as a Tuple."
   ]
  },
  {
   "cell_type": "markdown",
   "metadata": {},
   "source": [
    "**Exercise:**\n",
    "\n",
    "Define a function `minmax()` which fulfills following conditions.\n",
    "* It accepts a list as input\n",
    "* It returns both min and max values of the list"
   ]
  },
  {
   "cell_type": "code",
   "execution_count": null,
   "metadata": {},
   "outputs": [],
   "source": []
  },
  {
   "cell_type": "markdown",
   "metadata": {},
   "source": [
    "### Tuple Unpacking\n",
    "\n",
    "Tuple can be easily unpacked into multiple values.\n",
    "* During unpacking, number of variable needs to match number of items in tuple"
   ]
  },
  {
   "cell_type": "markdown",
   "metadata": {},
   "source": [
    "**Exercise:** \n",
    "\n",
    "How to swap two values `x = 10` and `y = 20` in a single statement?"
   ]
  },
  {
   "cell_type": "code",
   "execution_count": null,
   "metadata": {},
   "outputs": [],
   "source": []
  },
  {
   "cell_type": "markdown",
   "metadata": {},
   "source": [
    "### Rest Operator *"
   ]
  },
  {
   "cell_type": "markdown",
   "metadata": {},
   "source": [
    "You can use `*` to hold any number of unpacked values."
   ]
  },
  {
   "cell_type": "code",
   "execution_count": null,
   "metadata": {},
   "outputs": [],
   "source": []
  }
 ],
 "metadata": {
  "kernelspec": {
   "display_name": "Python 3",
   "language": "python",
   "name": "python3"
  },
  "language_info": {
   "codemirror_mode": {
    "name": "ipython",
    "version": 3
   },
   "file_extension": ".py",
   "mimetype": "text/x-python",
   "name": "python",
   "nbconvert_exporter": "python",
   "pygments_lexer": "ipython3",
   "version": "3.8.3"
  }
 },
 "nbformat": 4,
 "nbformat_minor": 2
}
