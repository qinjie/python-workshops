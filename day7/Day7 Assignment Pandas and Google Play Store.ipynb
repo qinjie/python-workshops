{
 "cells": [
  {
   "cell_type": "markdown",
   "metadata": {},
   "source": [
    "# Assignment - Data Analysis with Pandas \n",
    "\n",
    "\n",
    "The `googleplaystore.csv` file in `data` folder gives the data on apps in **Google Play Store**.\n",
    "\n",
    "#### Data Cleaning\n",
    "---\n",
    "* Convert columns `Reviews`, `Size`, `Installs` and `Price` to numeric values.\n",
    "* Convert column `Last Updated` to datetime.\n",
    "* Remove outlier(s) from `Rating` column.\n",
    "* Save missing records to `\"appstore-data-nan.csv\"` file.\n",
    "* Each app should have only 1 record in the dataframe. Remove duplicated records and keep only first one.\n",
    "* Save final dataframe to `\"appstore-data-cleaned.csv\"` file.\n",
    "\n",
    "#### Data Analysis\n",
    "---\n",
    "* Plot top 10 categories by app count of categories in a pie chart.\n",
    "* Find the category with highest app count.\n",
    "* Plot the average rating of categories as a bar chart.\n",
    "* Find the category with the highest avg rating.\n",
    "* Plot the ratings as histogram with bin size = 0.25."
   ]
  }
 ],
 "metadata": {
  "kernelspec": {
   "display_name": "Python 3",
   "language": "python",
   "name": "python3"
  },
  "language_info": {
   "codemirror_mode": {
    "name": "ipython",
    "version": 3
   },
   "file_extension": ".py",
   "mimetype": "text/x-python",
   "name": "python",
   "nbconvert_exporter": "python",
   "pygments_lexer": "ipython3",
   "version": "3.8.3"
  },
  "varInspector": {
   "cols": {
    "lenName": 16,
    "lenType": 16,
    "lenVar": 40
   },
   "kernels_config": {
    "python": {
     "delete_cmd_postfix": "",
     "delete_cmd_prefix": "del ",
     "library": "var_list.py",
     "varRefreshCmd": "print(var_dic_list())"
    },
    "r": {
     "delete_cmd_postfix": ") ",
     "delete_cmd_prefix": "rm(",
     "library": "var_list.r",
     "varRefreshCmd": "cat(var_dic_list()) "
    }
   },
   "types_to_exclude": [
    "module",
    "function",
    "builtin_function_or_method",
    "instance",
    "_Feature"
   ],
   "window_display": false
  }
 },
 "nbformat": 4,
 "nbformat_minor": 2
}
