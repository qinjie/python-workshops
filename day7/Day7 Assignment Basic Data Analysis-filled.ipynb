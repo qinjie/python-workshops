{
 "cells": [
  {
   "cell_type": "markdown",
   "metadata": {},
   "source": [
    "# Basic Data Analysis\n"
   ]
  },
  {
   "cell_type": "markdown",
   "metadata": {},
   "source": [
    "This exercise uses **Singapore Residents** data from Kaggle https://www.kaggle.com/mohitmaithani/singapore-resident-dataset.\n",
    "* singapore_population.csv"
   ]
  },
  {
   "cell_type": "markdown",
   "metadata": {},
   "source": [
    "Import libraries `pandas` and `matplotlib.pyplot`."
   ]
  },
  {
   "cell_type": "code",
   "execution_count": 1,
   "metadata": {},
   "outputs": [],
   "source": [
    "import pandas as pd\n",
    "import numpy as np\n",
    "import matplotlib.pyplot as plt"
   ]
  },
  {
   "cell_type": "markdown",
   "metadata": {},
   "source": [
    "## Singapore Population Data"
   ]
  },
  {
   "cell_type": "code",
   "execution_count": 3,
   "metadata": {},
   "outputs": [
    {
     "data": {
      "text/plain": [
       "(9600, 5)"
      ]
     },
     "execution_count": 3,
     "metadata": {},
     "output_type": "execute_result"
    }
   ],
   "source": [
    "df = pd.read_csv('data/singapore_population.csv')\n",
    "df.shape"
   ]
  },
  {
   "cell_type": "code",
   "execution_count": 4,
   "metadata": {},
   "outputs": [
    {
     "name": "stdout",
     "output_type": "stream",
     "text": [
      "<class 'pandas.core.frame.DataFrame'>\n",
      "RangeIndex: 9600 entries, 0 to 9599\n",
      "Data columns (total 5 columns):\n",
      " #   Column           Non-Null Count  Dtype \n",
      "---  ------           --------------  ----- \n",
      " 0   year             9600 non-null   int64 \n",
      " 1   ethnicity group  9600 non-null   object\n",
      " 2   gender           9600 non-null   object\n",
      " 3   age              9600 non-null   object\n",
      " 4   population       9600 non-null   int64 \n",
      "dtypes: int64(2), object(3)\n",
      "memory usage: 375.1+ KB\n"
     ]
    }
   ],
   "source": [
    "df.info()"
   ]
  },
  {
   "cell_type": "markdown",
   "metadata": {},
   "source": [
    "### Question: What's Singapore population in year 2015?"
   ]
  },
  {
   "cell_type": "code",
   "execution_count": 57,
   "metadata": {
    "scrolled": true
   },
   "outputs": [
    {
     "data": {
      "text/plain": [
       "year\n",
       "1957    1502203\n",
       "1958    1552500\n",
       "1959    1622900\n",
       "1960    1683900\n",
       "1961    1741200\n",
       "Name: population, dtype: int64"
      ]
     },
     "execution_count": 57,
     "metadata": {},
     "output_type": "execute_result"
    }
   ],
   "source": [
    "df1 = df.groupby('year')['population'].sum()\n",
    "df1.head()"
   ]
  },
  {
   "cell_type": "code",
   "execution_count": 58,
   "metadata": {},
   "outputs": [
    {
     "data": {
      "text/plain": [
       "4907802"
      ]
     },
     "execution_count": 58,
     "metadata": {},
     "output_type": "execute_result"
    }
   ],
   "source": [
    "df1.loc[2015]"
   ]
  },
  {
   "cell_type": "markdown",
   "metadata": {},
   "source": [
    "### Question: Use line graph to show change in Singapore population over the years "
   ]
  },
  {
   "cell_type": "code",
   "execution_count": 74,
   "metadata": {},
   "outputs": [
    {
     "data": {
      "text/plain": [
       "<AxesSubplot:xlabel='year'>"
      ]
     },
     "execution_count": 74,
     "metadata": {},
     "output_type": "execute_result"
    },
    {
     "data": {
      "image/png": "[encoded data removed]",
      "text/plain": [
       "<Figure size 936x360 with 1 Axes>"
      ]
     },
     "metadata": {
      "needs_background": "light"
     },
     "output_type": "display_data"
    }
   ],
   "source": [
    "df1.plot(x='year', marker='o', figsize=(13,5))"
   ]
  },
  {
   "cell_type": "markdown",
   "metadata": {},
   "source": [
    "### Question: Distribution of Singapore population by age groups in 2015"
   ]
  },
  {
   "cell_type": "markdown",
   "metadata": {},
   "source": [
    "Find all records related to year 2015."
   ]
  },
  {
   "cell_type": "code",
   "execution_count": 18,
   "metadata": {
    "scrolled": false
   },
   "outputs": [
    {
     "data": {
      "text/html": [
       "<div>\n",
       "<style scoped>\n",
       "    .dataframe tbody tr th:only-of-type {\n",
       "        vertical-align: middle;\n",
       "    }\n",
       "\n",
       "    .dataframe tbody tr th {\n",
       "        vertical-align: top;\n",
       "    }\n",
       "\n",
       "    .dataframe thead th {\n",
       "        text-align: right;\n",
       "    }\n",
       "</style>\n",
       "<table border=\"1\" class=\"dataframe\">\n",
       "  <thead>\n",
       "    <tr style=\"text-align: right;\">\n",
       "      <th></th>\n",
       "      <th>year</th>\n",
       "      <th>ethnicity group</th>\n",
       "      <th>gender</th>\n",
       "      <th>age</th>\n",
       "      <th>population</th>\n",
       "    </tr>\n",
       "  </thead>\n",
       "  <tbody>\n",
       "    <tr>\n",
       "      <th>8896</th>\n",
       "      <td>2015</td>\n",
       "      <td>malays</td>\n",
       "      <td>male</td>\n",
       "      <td>0  -  4</td>\n",
       "      <td>16276</td>\n",
       "    </tr>\n",
       "    <tr>\n",
       "      <th>8897</th>\n",
       "      <td>2015</td>\n",
       "      <td>malays</td>\n",
       "      <td>male</td>\n",
       "      <td>5  -  9</td>\n",
       "      <td>16575</td>\n",
       "    </tr>\n",
       "    <tr>\n",
       "      <th>8898</th>\n",
       "      <td>2015</td>\n",
       "      <td>malays</td>\n",
       "      <td>male</td>\n",
       "      <td>10 - 14</td>\n",
       "      <td>19016</td>\n",
       "    </tr>\n",
       "    <tr>\n",
       "      <th>8899</th>\n",
       "      <td>2015</td>\n",
       "      <td>malays</td>\n",
       "      <td>male</td>\n",
       "      <td>15 - 19</td>\n",
       "      <td>22504</td>\n",
       "    </tr>\n",
       "    <tr>\n",
       "      <th>8900</th>\n",
       "      <td>2015</td>\n",
       "      <td>malays</td>\n",
       "      <td>male</td>\n",
       "      <td>20 - 24</td>\n",
       "      <td>25006</td>\n",
       "    </tr>\n",
       "  </tbody>\n",
       "</table>\n",
       "</div>"
      ],
      "text/plain": [
       "      year ethnicity group gender       age  population\n",
       "8896  2015          malays   male  0  -  4        16276\n",
       "8897  2015          malays   male  5  -  9        16575\n",
       "8898  2015          malays   male  10 - 14        19016\n",
       "8899  2015          malays   male  15 - 19        22504\n",
       "8900  2015          malays   male  20 - 24        25006"
      ]
     },
     "execution_count": 18,
     "metadata": {},
     "output_type": "execute_result"
    }
   ],
   "source": [
    "df2015 = df[ df['year']==2015 ]\n",
    "df2015.head()"
   ]
  },
  {
   "cell_type": "code",
   "execution_count": 60,
   "metadata": {},
   "outputs": [
    {
     "data": {
      "text/plain": [
       "age\n",
       "0  -  4     183575\n",
       "10 - 14     214388\n",
       "15 - 19     242902\n",
       "20 - 24     264127\n",
       "25 - 29     271030\n",
       "30 - 34     290619\n",
       "35 - 39     301067\n",
       "40 - 44     316755\n",
       "45 - 49     303413\n",
       "5  -  9     204452\n",
       "50 - 54     315091\n",
       "55 - 59     295063\n",
       "60 - 64     240493\n",
       "65 - 69     182425\n",
       "65 - 85     459715\n",
       "70 - 74     102631\n",
       "70 - 85     277290\n",
       "75 - 79      81211\n",
       "75 - 85     174659\n",
       "80 - 84      93448\n",
       "80 - 84      51785\n",
       "85           41663\n",
       "Name: population, dtype: int64"
      ]
     },
     "execution_count": 60,
     "metadata": {},
     "output_type": "execute_result"
    }
   ],
   "source": [
    "summary = df2015.groupby('age')['population'].sum()\n",
    "summary"
   ]
  },
  {
   "cell_type": "code",
   "execution_count": 61,
   "metadata": {
    "scrolled": true
   },
   "outputs": [
    {
     "data": {
      "text/plain": [
       "<AxesSubplot:title={'center':'Population by Age Group (2015)'}, ylabel='age'>"
      ]
     },
     "execution_count": 61,
     "metadata": {},
     "output_type": "execute_result"
    },
    {
     "data": {
      "image/png": "[encoded data removed]",
      "text/plain": [
       "<Figure size 432x288 with 1 Axes>"
      ]
     },
     "metadata": {
      "needs_background": "light"
     },
     "output_type": "display_data"
    }
   ],
   "source": [
    "summary.plot(kind='barh', x='age', y='population', title='Population by Age Group (2015)')"
   ]
  },
  {
   "cell_type": "markdown",
   "metadata": {},
   "source": [
    "### Question: Percentage of male and female population in 2015."
   ]
  },
  {
   "cell_type": "code",
   "execution_count": 47,
   "metadata": {},
   "outputs": [
    {
     "data": {
      "text/plain": [
       "gender\n",
       "female    2558805\n",
       "male      2348997\n",
       "Name: population, dtype: int64"
      ]
     },
     "execution_count": 47,
     "metadata": {},
     "output_type": "execute_result"
    }
   ],
   "source": [
    "summary = df2015.groupby('gender')['population'].sum()\n",
    "summary"
   ]
  },
  {
   "cell_type": "code",
   "execution_count": 48,
   "metadata": {
    "scrolled": true
   },
   "outputs": [
    {
     "data": {
      "text/plain": [
       "<AxesSubplot:title={'center':'Singapore Population 2015'}, ylabel='population'>"
      ]
     },
     "execution_count": 48,
     "metadata": {},
     "output_type": "execute_result"
    },
    {
     "data": {
      "image/png": "[encoded data removed]",
      "text/plain": [
       "<Figure size 432x288 with 1 Axes>"
      ]
     },
     "metadata": {},
     "output_type": "display_data"
    }
   ],
   "source": [
    "summary.plot(kind='pie', y='population', autopct='%.2f', title='Singapore Population 2015')"
   ]
  },
  {
   "cell_type": "markdown",
   "metadata": {},
   "source": [
    "### Question: Distribution of population by race in 2015"
   ]
  },
  {
   "cell_type": "code",
   "execution_count": 49,
   "metadata": {
    "scrolled": true
   },
   "outputs": [
    {
     "data": {
      "text/html": [
       "<div>\n",
       "<style scoped>\n",
       "    .dataframe tbody tr th:only-of-type {\n",
       "        vertical-align: middle;\n",
       "    }\n",
       "\n",
       "    .dataframe tbody tr th {\n",
       "        vertical-align: top;\n",
       "    }\n",
       "\n",
       "    .dataframe thead th {\n",
       "        text-align: right;\n",
       "    }\n",
       "</style>\n",
       "<table border=\"1\" class=\"dataframe\">\n",
       "  <thead>\n",
       "    <tr style=\"text-align: right;\">\n",
       "      <th></th>\n",
       "      <th>year</th>\n",
       "      <th>ethnicity group</th>\n",
       "      <th>gender</th>\n",
       "      <th>age</th>\n",
       "      <th>population</th>\n",
       "    </tr>\n",
       "  </thead>\n",
       "  <tbody>\n",
       "    <tr>\n",
       "      <th>8896</th>\n",
       "      <td>2015</td>\n",
       "      <td>malays</td>\n",
       "      <td>male</td>\n",
       "      <td>0  -  4</td>\n",
       "      <td>16276</td>\n",
       "    </tr>\n",
       "    <tr>\n",
       "      <th>8897</th>\n",
       "      <td>2015</td>\n",
       "      <td>malays</td>\n",
       "      <td>male</td>\n",
       "      <td>5  -  9</td>\n",
       "      <td>16575</td>\n",
       "    </tr>\n",
       "    <tr>\n",
       "      <th>8898</th>\n",
       "      <td>2015</td>\n",
       "      <td>malays</td>\n",
       "      <td>male</td>\n",
       "      <td>10 - 14</td>\n",
       "      <td>19016</td>\n",
       "    </tr>\n",
       "    <tr>\n",
       "      <th>8899</th>\n",
       "      <td>2015</td>\n",
       "      <td>malays</td>\n",
       "      <td>male</td>\n",
       "      <td>15 - 19</td>\n",
       "      <td>22504</td>\n",
       "    </tr>\n",
       "    <tr>\n",
       "      <th>8900</th>\n",
       "      <td>2015</td>\n",
       "      <td>malays</td>\n",
       "      <td>male</td>\n",
       "      <td>20 - 24</td>\n",
       "      <td>25006</td>\n",
       "    </tr>\n",
       "    <tr>\n",
       "      <th>...</th>\n",
       "      <td>...</td>\n",
       "      <td>...</td>\n",
       "      <td>...</td>\n",
       "      <td>...</td>\n",
       "      <td>...</td>\n",
       "    </tr>\n",
       "    <tr>\n",
       "      <th>9067</th>\n",
       "      <td>2015</td>\n",
       "      <td>Other Ethnic Groups</td>\n",
       "      <td>female</td>\n",
       "      <td>65 - 85</td>\n",
       "      <td>2901</td>\n",
       "    </tr>\n",
       "    <tr>\n",
       "      <th>9068</th>\n",
       "      <td>2015</td>\n",
       "      <td>Other Ethnic Groups</td>\n",
       "      <td>female</td>\n",
       "      <td>70 - 85</td>\n",
       "      <td>1800</td>\n",
       "    </tr>\n",
       "    <tr>\n",
       "      <th>9069</th>\n",
       "      <td>2015</td>\n",
       "      <td>Other Ethnic Groups</td>\n",
       "      <td>female</td>\n",
       "      <td>75 - 85</td>\n",
       "      <td>1279</td>\n",
       "    </tr>\n",
       "    <tr>\n",
       "      <th>9070</th>\n",
       "      <td>2015</td>\n",
       "      <td>Other Ethnic Groups</td>\n",
       "      <td>female</td>\n",
       "      <td>80 - 84</td>\n",
       "      <td>767</td>\n",
       "    </tr>\n",
       "    <tr>\n",
       "      <th>9071</th>\n",
       "      <td>2015</td>\n",
       "      <td>Other Ethnic Groups</td>\n",
       "      <td>female</td>\n",
       "      <td>85</td>\n",
       "      <td>379</td>\n",
       "    </tr>\n",
       "  </tbody>\n",
       "</table>\n",
       "<p>176 rows × 5 columns</p>\n",
       "</div>"
      ],
      "text/plain": [
       "      year      ethnicity group  gender       age  population\n",
       "8896  2015               malays    male  0  -  4        16276\n",
       "8897  2015               malays    male  5  -  9        16575\n",
       "8898  2015               malays    male  10 - 14        19016\n",
       "8899  2015               malays    male  15 - 19        22504\n",
       "8900  2015               malays    male  20 - 24        25006\n",
       "...    ...                  ...     ...       ...         ...\n",
       "9067  2015  Other Ethnic Groups  female   65 - 85        2901\n",
       "9068  2015  Other Ethnic Groups  female   70 - 85        1800\n",
       "9069  2015  Other Ethnic Groups  female   75 - 85        1279\n",
       "9070  2015  Other Ethnic Groups  female   80 - 84         767\n",
       "9071  2015  Other Ethnic Groups  female        85         379\n",
       "\n",
       "[176 rows x 5 columns]"
      ]
     },
     "execution_count": 49,
     "metadata": {},
     "output_type": "execute_result"
    }
   ],
   "source": [
    "df2015"
   ]
  },
  {
   "cell_type": "code",
   "execution_count": 64,
   "metadata": {},
   "outputs": [
    {
     "data": {
      "text/plain": [
       "ethnicity group\n",
       "Other Ethnic Groups     140182\n",
       "chinese                3746225\n",
       "indians                 413513\n",
       "malays                  607882\n",
       "Name: population, dtype: int64"
      ]
     },
     "execution_count": 64,
     "metadata": {},
     "output_type": "execute_result"
    }
   ],
   "source": [
    "summary = df2015.groupby('ethnicity group')['population'].sum()\n",
    "summary"
   ]
  },
  {
   "cell_type": "code",
   "execution_count": 68,
   "metadata": {
    "scrolled": true
   },
   "outputs": [
    {
     "data": {
      "image/png": "[encoded data removed]",
      "text/plain": [
       "<Figure size 432x288 with 1 Axes>"
      ]
     },
     "metadata": {
      "needs_background": "light"
     },
     "output_type": "display_data"
    }
   ],
   "source": [
    "ax = summary.plot(kind='bar')"
   ]
  },
  {
   "cell_type": "markdown",
   "metadata": {},
   "source": [
    "### Question: Change in population of each ethnic group over the years."
   ]
  },
  {
   "cell_type": "code",
   "execution_count": 81,
   "metadata": {},
   "outputs": [],
   "source": [
    "gp = df.groupby(['ethnicity group', 'year'])"
   ]
  },
  {
   "cell_type": "code",
   "execution_count": 82,
   "metadata": {},
   "outputs": [
    {
     "data": {
      "text/plain": [
       "ethnicity group      year\n",
       "Other Ethnic Groups  1957     35976\n",
       "                     1958     30000\n",
       "                     1959     30800\n",
       "                     1960     30300\n",
       "                     1961     30300\n",
       "                              ...  \n",
       "malays               2014    599863\n",
       "                     2015    607882\n",
       "                     2016    616566\n",
       "                     2017    626221\n",
       "                     2018    636807\n",
       "Name: population, Length: 248, dtype: int64"
      ]
     },
     "execution_count": 82,
     "metadata": {},
     "output_type": "execute_result"
    }
   ],
   "source": [
    "summary = gp.sum()['population']\n",
    "summary"
   ]
  },
  {
   "cell_type": "code",
   "execution_count": 90,
   "metadata": {},
   "outputs": [
    {
     "data": {
      "text/html": [
       "<div>\n",
       "<style scoped>\n",
       "    .dataframe tbody tr th:only-of-type {\n",
       "        vertical-align: middle;\n",
       "    }\n",
       "\n",
       "    .dataframe tbody tr th {\n",
       "        vertical-align: top;\n",
       "    }\n",
       "\n",
       "    .dataframe thead th {\n",
       "        text-align: right;\n",
       "    }\n",
       "</style>\n",
       "<table border=\"1\" class=\"dataframe\">\n",
       "  <thead>\n",
       "    <tr style=\"text-align: right;\">\n",
       "      <th>ethnicity group</th>\n",
       "      <th>Other Ethnic Groups</th>\n",
       "      <th>chinese</th>\n",
       "      <th>indians</th>\n",
       "      <th>malays</th>\n",
       "    </tr>\n",
       "    <tr>\n",
       "      <th>year</th>\n",
       "      <th></th>\n",
       "      <th></th>\n",
       "      <th></th>\n",
       "      <th></th>\n",
       "    </tr>\n",
       "  </thead>\n",
       "  <tbody>\n",
       "    <tr>\n",
       "      <th>1957</th>\n",
       "      <td>35976</td>\n",
       "      <td>1137408</td>\n",
       "      <td>125912</td>\n",
       "      <td>202907</td>\n",
       "    </tr>\n",
       "    <tr>\n",
       "      <th>1958</th>\n",
       "      <td>30000</td>\n",
       "      <td>1178100</td>\n",
       "      <td>132400</td>\n",
       "      <td>212000</td>\n",
       "    </tr>\n",
       "    <tr>\n",
       "      <th>1959</th>\n",
       "      <td>30800</td>\n",
       "      <td>1235500</td>\n",
       "      <td>133000</td>\n",
       "      <td>223600</td>\n",
       "    </tr>\n",
       "    <tr>\n",
       "      <th>1960</th>\n",
       "      <td>30300</td>\n",
       "      <td>1284000</td>\n",
       "      <td>134400</td>\n",
       "      <td>235200</td>\n",
       "    </tr>\n",
       "    <tr>\n",
       "      <th>1961</th>\n",
       "      <td>30300</td>\n",
       "      <td>1328500</td>\n",
       "      <td>136900</td>\n",
       "      <td>245500</td>\n",
       "    </tr>\n",
       "  </tbody>\n",
       "</table>\n",
       "</div>"
      ],
      "text/plain": [
       "ethnicity group  Other Ethnic Groups  chinese  indians  malays\n",
       "year                                                          \n",
       "1957                           35976  1137408   125912  202907\n",
       "1958                           30000  1178100   132400  212000\n",
       "1959                           30800  1235500   133000  223600\n",
       "1960                           30300  1284000   134400  235200\n",
       "1961                           30300  1328500   136900  245500"
      ]
     },
     "execution_count": 90,
     "metadata": {},
     "output_type": "execute_result"
    }
   ],
   "source": [
    "summary2 = summary.unstack('ethnicity group')\n",
    "summary2.head()"
   ]
  },
  {
   "cell_type": "code",
   "execution_count": 92,
   "metadata": {},
   "outputs": [
    {
     "data": {
      "text/plain": [
       "<AxesSubplot:xlabel='year'>"
      ]
     },
     "execution_count": 92,
     "metadata": {},
     "output_type": "execute_result"
    },
    {
     "data": {
      "image/png": "[encoded data removed]",
      "text/plain": [
       "<Figure size 1080x360 with 1 Axes>"
      ]
     },
     "metadata": {
      "needs_background": "light"
     },
     "output_type": "display_data"
    }
   ],
   "source": [
    "summary2.plot(figsize=(15,5))"
   ]
  }
 ],
 "metadata": {
  "kernelspec": {
   "display_name": "Python 3",
   "language": "python",
   "name": "python3"
  },
  "language_info": {
   "codemirror_mode": {
    "name": "ipython",
    "version": 3
   },
   "file_extension": ".py",
   "mimetype": "text/x-python",
   "name": "python",
   "nbconvert_exporter": "python",
   "pygments_lexer": "ipython3",
   "version": "3.8.5"
  },
  "varInspector": {
   "cols": {
    "lenName": 16,
    "lenType": 16,
    "lenVar": 40
   },
   "kernels_config": {
    "python": {
     "delete_cmd_postfix": "",
     "delete_cmd_prefix": "del ",
     "library": "var_list.py",
     "varRefreshCmd": "print(var_dic_list())"
    },
    "r": {
     "delete_cmd_postfix": ") ",
     "delete_cmd_prefix": "rm(",
     "library": "var_list.r",
     "varRefreshCmd": "cat(var_dic_list()) "
    }
   },
   "types_to_exclude": [
    "module",
    "function",
    "builtin_function_or_method",
    "instance",
    "_Feature"
   ],
   "window_display": false
  }
 },
 "nbformat": 4,
 "nbformat_minor": 2
}
