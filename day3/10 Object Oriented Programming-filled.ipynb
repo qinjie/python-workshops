{
 "cells": [
  {
   "cell_type": "markdown",
   "metadata": {},
   "source": [
    "# Object Oriented Programming\n",
    "\n",
    "**Objectives:**\n",
    "* Define and understand classes and objects.\n",
    "* Understand encapsulation and how classes support information hiding and implementation independence.\n",
    "* Understand inheritance and how it promotes software reuse.\n",
    "* Understand polymorphism and how it enables code generalisation.\n",
    "* Exclude: method overloading and multiple inheritance\n"
   ]
  },
  {
   "cell_type": "markdown",
   "metadata": {},
   "source": [
    "## 1. Class Basics\n",
    "\n",
    "Classes are blueprints/template for objects. They define the **structure** and **behavior** of objects. \n",
    "* Python is highly object-oriented. \n",
    "* But it does not force you to use it until you need to do so. \n",
    "\n",
    "Creating a new object is called `instantiation`. An **object** of a class is also called an **instance** of that class.\n",
    "* Multiple objects can be created from same class."
   ]
  },
  {
   "cell_type": "markdown",
   "metadata": {},
   "source": [
    "### Everything is an Object\n",
    "\n",
    "In Python, everything is an object. \n",
    "* This includes classes (types).\n",
    "* The `id()` method can be used to get unique ID of an object.\n",
    "\n",
    "**Question:**\n",
    "\n",
    "What is the ID of the `str` class, and ID of a str object `a = 'abc'`?"
   ]
  },
  {
   "cell_type": "code",
   "execution_count": 1,
   "metadata": {},
   "outputs": [
    {
     "name": "stdout",
     "output_type": "stream",
     "text": [
      "3046744108272\n",
      "140722196434160\n",
      "140722196434160\n"
     ]
    }
   ],
   "source": [
    "s = 'abc'\n",
    "print(id(s))\n",
    "print(id(type(s)))\n",
    "print(id(str))"
   ]
  },
  {
   "cell_type": "markdown",
   "metadata": {},
   "source": [
    "### Class Definition\n",
    "\n",
    "Classes are defined using the `class` keyword followed by CamelCase name.\n",
    "* Class instances are created by calling the class as if it is a function."
   ]
  },
  {
   "cell_type": "code",
   "execution_count": 24,
   "metadata": {},
   "outputs": [
    {
     "data": {
      "text/plain": [
       "True"
      ]
     },
     "execution_count": 24,
     "metadata": {},
     "output_type": "execute_result"
    }
   ],
   "source": [
    "class Vehicle:\n",
    "    pass\n",
    "\n",
    "v = Vehicle()\n",
    "isinstance(v, Vehicle)"
   ]
  },
  {
   "cell_type": "markdown",
   "metadata": {},
   "source": [
    "When you print an instance, Python shows its class and its memory location."
   ]
  },
  {
   "cell_type": "code",
   "execution_count": 25,
   "metadata": {
    "scrolled": true
   },
   "outputs": [
    {
     "name": "stdout",
     "output_type": "stream",
     "text": [
      "<class '__main__.Vehicle'>\n",
      "<__main__.Vehicle object at 0x000001AEC7D15B38>\n"
     ]
    }
   ],
   "source": [
    "print(Vehicle)\n",
    "print(v)"
   ]
  },
  {
   "cell_type": "markdown",
   "metadata": {},
   "source": [
    "### Initializer Method \\_\\_init\\_\\_()\n",
    "\n",
    "Python class has an initializer method, `__init__()`, which will be automatically called to initialize the newly created object.\n",
    "* `__init__()` is a **dunder** method which generally are used by Python compiler.\n",
    "* Its definition is similar to function definition except that its first argument is `self`.\n",
    "* It can take in additional arguments.\n",
    "\n",
    "#### Instance Attributes\n",
    "\n",
    "Its common to initialize **Instance Attributes** in the initializer method `__init__()`.\n",
    "\n",
    "#### Keyword `self`\n",
    "\n",
    "To access any instance method or instance attribute in the class, you need to prefix it with `self.`."
   ]
  },
  {
   "cell_type": "code",
   "execution_count": 36,
   "metadata": {},
   "outputs": [
    {
     "name": "stdout",
     "output_type": "stream",
     "text": [
      "100 black 6\n"
     ]
    }
   ],
   "source": [
    "class Vehicle:\n",
    "    def __init__(self, horsepower, color='black', wheels=4):\n",
    "        self.horsepower = horsepower\n",
    "        self.color = color\n",
    "        self.wheels = wheels\n",
    "\n",
    "v = Vehicle(100)\n",
    "v.wheels = 6\n",
    "print(v.horsepower, v.color, v.wheels)"
   ]
  },
  {
   "cell_type": "markdown",
   "metadata": {},
   "source": [
    "### Instance Methods\n",
    "\n",
    "**Methods** are functions defined within a class.\n",
    "**Instance Methods** are functions can be called on objects. \n",
    "* It defines the **behavior** of objects of the class.\n",
    "* Methods are called using `instance.method()`. \n",
    "\n",
    "**Argument `self`**\n",
    "* The `self` attribute must be the first input parameter for all instance methods.\n",
    "* The `self` attribute is refer to current object of the class, i.e. the instance calling the method. \n",
    "    * This is similar to the `this` in C# or Java.\n",
    "* When a instance method is called, `self` argument is omitted."
   ]
  },
  {
   "cell_type": "code",
   "execution_count": 4,
   "metadata": {},
   "outputs": [
    {
     "data": {
      "text/plain": [
       "'100 hp = 74.5699872 kw'"
      ]
     },
     "execution_count": 4,
     "metadata": {},
     "output_type": "execute_result"
    }
   ],
   "source": [
    "class Vehicle:\n",
    "    def __init__(self, horsepower, color='black'):\n",
    "        self.horsepower = horsepower\n",
    "        self.color = color\n",
    "        \n",
    "    def engine_power_kw(self):\n",
    "        return self.horsepower * 0.745699872\n",
    "\n",
    "v = Vehicle(100, 'Blue')\n",
    "'{} hp = {} kw'.format(v.horsepower, v.engine_power_kw())"
   ]
  },
  {
   "cell_type": "markdown",
   "metadata": {},
   "source": [
    "### Implement `__str__()` for Custom Object\n",
    "\n",
    "By default, our `Vehicle` class inherits `__str__()` method from `Object` class, which print class name and memory location of the object. "
   ]
  },
  {
   "cell_type": "code",
   "execution_count": 5,
   "metadata": {},
   "outputs": [
    {
     "name": "stdout",
     "output_type": "stream",
     "text": [
      "<__main__.Vehicle object at 0x000002662B938EF0>\n"
     ]
    }
   ],
   "source": [
    "class Vehicle:\n",
    "    def __init__(self, plate):\n",
    "        self.plate = plate\n",
    "\n",
    "v1 = Vehicle('A1234')\n",
    "\n",
    "print(str(v1))"
   ]
  },
  {
   "cell_type": "markdown",
   "metadata": {},
   "source": [
    "**Exercise:**\n",
    "\n",
    "For our `Vehicle` class to support `str()` method, we can implement `__str__()` method in the class."
   ]
  },
  {
   "cell_type": "code",
   "execution_count": 6,
   "metadata": {},
   "outputs": [
    {
     "name": "stdout",
     "output_type": "stream",
     "text": [
      "Vehicle: A1234\n"
     ]
    }
   ],
   "source": [
    "class Vehicle:\n",
    "    def __init__(self, plate):\n",
    "        self.plate = plate\n",
    "    \n",
    "    def __str__(self):\n",
    "        return 'Vehicle: {}'.format(self.plate)\n",
    "\n",
    "v = Vehicle('A1234')\n",
    "print(str(v))\n"
   ]
  },
  {
   "cell_type": "markdown",
   "metadata": {},
   "source": [
    "## 2. Class Attributes, Static Methods and Class Methods (Optional)"
   ]
  },
  {
   "cell_type": "markdown",
   "metadata": {},
   "source": [
    "### Class Attributes\n",
    "\n",
    "Class Attributes are attributes which belong to class instead of a particular object.\n",
    "* It can be accessed through either class or instance.\n",
    "\n",
    "We can use class attributes to keep a rolling value which is shared among all instances. For example, we would like to keep track of number of Customers and assign each customer a unique serial number."
   ]
  },
  {
   "cell_type": "code",
   "execution_count": 7,
   "metadata": {},
   "outputs": [
    {
     "name": "stdout",
     "output_type": "stream",
     "text": [
      "1\n",
      "2\n",
      "3 3 3\n"
     ]
    }
   ],
   "source": [
    "class Customer:\n",
    "\n",
    "    next_serial = 1\n",
    "    \n",
    "    def __init__(self):\n",
    "        self.serial = Customer.next_serial\n",
    "        Customer.next_serial += 1\n",
    "\n",
    "## Test\n",
    "s1 = Customer()\n",
    "s2 = Customer()\n",
    "print(s1.serial)\n",
    "print(s2.serial)\n",
    "print(Customer.next_serial, s1.next_serial, s2.next_serial)"
   ]
  },
  {
   "cell_type": "markdown",
   "metadata": {},
   "source": [
    "### Static Methods\n",
    "\n",
    "In Python, all instance methods have `self` as their first argument. \n",
    "\n",
    "Static methods in Python are similar to instance methods, the difference being that a static method is bound to a class rather than the objects for that class.\n",
    "* A static method is a method which does not has `self` as its first argument. \n",
    "* It can be called without an object of that class. \n",
    "* This also means that static methods cannot modify the state of an object as they are not bound to it. \n",
    "\n",
    "Static method are declared using `@staticmethod` decorator. \n",
    "* The `@staticmethod` decorator is optional. But static method without `@staticmethod` decorator cannot be called from its instance."
   ]
  },
  {
   "cell_type": "code",
   "execution_count": null,
   "metadata": {},
   "outputs": [],
   "source": [
    "class Calculator:\n",
    "    @staticmethod\n",
    "    def add(x, y):\n",
    "        return x + y\n",
    "\n",
    "Calculator.add(1,2)"
   ]
  },
  {
   "cell_type": "markdown",
   "metadata": {},
   "source": [
    "### Class Methods\n",
    "\n",
    "Class methods are much like **static method**. They are methods that are bound to a class rather than its object.\n",
    "\n",
    "The difference between a static method and a class method is:\n",
    "* Static method knows nothing about the class and just deals with the parameters.\n",
    "* Class method works with the class since its parameter is always the class itself.\n",
    "\n",
    "To create a class method, use `@classmethod` decorator."
   ]
  },
  {
   "cell_type": "code",
   "execution_count": null,
   "metadata": {},
   "outputs": [],
   "source": [
    "class Converter:\n",
    "\n",
    "    PI = 3.1415926\n",
    "    \n",
    "    @classmethod\n",
    "    def rad_to_degree(cls, r):\n",
    "        d = r/cls.PI*180\n",
    "        return d\n",
    "\n",
    "Converter.rad_to_degree(3.1415926)"
   ]
  },
  {
   "cell_type": "markdown",
   "metadata": {},
   "source": [
    "## 3. Inheritance (Optional)\n",
    "\n",
    "Similar to other programming languages, Python allows class inheritance.\n",
    "\n",
    "In following code sample, both class `B` and `C` inherit from class `A`.\n",
    "* The special attribute `__base__` returns its 1st base class. To get all base classes, use attribute `__bases__`.\n",
    "* We can test whether a class is subclass of one or more classes using `issubclass()` method."
   ]
  },
  {
   "cell_type": "code",
   "execution_count": 9,
   "metadata": {},
   "outputs": [
    {
     "name": "stdout",
     "output_type": "stream",
     "text": [
      "<class 'object'>\n",
      "<class '__main__.A'>\n",
      "True\n"
     ]
    }
   ],
   "source": [
    "class A:\n",
    "    pass\n",
    "    \n",
    "class B(A):\n",
    "    pass\n",
    "\n",
    "print(A.__base__)\n",
    "print(B.__base__)\n",
    "print(issubclass(B,A))"
   ]
  },
  {
   "cell_type": "markdown",
   "metadata": {},
   "source": [
    "### Method Overriding\n",
    "\n",
    "A subclass may override a method defined in its superclass. \n",
    "\n",
    "#### Example:\n",
    "* Class B doesnot override `hi()` method in class A\n",
    "* Class C overrides `hi()` method in class B"
   ]
  },
  {
   "cell_type": "code",
   "execution_count": 28,
   "metadata": {},
   "outputs": [
    {
     "name": "stdout",
     "output_type": "stream",
     "text": [
      "hi A\n",
      "hi C\n"
     ]
    }
   ],
   "source": [
    "class A:\n",
    "    def hi(self):\n",
    "        print('hi A')\n",
    "\n",
    "class B(A):\n",
    "    pass\n",
    "\n",
    "class C(A):\n",
    "    def hi(self):\n",
    "        print('hi C')\n",
    "\n",
    "b = B()\n",
    "b.hi()\n",
    "c = C()\n",
    "c.hi()"
   ]
  },
  {
   "cell_type": "markdown",
   "metadata": {},
   "source": [
    "### Super Function - super()\n",
    "\n",
    "With inheritance, the super() function allows us to call a method from the parent class."
   ]
  },
  {
   "cell_type": "code",
   "execution_count": 15,
   "metadata": {},
   "outputs": [
    {
     "name": "stdout",
     "output_type": "stream",
     "text": [
      "hi A\n",
      "hi C\n"
     ]
    }
   ],
   "source": [
    "class A:\n",
    "        \n",
    "    def hi(self):\n",
    "        print('hi A' )\n",
    "        \n",
    "class C(A):\n",
    "    \n",
    "    def hi(self):\n",
    "        super().hi()\n",
    "        print('hi C')\n",
    "\n",
    "c = C()\n",
    "c.hi()"
   ]
  },
  {
   "cell_type": "markdown",
   "metadata": {},
   "source": [
    "### Method Overloading - NOT AVAILABLE\n",
    "\n",
    "Python doesnot support method overloading. It keeps only the latest definition of the method. \n"
   ]
  },
  {
   "cell_type": "code",
   "execution_count": 16,
   "metadata": {},
   "outputs": [
    {
     "data": {
      "text/plain": [
       "6"
      ]
     },
     "execution_count": 16,
     "metadata": {},
     "output_type": "execute_result"
    }
   ],
   "source": [
    "def add(a,b):\n",
    "    return a+b\n",
    "\n",
    "def add(a,b,c):\n",
    "    return a+b+c\n",
    "\n",
    "add(1,2,3)\n",
    "\n",
    "## Raise a TypeError\n",
    "# add(2,3)"
   ]
  }
 ],
 "metadata": {
  "kernelspec": {
   "display_name": "Python 3",
   "language": "python",
   "name": "python3"
  },
  "language_info": {
   "codemirror_mode": {
    "name": "ipython",
    "version": 3
   },
   "file_extension": ".py",
   "mimetype": "text/x-python",
   "name": "python",
   "nbconvert_exporter": "python",
   "pygments_lexer": "ipython3",
   "version": "3.8.3"
  }
 },
 "nbformat": 4,
 "nbformat_minor": 2
}
