{
 "cells": [
  {
   "cell_type": "markdown",
   "metadata": {},
   "source": [
    "# Assignment - CSV Files"
   ]
  },
  {
   "cell_type": "markdown",
   "metadata": {},
   "source": [
    "## 1. \n",
    "\n",
    "Using `csv` module, convert the csv file `olympics-medals.csv` into a tab-limited file `olympics-medals.tsv`."
   ]
  },
  {
   "cell_type": "code",
   "execution_count": 1,
   "metadata": {},
   "outputs": [
    {
     "name": "stdout",
     "output_type": "stream",
     "text": [
      "415\n",
      "[['NOC', 'Country', 'Total', 'Medal'], ['USA', 'United States', '2088', 'Gold'], ['URS', 'Soviet Union', '838', 'Gold']]\n"
     ]
    }
   ],
   "source": [
    "import csv\n",
    "\n",
    "with open('./data/olympics-medals.csv') as f:\n",
    "    reader = csv.reader(f)\n",
    "    data = list(reader)\n",
    "    \n",
    "print(len(data))\n",
    "print(data[:3])\n",
    "\n",
    "with open('./data/olympics-medals.tsv', 'w', newline='') as f:\n",
    "    writer = csv.writer(f, delimiter='\\t')\n",
    "    writer.writerows(data)\n"
   ]
  },
  {
   "cell_type": "code",
   "execution_count": 12,
   "metadata": {},
   "outputs": [],
   "source": [
    "import csv\n",
    "\n",
    "with open('./data/olympics-medals.csv') as f1:\n",
    "    with open('./data/olympics-medals.tsv', 'w', newline='') as f2:\n",
    "        reader = csv.reader(f1)\n",
    "        writer = csv.writer(f2, delimiter='\\t')\n",
    "        for line in reader:\n",
    "            writer.writerow(line)"
   ]
  },
  {
   "cell_type": "markdown",
   "metadata": {},
   "source": [
    "#### Test"
   ]
  },
  {
   "cell_type": "code",
   "execution_count": 13,
   "metadata": {},
   "outputs": [],
   "source": [
    "!notepad ./data/olympics-medals.tsv"
   ]
  },
  {
   "cell_type": "markdown",
   "metadata": {},
   "source": [
    "## 2. \n",
    "\n",
    "Use csv module to implement following script:\n",
    "* Ask user input a NOC value\n",
    "* With data in the `olympics-medals.csv`, find out the total number of medals won by that country\n",
    "\n",
    "<u>Sample Output:</u>\n",
    "```\n",
    "Country NOC: SIN\n",
    "4\n",
    "```"
   ]
  },
  {
   "cell_type": "code",
   "execution_count": 13,
   "metadata": {},
   "outputs": [
    {
     "name": "stdout",
     "output_type": "stream",
     "text": [
      "Country NOC: SIN\n",
      "4\n"
     ]
    }
   ],
   "source": [
    "noc = input('Country NOC: ')\n",
    "total = 0\n",
    "\n",
    "with open('./data/olympics-medals.csv') as f1:\n",
    "    reader = csv.reader(f1)\n",
    "    for line in reader:\n",
    "        if line[0] == noc and line[2] != '':\n",
    "            total = total + int(line[2])\n",
    "            \n",
    "print(total)"
   ]
  }
 ],
 "metadata": {
  "kernelspec": {
   "display_name": "Python 3",
   "language": "python",
   "name": "python3"
  },
  "language_info": {
   "codemirror_mode": {
    "name": "ipython",
    "version": 3
   },
   "file_extension": ".py",
   "mimetype": "text/x-python",
   "name": "python",
   "nbconvert_exporter": "python",
   "pygments_lexer": "ipython3",
   "version": "3.8.3"
  }
 },
 "nbformat": 4,
 "nbformat_minor": 2
}
