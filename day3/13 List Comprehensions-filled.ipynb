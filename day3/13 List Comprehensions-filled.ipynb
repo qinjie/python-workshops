{
 "cells": [
  {
   "attachments": {
    "image.png": {
     "image/png": "[encoded data removed]"
    }
   },
   "cell_type": "markdown",
   "metadata": {
    "slideshow": {
     "slide_type": "slide"
    }
   },
   "source": [
    "# List Comprehensions\n",
    "\n",
    "Comprehensions provide an easy way to build sequences from other sequences.\n",
    "\n",
    "A comprehension construct consists of following parts:\n",
    "* An Input Sequence\n",
    "* A Variable representing members of the input sequence\n",
    "* An Output Expression producing elements of the output list from members of the Input Sequence\n",
    "* An Optional Predicate expression which filters the input sequence\n",
    "\n",
    "![image.png](attachment:image.png)"
   ]
  },
  {
   "cell_type": "markdown",
   "metadata": {},
   "source": [
    "## 1. Basic Comprehension"
   ]
  },
  {
   "cell_type": "markdown",
   "metadata": {},
   "source": [
    "**Try Code:**\n",
    "\n",
    "Use list comprehension to generate a list `list1 = x * 2`, where x is between 0 and 9.\n",
    "\n",
    "```\n",
    "[x*2 for x in range(10)]\n",
    "```"
   ]
  },
  {
   "cell_type": "code",
   "execution_count": 21,
   "metadata": {},
   "outputs": [
    {
     "data": {
      "text/plain": [
       "[0, 2, 4, 6, 8, 10, 12, 14, 16, 18]"
      ]
     },
     "execution_count": 21,
     "metadata": {},
     "output_type": "execute_result"
    }
   ],
   "source": [
    "[x*2 for x in range(10)]"
   ]
  },
  {
   "cell_type": "markdown",
   "metadata": {},
   "source": [
    "Use `while-loop` to implement equivalent code."
   ]
  },
  {
   "cell_type": "code",
   "execution_count": 20,
   "metadata": {},
   "outputs": [
    {
     "name": "stdout",
     "output_type": "stream",
     "text": [
      "[0, 2, 4, 6, 8, 10, 12, 14, 16, 18]\n"
     ]
    }
   ],
   "source": [
    "x = 0\n",
    "result = []\n",
    "while x < 10:\n",
    "    result.append(x*2)\n",
    "    x = x + 1\n",
    "\n",
    "print(result)"
   ]
  },
  {
   "cell_type": "markdown",
   "metadata": {},
   "source": [
    "**Exercise:**\n",
    "\n",
    "Use list comprehension to generate a list of numbers wihch are `x * 2` if `x` is even or `x * 3` if `x` is odd, where x is between 0 and 9."
   ]
  },
  {
   "cell_type": "code",
   "execution_count": 23,
   "metadata": {},
   "outputs": [
    {
     "data": {
      "text/plain": [
       "[0, 3, 4, 9, 8, 15, 12, 21, 16, 27]"
      ]
     },
     "execution_count": 23,
     "metadata": {},
     "output_type": "execute_result"
    }
   ],
   "source": [
    "[x*2 if x%2==0 else x*3 for x in range(10)]"
   ]
  },
  {
   "cell_type": "markdown",
   "metadata": {},
   "source": [
    "Use `for-loop` to implement equivalent code."
   ]
  },
  {
   "cell_type": "code",
   "execution_count": 26,
   "metadata": {},
   "outputs": [
    {
     "name": "stdout",
     "output_type": "stream",
     "text": [
      "[0, 3, 4, 9, 8, 15, 12, 21, 16, 27]\n"
     ]
    }
   ],
   "source": [
    "result = []\n",
    "for x in range(10):\n",
    "    result.append(x*2 if x % 2 ==0 else x*3)\n",
    "\n",
    "print(result)"
   ]
  },
  {
   "cell_type": "markdown",
   "metadata": {},
   "source": [
    "## 2. Comprehension with Filtering\n",
    "\n",
    "You can filter list items in the comprehension using `if-statement`. Items will be included when the `if-statement` is evaluated to True.  \n",
    "* Note the difference between if-statements before for-loop and if-statements after for-loop"
   ]
  },
  {
   "cell_type": "markdown",
   "metadata": {},
   "source": [
    "**Exercise:**\n",
    "\n",
    "Use list comprehension to generate a list of numbers wihch are `x^2` if `x` is divisible by both 2 and 3, where `x` is between 0 and 19"
   ]
  },
  {
   "cell_type": "code",
   "execution_count": 28,
   "metadata": {},
   "outputs": [
    {
     "data": {
      "text/plain": [
       "[0, 12, 24, 36]"
      ]
     },
     "execution_count": 28,
     "metadata": {},
     "output_type": "execute_result"
    }
   ],
   "source": [
    "[x*2 for x in range(20) if x%2==0 and x%3==0]"
   ]
  },
  {
   "cell_type": "markdown",
   "metadata": {},
   "source": [
    "Use `for-loop` to implement equivalent code."
   ]
  },
  {
   "cell_type": "code",
   "execution_count": 27,
   "metadata": {},
   "outputs": [
    {
     "name": "stdout",
     "output_type": "stream",
     "text": [
      "[0, 12, 24, 36]\n"
     ]
    }
   ],
   "source": [
    "result = []\n",
    "for x in range(20):\n",
    "    if x%2 == 0 and x%3 == 0:\n",
    "        result.append(x*2)\n",
    "\n",
    "print(result)"
   ]
  },
  {
   "cell_type": "markdown",
   "metadata": {},
   "source": [
    "## 3. Comprehension with Nested Loops (Optional)\n",
    "Comprehension also allow you to generate list with nested loops. Subsecquent `for-loop` is nested in previous `for-loop`. "
   ]
  },
  {
   "cell_type": "markdown",
   "metadata": {},
   "source": [
    "**Exercise:**\n",
    "\n",
    "Implement a function `nested()` which generates and returns following nested list using duble for-loops.\n",
    "\n",
    "`[[0, 100], [0, 101], [0, 102], [1, 100], [1, 101], [1, 102], [2, 100], [2, 101], [2, 102]]`"
   ]
  },
  {
   "cell_type": "code",
   "execution_count": 3,
   "metadata": {},
   "outputs": [
    {
     "name": "stdout",
     "output_type": "stream",
     "text": [
      "[[0, 100], [0, 101], [0, 102], [1, 100], [1, 101], [1, 102], [2, 100], [2, 101], [2, 102]]\n"
     ]
    }
   ],
   "source": [
    "def nested():\n",
    "    result = []\n",
    "    for x in range(3):\n",
    "        for y in range(100, 103):\n",
    "            result.append([x,y])\n",
    "    return result\n",
    "\n",
    "r = nested()\n",
    "# import pprint\n",
    "# pprint.pprint(r)\n",
    "print(r)"
   ]
  },
  {
   "cell_type": "markdown",
   "metadata": {},
   "source": [
    "**Exercise:**\n",
    "\n",
    "Use list comprehension to generate re-write above funtion."
   ]
  },
  {
   "cell_type": "code",
   "execution_count": 4,
   "metadata": {},
   "outputs": [
    {
     "name": "stdout",
     "output_type": "stream",
     "text": [
      "[[0, 100], [0, 101], [0, 102], [1, 100], [1, 101], [1, 102], [2, 100], [2, 101], [2, 102]]\n"
     ]
    }
   ],
   "source": [
    "def nested():\n",
    "    return [[x,y] for x in range(3) for y in range(100,103)]\n",
    "\n",
    "r = nested()\n",
    "print(r)"
   ]
  }
 ],
 "metadata": {
  "kernelspec": {
   "display_name": "Python 3",
   "language": "python",
   "name": "python3"
  },
  "language_info": {
   "codemirror_mode": {
    "name": "ipython",
    "version": 3
   },
   "file_extension": ".py",
   "mimetype": "text/x-python",
   "name": "python",
   "nbconvert_exporter": "python",
   "pygments_lexer": "ipython3",
   "version": "3.8.3"
  }
 },
 "nbformat": 4,
 "nbformat_minor": 2
}
