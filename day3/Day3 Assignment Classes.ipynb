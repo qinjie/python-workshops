{
 "cells": [
  {
   "cell_type": "markdown",
   "metadata": {},
   "source": [
    "# Assignment - Classes"
   ]
  },
  {
   "cell_type": "markdown",
   "metadata": {},
   "source": [
    "## 1. Basic Class\n",
    "\n",
    "\n",
    "### 1.1 Class `Point`\n",
    "Create a Python class `Point` which contains 2 attributes, `x` and `y`, representing x and y coordinate of the point. \n",
    "* Implement initializer method which initialize `x` and `y`.\n",
    "* Implement a instance method `dist_to_origin()` which return distance from origin using formular `math.sqrt(x**2 + y**2)`. \n",
    "* Implement `__str__()` which returns \"(x,y)\", e.g. \"(3.0,4.0)\"\n",
    "\n",
    "#### Sample Output\n",
    "```\n",
    "(3.0, 4.0)\n",
    "5.0\n",
    "```"
   ]
  },
  {
   "cell_type": "code",
   "execution_count": 3,
   "metadata": {},
   "outputs": [],
   "source": []
  },
  {
   "cell_type": "markdown",
   "metadata": {},
   "source": [
    "#### Testing"
   ]
  },
  {
   "cell_type": "code",
   "execution_count": 61,
   "metadata": {},
   "outputs": [
    {
     "name": "stdout",
     "output_type": "stream",
     "text": [
      "3 4\n",
      "(3, 4)\n",
      "Point (3, 4) is 5.0 away from origin\n"
     ]
    }
   ],
   "source": [
    "p = Point(3, 4)\n",
    "# Print str() value of p\n",
    "print(p)\n",
    "# Distance to origin from p\n",
    "d = p.dist_to_origin()\n",
    "print(d)"
   ]
  },
  {
   "cell_type": "markdown",
   "metadata": {},
   "source": [
    "### 1.2 Class `Rectangle`\n",
    "Create a Python class `Rectangle` which contains 3 attributes, `width`, `height` and `corner`. The `corner` is of `Point` type, which gives coordinate of bottom left corner of the rectangle.\n",
    "* Implement initializer method which initialize `width`, `height` and `corner`. \n",
    "* Implement a instance method `get_centre()` which returns a `Point` boject representing centre point of the rectance.\n",
    "* Implement a instance method `scale(val)` which scale width and height by `val` times. \n",
    "\n",
    "#### Sample Output\n",
    "```\n",
    "(12.0, 22.0)  # print return value from `get_centre()`\n",
    "Rectangle(20, 40) at point (2.0, 2.0)   # return value of `str()`\n",
    "\n",
    "```"
   ]
  },
  {
   "cell_type": "code",
   "execution_count": null,
   "metadata": {},
   "outputs": [],
   "source": []
  },
  {
   "cell_type": "markdown",
   "metadata": {},
   "source": [
    "#### Test"
   ]
  },
  {
   "cell_type": "code",
   "execution_count": 1,
   "metadata": {},
   "outputs": [],
   "source": [
    "r = Rectangle(20, 40, Point(2,2))\n",
    "# print return value from `get_centre()`\n",
    "print(r.get_centre())\n",
    "# print str() value fo `r`\n",
    "print(r)"
   ]
  }
 ],
 "metadata": {
  "kernelspec": {
   "display_name": "Python 3",
   "language": "python",
   "name": "python3"
  },
  "language_info": {
   "codemirror_mode": {
    "name": "ipython",
    "version": 3
   },
   "file_extension": ".py",
   "mimetype": "text/x-python",
   "name": "python",
   "nbconvert_exporter": "python",
   "pygments_lexer": "ipython3",
   "version": "3.8.3"
  }
 },
 "nbformat": 4,
 "nbformat_minor": 2
}
