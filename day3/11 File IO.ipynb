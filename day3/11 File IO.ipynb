{
 "cells": [
  {
   "cell_type": "markdown",
   "metadata": {},
   "source": [
    "# File IO\n",
    "\n",
    "You will learn about Python file operations. More specifically, opening a file, reading from it, writing into it, closing it and various file methods."
   ]
  },
  {
   "cell_type": "markdown",
   "metadata": {},
   "source": [
    "#### Write a Cell to File in Jupytor Notebook\n",
    "\n",
    "Jupyter Notebook provides a magic function `%%file` to export the content in a cell to a file.\n",
    "* <u>Note:</u> Any magic function staring with `%%` must be at first line of the cell, and it is applied to all lines below it. "
   ]
  },
  {
   "cell_type": "markdown",
   "metadata": {},
   "source": [
    "**Try Code:**\n",
    "\n",
    "Create a file `quote.txt` by running following code.\n",
    "\n",
    "```\n",
    "%%file 'quote.txt'\n",
    "Give a man a program, frustrate him for a day.\n",
    "Teach a man to program, frustrate him for a lifetime.\n",
    "```"
   ]
  },
  {
   "cell_type": "code",
   "execution_count": 2,
   "metadata": {},
   "outputs": [
    {
     "name": "stdout",
     "output_type": "stream",
     "text": [
      "Writing quote.txt\n"
     ]
    }
   ],
   "source": [
    "%%file 'quote.txt'\n",
    "Give a man a program, frustrate him for a day.\n",
    "Teach a man to program, frustrate him for a lifetime."
   ]
  },
  {
   "cell_type": "markdown",
   "metadata": {},
   "source": [
    "## 1. Introduction\n",
    "\n",
    "### What is File?\n",
    "\n",
    "File is a named location on disk to store related information. \n",
    "* It uses non-volatile memory, e.g. hard disk, to store data permanently.\n",
    "\n",
    "A file operation takes place in following order:\n",
    "* Open a file\n",
    "* Read or Write (perform operations)\n",
    "* Close the file\n",
    "\n",
    "A file can be **text** or **binary** format."
   ]
  },
  {
   "cell_type": "markdown",
   "metadata": {},
   "source": [
    "### Open File\n",
    "\n",
    "Python has a built-in function `open(file_path)` to open a file. \n",
    "* The `open()` function returns a file object, also called a file handler, as it is used to read or modify the file accordingly.\n",
    "\n",
    "To read data from a file object, use its `read()` method.\n",
    "\n",
    "To close a file object, uses its `close()` method."
   ]
  },
  {
   "cell_type": "markdown",
   "metadata": {},
   "source": [
    "**Exercise:**\n",
    "\n",
    "Read and print out content in file `quote.txt`, which is created in previous step."
   ]
  },
  {
   "cell_type": "code",
   "execution_count": 3,
   "metadata": {
    "scrolled": true
   },
   "outputs": [
    {
     "name": "stdout",
     "output_type": "stream",
     "text": [
      "Give a man a program, frustrate him for a day.\n",
      "Teach a man to program, frustrate him for a lifetime.\n",
      "\n"
     ]
    }
   ],
   "source": []
  },
  {
   "cell_type": "markdown",
   "metadata": {},
   "source": [
    "**Question:**\n",
    "\n",
    "What will be the returned value of `read()` function when the function is called second time?"
   ]
  },
  {
   "cell_type": "code",
   "execution_count": 11,
   "metadata": {},
   "outputs": [
    {
     "name": "stdout",
     "output_type": "stream",
     "text": [
      "\n"
     ]
    }
   ],
   "source": []
  },
  {
   "cell_type": "markdown",
   "metadata": {},
   "source": [
    "#### Filepath\n",
    "The `filepath` can be a relative or absolute path. \n",
    "* If only file name is specified, Python assume the file is in the same folder as current Python kernel\n",
    "* When specifying full path, use `/` instead of `\\`, which is used as escape character in string"
   ]
  },
  {
   "cell_type": "code",
   "execution_count": 10,
   "metadata": {
    "scrolled": false
   },
   "outputs": [
    {
     "name": "stdout",
     "output_type": "stream",
     "text": [
      "D:\\GoogleDrive\\Learn-Python\\Python-MOE-Teacher-Training-2020\\09 File IO\\quote.txt\n"
     ]
    }
   ],
   "source": []
  },
  {
   "cell_type": "markdown",
   "metadata": {},
   "source": [
    "**Question:** \n",
    "\n",
    "What if I foget to close the file?  \n"
   ]
  },
  {
   "cell_type": "raw",
   "metadata": {},
   "source": []
  },
  {
   "cell_type": "markdown",
   "metadata": {},
   "source": [
    "## 2. Operation Mode\n",
    "\n",
    "You can specify the mode used to open a file by applying a second argument to the open function.\n",
    "* `r`/`w`/`a`: Are you reading, writing or appending a file?\n",
    "* `t`/`b`: Is it a text or binary file?\n",
    "\n",
    "```python\n",
    "f = open(filepath, mode)\n",
    "```\n",
    "\n",
    "### Read / Write / Append\n",
    "The `mode` specifies how you want to work with the file.\n",
    "* `'r'`: read mode, which is the default. \n",
    "* `'w'`: write mode, for overwriting the contents of a file. Existing file content will be lost.\n",
    "* `'a'`: append mode, for appending new content to the end of the file. Existing content in the file will not be lost."
   ]
  },
  {
   "cell_type": "markdown",
   "metadata": {},
   "source": [
    "**Exercise:**\n",
    "\n",
    "Complete following operations using `with` code block:\n",
    "* Write `\"Alexa, \"` to a file `test.txt`. This operator will overwrite any content in the file.\n",
    "* Append `\"Good morning!\\n\"` to the file `test.txt`.\n",
    "* Append `\"What time is it?\"` to the file `test.txt`.\n",
    "* Read and print out content from the file `test.txt`."
   ]
  },
  {
   "cell_type": "code",
   "execution_count": 44,
   "metadata": {},
   "outputs": [
    {
     "name": "stdout",
     "output_type": "stream",
     "text": [
      "Alexa, Good morning!\n",
      "What time is it?\n"
     ]
    }
   ],
   "source": []
  },
  {
   "cell_type": "markdown",
   "metadata": {},
   "source": [
    "### Write a String\n",
    "The `write()` method returns number of characters written to the file.\n",
    "* <u>Note:</u> It counts special characters too."
   ]
  },
  {
   "cell_type": "code",
   "execution_count": 1,
   "metadata": {},
   "outputs": [
    {
     "name": "stdout",
     "output_type": "stream",
     "text": [
      "36\n",
      "36\n"
     ]
    }
   ],
   "source": []
  },
  {
   "cell_type": "markdown",
   "metadata": {},
   "source": [
    "Open the file `test.txt` and examine text inside it. All special characters are handled properly.\n",
    "\n",
    "**Try Code:**\n",
    "```bash\n",
    "!notepad test.txt\n",
    "```"
   ]
  },
  {
   "cell_type": "code",
   "execution_count": 38,
   "metadata": {},
   "outputs": [],
   "source": []
  },
  {
   "cell_type": "markdown",
   "metadata": {},
   "source": [
    "### Read by Lines"
   ]
  },
  {
   "cell_type": "markdown",
   "metadata": {},
   "source": [
    "Compared to `read()` function, which return all content in a single string, the `readlines()` function returns a list, where each item contains a line.\n",
    "\n",
    "**NOTE:** No character is removed, e.g. new line character `\\n` at the end of a line."
   ]
  },
  {
   "cell_type": "code",
   "execution_count": 54,
   "metadata": {
    "scrolled": false
   },
   "outputs": [
    {
     "name": "stdout",
     "output_type": "stream",
     "text": [
      "'HelloWorld\\nfrom\\nSingapore'\n",
      "['HelloWorld\\n', 'from\\n', 'Singapore']\n"
     ]
    }
   ],
   "source": []
  },
  {
   "cell_type": "markdown",
   "metadata": {},
   "source": [
    "In fact, file object can be passed directly to `for-loop`, which will iterate through the file line by line."
   ]
  },
  {
   "cell_type": "code",
   "execution_count": 8,
   "metadata": {
    "scrolled": true
   },
   "outputs": [
    {
     "name": "stdout",
     "output_type": "stream",
     "text": [
      "Alexa\tGood morning!\n",
      "\n",
      "What time is it?\n"
     ]
    }
   ],
   "source": []
  },
  {
   "cell_type": "markdown",
   "metadata": {},
   "source": [
    "#### Question:\n",
    "* Why above there is an empty line between `'Alexa\tGood morning!'` and `'What time is it?'`?\n",
    "* How to remove trailing `\\n` from each line?"
   ]
  },
  {
   "cell_type": "raw",
   "metadata": {},
   "source": []
  },
  {
   "cell_type": "markdown",
   "metadata": {},
   "source": [
    "### Write Multiple Lines\n",
    "\n",
    "To write a list of stirngs to a file, method `writelines()` can be used.\n",
    "\n",
    "**NOTE:** No character, e.g. `\\n`, will be added or removed.\n",
    "\n",
    "**Try Code:**\n",
    "\n",
    "```python\n",
    "s = ['Hello', 'World', '\\nfrom', '\\nSingapore']\n",
    "with open('test.txt', 'w') as f:\n",
    "    f.writelines(s)\n",
    "```\n",
    "\n",
    "Use `!notepad test.txt` to examine the content in the file."
   ]
  },
  {
   "cell_type": "code",
   "execution_count": 1,
   "metadata": {},
   "outputs": [],
   "source": []
  },
  {
   "cell_type": "code",
   "execution_count": 2,
   "metadata": {},
   "outputs": [],
   "source": []
  },
  {
   "cell_type": "markdown",
   "metadata": {},
   "source": [
    "## 3. Text File / Binary File\n",
    "\n",
    "By default, `open()` assumes the file is a **text** file. To work with **binary** files, e.g. images and sound files, adding `\"b\"` to the `mode`.\n",
    "* Use `rb` to read a binary file\n",
    "* Use `wb` to write binary content to a file\n",
    "\n",
    "**Excercise:**\n",
    "\n",
    "Write code to copy an image file `test.jpg` in `./images/` folder to current folder with name `dup.jpg`."
   ]
  },
  {
   "cell_type": "code",
   "execution_count": 15,
   "metadata": {},
   "outputs": [],
   "source": []
  }
 ],
 "metadata": {
  "kernelspec": {
   "display_name": "Python 3",
   "language": "python",
   "name": "python3"
  },
  "language_info": {
   "codemirror_mode": {
    "name": "ipython",
    "version": 3
   },
   "file_extension": ".py",
   "mimetype": "text/x-python",
   "name": "python",
   "nbconvert_exporter": "python",
   "pygments_lexer": "ipython3",
   "version": "3.8.3"
  }
 },
 "nbformat": 4,
 "nbformat_minor": 2
}
