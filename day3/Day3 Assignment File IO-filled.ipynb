{
 "cells": [
  {
   "cell_type": "markdown",
   "metadata": {},
   "source": [
    "# Assignment - Files IO"
   ]
  },
  {
   "cell_type": "markdown",
   "metadata": {},
   "source": [
    "## 1. \n",
    "\n",
    "Write following list `s` into a text file `q1.txt` with **each item occupying 1 line**. \n",
    "\n",
    "```python\n",
    "s = [chr(i) + '.txt' for i in range(ord('A'), ord('F'))]\n",
    "```\n",
    "\n",
    "Use following command to open `q1.txt` to verify the content in the file.\n",
    "\n",
    "```bash\n",
    "!notepad q1.txt\n",
    "```"
   ]
  },
  {
   "cell_type": "code",
   "execution_count": 8,
   "metadata": {},
   "outputs": [],
   "source": [
    "s = [chr(i) + '.txt' for i in range(ord('A'), ord('F'))]\n",
    "\n",
    "with open('q1.txt','w') as f:\n",
    "    for i in s:\n",
    "        f.write(i + '\\n')"
   ]
  },
  {
   "cell_type": "markdown",
   "metadata": {},
   "source": [
    "#### Test"
   ]
  },
  {
   "cell_type": "code",
   "execution_count": 9,
   "metadata": {},
   "outputs": [],
   "source": [
    "!notepad q1.txt"
   ]
  },
  {
   "cell_type": "markdown",
   "metadata": {},
   "source": [
    "## 2. \n",
    "\n",
    "For each line of text in `q1.txt`, generate an empty text file and name the file using that line of text. If file already exists, remove it before generate new file. \n",
    "\n",
    "Use following code to check if a file exists.\n",
    "\n",
    "```python\n",
    "import os\n",
    "if os.path.exists(file_path): pass\n",
    "```\n",
    "\n",
    "Use following command to confirm that you have generated all files.\n",
    "\n",
    "```bash\n",
    "!ls *.txt\n",
    "```"
   ]
  },
  {
   "cell_type": "code",
   "execution_count": 21,
   "metadata": {},
   "outputs": [],
   "source": [
    "import os\n",
    "with open('q1.txt') as f:\n",
    "    s = f.readlines()\n",
    "    for i in s:\n",
    "        i = i.strip()\n",
    "        if os.path.exists(i): os.remove(i)\n",
    "        with open(i, 'w') as x:\n",
    "            pass"
   ]
  },
  {
   "cell_type": "markdown",
   "metadata": {},
   "source": [
    "#### Test"
   ]
  },
  {
   "cell_type": "code",
   "execution_count": 2,
   "metadata": {
    "scrolled": false
   },
   "outputs": [
    {
     "name": "stdout",
     "output_type": "stream",
     "text": [
      "q1.txt\n",
      "quote.txt\n",
      "scope.txt\n",
      "test.txt\n"
     ]
    }
   ],
   "source": [
    "!ls *.txt"
   ]
  }
 ],
 "metadata": {
  "kernelspec": {
   "display_name": "Python 3",
   "language": "python",
   "name": "python3"
  },
  "language_info": {
   "codemirror_mode": {
    "name": "ipython",
    "version": 3
   },
   "file_extension": ".py",
   "mimetype": "text/x-python",
   "name": "python",
   "nbconvert_exporter": "python",
   "pygments_lexer": "ipython3",
   "version": "3.8.3"
  }
 },
 "nbformat": 4,
 "nbformat_minor": 2
}
